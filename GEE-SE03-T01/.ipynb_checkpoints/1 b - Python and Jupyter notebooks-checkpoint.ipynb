{
 "cells": [
  {
   "cell_type": "markdown",
   "id": "28d48d5b-d7e0-49b4-a09d-0cc24910c544",
   "metadata": {},
   "source": [
    "![](./figures/Logo.PNG)"
   ]
  },
  {
   "cell_type": "markdown",
   "id": "d4fe9f8d",
   "metadata": {},
   "source": [
    "## In this part of the tutorial, you will...\n",
    "- be introduced to the basics of python\n",
    "- learn about Jupyter notebooks\n",
    "\n",
    "This will be a quick review for those familiar with Python, while beginners can find links to further guidance and tutorials to gain more insight."
   ]
  },
  {
   "cell_type": "markdown",
   "id": "0fb5acef-7143-4285-9ced-57b86ad5a8d7",
   "metadata": {},
   "source": [
    "  - - -"
   ]
  },
  {
   "cell_type": "markdown",
   "id": "d0a048cf-01b7-4caa-a39a-ba005cacc746",
   "metadata": {},
   "source": [
    "# Tutorial 1b - Python and Jupyter notebooks"
   ]
  },
  {
   "cell_type": "markdown",
   "id": "8b8ece17-a009-448b-9204-b84a17c04c70",
   "metadata": {},
   "source": [
    "  - - -"
   ]
  },
  {
   "cell_type": "markdown",
   "id": "18667ed2-2fe0-44db-8586-3a890d1013c8",
   "metadata": {},
   "source": [
    "## 1 Python"
   ]
  },
  {
   "cell_type": "markdown",
   "id": "60cb7035-2f07-43fe-af6b-ec1dd5412721",
   "metadata": {
    "jp-MarkdownHeadingCollapsed": true
   },
   "source": [
    "### 1.1 About Python"
   ]
  },
  {
   "cell_type": "markdown",
   "id": "f0442c3b-de36-4acf-8f09-889e8cef1f29",
   "metadata": {},
   "source": [
    "[Python](https://www.python.org/) is a versatile and powerful programming language that is widely used and supported. Its simplicity and readability make it a popular choice for beginners, while its comprehensive standard library and support for multiple programming paradigms make it a powerful tool for experienced programmers.\n",
    "\n",
    "**Variables** are used to store data values that can be used throughout the program. They are created by assigning a value to a name, and the value can be of any data type, such as numbers, strings, or lists. Variables can be used to store intermediate results, input data, or output data. \n",
    "\n",
    "**Functions** in Python are blocks of code that perform a specific task. They are defined using the \"def\" keyword, followed by the function name and any parameters that the function takes. Functions can be called from other parts of the program, and they can return a value or modify the state of the program. \n",
    "\n",
    "**Packages** in Python are collections of modules that are used to organize code and make it easier to reuse. A module is a file containing Python definitions and statements. Packages are used to group related modules together, and they are organized using a hierarchical naming structure. Packages can be installed using the pip package manager, and they can be imported into Python programs using the \"import\" statement.\n"
   ]
  },
  {
   "cell_type": "markdown",
   "id": "fd03bdb4-27af-4d26-bbea-7f70dcf4705f",
   "metadata": {
    "jp-MarkdownHeadingCollapsed": true
   },
   "source": [
    "### 1.2 Installing Python 3"
   ]
  },
  {
   "cell_type": "markdown",
   "id": "b04ce8a7-e85b-407a-9725-ab8576d78aae",
   "metadata": {},
   "source": [
    "If you want to run a Jupyter notebook locally, you will need to have Python 3 installed on your machine. If you do not have Python 3 installed, you can visit https://realpython.com/installing-python/ "
   ]
  },
  {
   "cell_type": "markdown",
   "id": "be329688-f571-47d0-9170-3932a5896a26",
   "metadata": {},
   "source": [
    "### 1.3 Python examples"
   ]
  },
  {
   "cell_type": "markdown",
   "id": "dbf9ea41-a3f6-49cd-93da-8cc6b055ad22",
   "metadata": {},
   "source": [
    "Now we will quickly introduce some python features used in the tutorial:\n",
    "- Importing packages\n",
    "- Defining variables and using them to calculate\n",
    "- Defining and using functions\n",
    "- Plotting\n",
    "\n",
    "Select the Python script cells by clicking on it, then **execute the code** inside by either clicking on the **Play button** (located in the top left of your browser) or hitting **Ctrl + Enter** on your keyboard. "
   ]
  },
  {
   "cell_type": "markdown",
   "id": "31951504",
   "metadata": {},
   "source": [
    "**Import packages** \n",
    "\n",
    "Importing all reqiured packages is typically the first step in python scripts. After this step, you can use the functionality implemented in these packages. Below, we give the imported package \"matplotlib.pyplot\" the name \"plt\""
   ]
  },
  {
   "cell_type": "code",
   "execution_count": 1,
   "id": "bc9fa665",
   "metadata": {},
   "outputs": [],
   "source": [
    "import matplotlib.pyplot as plt  # importing the package matplotlib.pyplot as plt\n",
    "import random"
   ]
  },
  {
   "cell_type": "markdown",
   "id": "5175431a-ca5f-465e-aab7-5799a37818dd",
   "metadata": {},
   "source": [
    "**Defining variables and calculating**\n",
    "\n",
    "Defining variables is very easy. Simple type the variable name (e.g. a) followed by an equal sign and the value.\n",
    "You can change the values of a and b to alter the output printed below the cell."
   ]
  },
  {
   "cell_type": "code",
   "execution_count": 2,
   "id": "9a095f9f-f3ca-4cbd-860a-e1bb05a0d1b4",
   "metadata": {},
   "outputs": [
    {
     "name": "stdout",
     "output_type": "stream",
     "text": [
      "The result of a+b is: 3\n"
     ]
    }
   ],
   "source": [
    "a = 1\n",
    "b = 2\n",
    "c = a + b\n",
    "print(f\"The result of a+b is: {c}\")"
   ]
  },
  {
   "cell_type": "markdown",
   "id": "2daee588-46b4-4e78-b3f7-bbf370627e37",
   "metadata": {},
   "source": [
    "**Defining functions**\n",
    "\n",
    "Shown below are very simple examples of how functions can be defined. Feel free to add more functions and test them with the next code block.\n",
    "\n",
    "Every function needs a \"def\" followed by the function name, the variables in brackets, and a colon. Variables can have default values\n",
    "\n",
    "Some functions return values. "
   ]
  },
  {
   "cell_type": "code",
   "execution_count": 3,
   "id": "98dfec95-cc0b-4df1-9be9-2fa6690bf547",
   "metadata": {},
   "outputs": [],
   "source": [
    "def sum(x, y):  \n",
    "    return x + y \n",
    "\n",
    "def multiplication(x = 0, y = 0):  # default values of x and y is 0\n",
    "    return x * y\n",
    "\n",
    "def apply_fun(x, y, fun): # this function applies another function \"fun\"\n",
    "    return fun(x, y)"
   ]
  },
  {
   "cell_type": "markdown",
   "id": "0d9aa3e6-71dc-456c-a510-407382e48e80",
   "metadata": {},
   "source": [
    "**Using functions**"
   ]
  },
  {
   "cell_type": "code",
   "execution_count": 4,
   "id": "397f5218-e02b-46ea-9f33-00cebc9d95ac",
   "metadata": {},
   "outputs": [
    {
     "name": "stdout",
     "output_type": "stream",
     "text": [
      "The result of the sum is: 3\n",
      "The result of the multiplication is: 2\n"
     ]
    }
   ],
   "source": [
    "sum_result = apply_fun(a, b, sum)\n",
    "print(f\"The result of the sum is: {sum_result}\")\n",
    "\n",
    "multiplication_result = apply_fun(a, b, multiplication)\n",
    "print(f\"The result of the multiplication is: {multiplication_result}\")"
   ]
  },
  {
   "cell_type": "markdown",
   "id": "805eb90f-d2e0-488d-9303-e172b83d172a",
   "metadata": {},
   "source": [
    "**Plotting**\n",
    "\n",
    "When you execute the script below multiple times, the dot will move since its location is determined by two variables with random values between 0 and 10. "
   ]
  },
  {
   "cell_type": "code",
   "execution_count": 5,
   "id": "6e5687d5-d874-445e-a7a3-a934ac778c03",
   "metadata": {},
   "outputs": [
    {
     "name": "stdout",
     "output_type": "stream",
     "text": [
      "n = 4, m = 2\n"
     ]
    },
    {
     "data": {
      "image/png": "[encoded data removed]",
      "text/plain": [
       "<Figure size 300x300 with 1 Axes>"
      ]
     },
     "metadata": {},
     "output_type": "display_data"
    }
   ],
   "source": [
    "min = 0  # defining minimum value\n",
    "max = 10  # defining maximum value\n",
    "n = random.randint(min,max)  # generating random value in range (min, max)\n",
    "m = random.randint(min,max)  # generating random value in range (min, max)\n",
    "print(f\"n = {n}, m = {m}\")  # printing both generated values\n",
    "plt.figure(figsize=(3,3))  # create figure and set its size \n",
    "plt.scatter(n,m)  # plot the dot\n",
    "plt.xlim(min, max)  # set limits for x axis\n",
    "plt.ylim(min, max)  # set limits for y axis\n",
    "plt.xlabel(\"n\")  # add label to x axis\n",
    "plt.ylabel(\"m\") # add label to y axis\n",
    "plt.show()  # show the plot"
   ]
  },
  {
   "cell_type": "markdown",
   "id": "76cd4eac-f473-42dc-996c-a3f97db4d0d2",
   "metadata": {},
   "source": [
    "**If statements**\n",
    "\n",
    "The \"if\" statement is used to test a condition and execute a block of code if the condition is true. The syntax of the \"if\" statement is as follows:\n",
    "```\n",
    "if condition:\n",
    "    # code to execute if condition is true\n",
    "```\n",
    "The \"if\" statement can also be combined with the \"else\" statement to execute a different block of code if the condition is false. The syntax of the \"if-else\" statement is as follows:\n",
    "```\n",
    "if condition:\n",
    "    # code to execute if condition is true\n",
    "else:\n",
    "    # code to execute if condition is false\n",
    "```"
   ]
  },
  {
   "cell_type": "code",
   "execution_count": 6,
   "id": "c6dccb48-efd7-4089-80a6-d4a51070fe3c",
   "metadata": {},
   "outputs": [
    {
     "name": "stdout",
     "output_type": "stream",
     "text": [
      "condition is True\n"
     ]
    }
   ],
   "source": [
    "condition = True\n",
    "if condition:\n",
    "    print(\"condition is True\")\n",
    "else:\n",
    "    print(\"condition is not True\")"
   ]
  },
  {
   "cell_type": "markdown",
   "id": "e46b83a8-0b7f-4bc4-a06d-54438dccad21",
   "metadata": {},
   "source": [
    "**For loops**\n",
    "\n",
    "The \"for\" statement is used to iterate over a sequence of values and execute a block of code for each value. The syntax of the \"for\" statement is as follows:\n",
    "```\n",
    "for variable in sequence:\n",
    "    # code to execute for each value in sequence\n",
    "```\n",
    "The \"for\" statement can also be combined with the \"if\" statement to execute a block of code only for certain values in the sequence. The syntax of the \"for-if\" statement is as follows:\n",
    "```\n",
    "for variable in sequence:\n",
    "    if condition:\n",
    "        # code to execute for values that meet the condition\n",
    "```"
   ]
  },
  {
   "cell_type": "code",
   "execution_count": 7,
   "id": "c555ac1d-8304-4e20-a60c-623efca8f27b",
   "metadata": {},
   "outputs": [
    {
     "name": "stdout",
     "output_type": "stream",
     "text": [
      "0\n",
      "1\n",
      "2\n"
     ]
    }
   ],
   "source": [
    "int_list = [0, 1, 2]\n",
    "\n",
    "for int_item in int_list:\n",
    "    print(int_item)"
   ]
  },
  {
   "cell_type": "markdown",
   "id": "ba437ef5-e486-4352-bf69-d7bcca368c1f",
   "metadata": {},
   "source": [
    "---"
   ]
  },
  {
   "cell_type": "markdown",
   "id": "6b46acc9-a91d-41a9-9f95-a3508f30267e",
   "metadata": {},
   "source": [
    "#### <div class=\"blue\"><span style=\"color:blue\">Exercise section</span></div>\n",
    "\n",
    "#### Exercise 1 - Python for beginners\n",
    "\n",
    "(a) Define a function to divide two variables. What happens if you allow division by zero?\n",
    "\n",
    "(b) Define a function to calculate the [Pythagorean theorem](https://en.wikipedia.org/wiki/Pythagorean_theorem).\n"
   ]
  },
  {
   "cell_type": "markdown",
   "id": "de157cde-e420-47e3-8047-44244f39d13d",
   "metadata": {},
   "source": [
    "---"
   ]
  },
  {
   "cell_type": "markdown",
   "id": "778f4626-7493-42f8-9649-357e27630eaf",
   "metadata": {
    "jp-MarkdownHeadingCollapsed": true
   },
   "source": [
    "### 1.4 Python cheat sheets and tutorials"
   ]
  },
  {
   "cell_type": "markdown",
   "id": "ce899c9e-353b-4599-9842-38b1c6b84f31",
   "metadata": {},
   "source": [
    "To understand the code in the following tutorials, a more advanced knowledge of Python will be required. We collected a couple of website containing cheat-sheets and learning material below. \n",
    "\n",
    "Cheat-sheets: https://websitesetup.org/python-cheat-sheet/, https://www.pythoncheatsheet.org/, https://www.pythontutorial.net/python-basics/python-syntax/\n",
    "\n",
    "YouTube: https://www.youtube.com/watch?v=kqtD5dpn9C8\n",
    "\n",
    "edX course with videos: https://authn.edx.org/register, once registered search “Python Basics for Data Science”"
   ]
  },
  {
   "cell_type": "markdown",
   "id": "31c7b101-fa97-4c16-876c-7e71c2bb7fbe",
   "metadata": {},
   "source": [
    "---"
   ]
  },
  {
   "attachments": {},
   "cell_type": "markdown",
   "id": "d208c773",
   "metadata": {},
   "source": [
    "## 2 Jupyter notebooks"
   ]
  },
  {
   "cell_type": "markdown",
   "id": "11fb3fc6-6ac0-4813-a165-67d9714d71a4",
   "metadata": {
    "jp-MarkdownHeadingCollapsed": true
   },
   "source": [
    "### 2.1 About Jupyter"
   ]
  },
  {
   "cell_type": "markdown",
   "id": "8206812e-14e2-47e6-bab9-4229f19e2517",
   "metadata": {},
   "source": [
    "Jupyter is an interactive computational environment that supports multiple programming languages, including [Python](https://www.python.org/). A Jupyter Notebook has two components: a front-end web page and a back-end kernel. The front-end web page is where users interact with the notebook, while the back-end kernel executes the code and returns the results to the front-end.\n",
    "\n",
    "In this tutorial, we will use Jupyter notebooks to combine [Python](https://www.python.org/) scripts with text fields guiding through them. \n",
    "There are two types of cells we use in this tutorial: \n",
    "- [Markdown](https://www.markdownguide.org/getting-started/) cells (this this current one), enabling simple text formatting\n",
    "- [Python](https://www.python.org/) script cells, enabling code to be run\n",
    "\n",
    "\n",
    "\n"
   ]
  },
  {
   "cell_type": "markdown",
   "id": "53c2d5f3-119f-44b3-9bd1-95e78c79258d",
   "metadata": {
    "jp-MarkdownHeadingCollapsed": true
   },
   "source": [
    "### 2.2 Installing Jupyter notebooks"
   ]
  },
  {
   "cell_type": "markdown",
   "id": "a60f919b-b60f-459f-8a59-f9c6812e9063",
   "metadata": {},
   "source": [
    "If you want to run the notebooks locally, you will need to install Jupyter notebooks. To achieve this, please follow the instructions on the [official website](https://jupyter.org/install)."
   ]
  },
  {
   "cell_type": "markdown",
   "id": "148c3542-5793-4790-ae5c-55ae86000219",
   "metadata": {
    "jp-MarkdownHeadingCollapsed": true
   },
   "source": [
    "### 2.3 Tips for using Jupyter notebooks"
   ]
  },
  {
   "cell_type": "markdown",
   "id": "2823f711-8730-4e59-b780-424086212a0d",
   "metadata": {},
   "source": [
    "- To start Jupyter, type **python -m notebook** or **python3 -m notebook** or **jupyter notebook** (whatever works) into your command terminal and press enter\n",
    "- To run a markdown or python script cell in Jupyter notebooks, click on the **Play button** (located in the top left of your browser) or hit **Ctrl + Enter** on your keyboard. \n",
    "- To restart the kernel and run all cells in a Jupyter notebook: click on the **fast forward sign** in the options at the top left\n",
    "- Make sure, you run the python scrips cells from top to bottom. If you miss a cell, later cells may produce errors (since variables or functions may be defined in the earlier cell)"
   ]
  },
  {
   "cell_type": "markdown",
   "id": "286a8232-1164-421b-9621-59ed27bac57b",
   "metadata": {
    "jp-MarkdownHeadingCollapsed": true
   },
   "source": [
    "### 2.4 Interactive widgets"
   ]
  },
  {
   "cell_type": "markdown",
   "id": "ed77baad-8241-4986-a67b-5e54134778ec",
   "metadata": {},
   "source": [
    "While we expect you to be familiar with python, we will use features that are special in Jupyter notebooks: interactive widgets imported from the package **ipywidgets**. Among others, it contains the function **interact**, allowing direct interactions with functions using sliders to manipulate the parameters of functions. Further special features are dropdown menus, checkboxes and a datepicker"
   ]
  },
  {
   "cell_type": "markdown",
   "id": "6222d241-8600-4742-9511-89011b374643",
   "metadata": {},
   "source": [
    "**Import certain functions from ipywidgets**"
   ]
  },
  {
   "cell_type": "code",
   "execution_count": 8,
   "id": "219ebc51-d552-4819-a69c-7045fc0500bf",
   "metadata": {},
   "outputs": [],
   "source": [
    "from ipywidgets import interact, Dropdown"
   ]
  },
  {
   "cell_type": "markdown",
   "id": "7871e66f-14c5-4b58-a071-b6a831173283",
   "metadata": {},
   "source": [
    "**Define a dropdown menu and display it**\n",
    "\n",
    "What is our favorite [earth system](https://en.wikipedia.org/wiki/Earth_system_science)?\n",
    "\n",
    "By selecting an option from the dropdown menu, we can give the variable \"sphere_dropdown\" a new value."
   ]
  },
  {
   "cell_type": "code",
   "execution_count": 9,
   "id": "7e14dff7-1573-4b50-afa8-87e70099f398",
   "metadata": {},
   "outputs": [
    {
     "data": {
      "application/vnd.jupyter.widget-view+json": {
       "model_id": "3127f5ca47384af78e43349d41cf82d3",
       "version_major": 2,
       "version_minor": 0
      },
      "text/plain": [
       "Dropdown(description='Spheres:', options=('atmosphere', 'hydrosphere', 'cryosphere', 'geosphere', 'pedosphere'…"
      ]
     },
     "metadata": {},
     "output_type": "display_data"
    }
   ],
   "source": [
    "sphere_names = [\"atmosphere\", \"hydrosphere\", \"cryosphere\", \"geosphere\", \"pedosphere\", \"lithosphere\", \"biosphere\", \"magnetosphere\"]\n",
    "sphere_dropdown = Dropdown(\n",
    "    options=sphere_names,\n",
    "    value=sphere_names[0],\n",
    "    description='Spheres:',\n",
    "    disabled=False)\n",
    "\n",
    "display(sphere_dropdown)"
   ]
  },
  {
   "cell_type": "markdown",
   "id": "e4cd105a-ee20-4bde-8403-d7fd57522758",
   "metadata": {},
   "source": [
    "**Get and print the catchment name**\n",
    "\n",
    "We can access that value by typing \"sphere_dropdown.value\""
   ]
  },
  {
   "cell_type": "code",
   "execution_count": 10,
   "id": "60862bed-068e-41ba-91bd-bad4cab9a91b",
   "metadata": {},
   "outputs": [
    {
     "name": "stdout",
     "output_type": "stream",
     "text": [
      "Selected sphere: atmosphere\n"
     ]
    }
   ],
   "source": [
    "sphere_name = sphere_dropdown.value  # accessing the value stored in sphere_dropdown\n",
    "print(f\"Selected sphere: {sphere_name}\")"
   ]
  },
  {
   "cell_type": "markdown",
   "id": "1a9ffc31-9a5f-4808-97e7-04e5df9cecd6",
   "metadata": {},
   "source": [
    "**Define an interactive function**\n",
    "\n",
    "Interactive functions are a great way to "
   ]
  },
  {
   "cell_type": "code",
   "execution_count": 11,
   "id": "d53c83a0-ea6f-4e6d-9212-5883ac89959d",
   "metadata": {},
   "outputs": [
    {
     "data": {
      "application/vnd.jupyter.widget-view+json": {
       "model_id": "e9a9dd7ffb644844bb0206ad6f6305df",
       "version_major": 2,
       "version_minor": 0
      },
      "text/plain": [
       "interactive(children=(FloatSlider(value=2.0, description='a', max=10.0, min=0.1), Output()), _dom_classes=('wi…"
      ]
     },
     "metadata": {},
     "output_type": "display_data"
    }
   ],
   "source": [
    "@interact(a = (0.1, 10, 0.1))    \n",
    "def square(a = 2):\n",
    "    fig = plt.figure(figsize=(2,2))  # create figure and set its size \n",
    "    b = a*a\n",
    "    plt.scatter(a,b)  # plot the dot\n",
    "    plt.xlim(0, 10)\n",
    "    plt.ylim(0, 100)\n",
    "    plt.xlabel(\"base\")\n",
    "    plt.ylabel(\"square\")\n",
    "    plt.show()  # show the plot"
   ]
  },
  {
   "cell_type": "markdown",
   "id": "f93fcb3e-7e5b-44df-a59a-80a80a524dd7",
   "metadata": {},
   "source": [
    "## Jupyter format settings"
   ]
  },
  {
   "cell_type": "code",
   "execution_count": 12,
   "id": "38e54140-157f-4775-9354-073b7729d77d",
   "metadata": {},
   "outputs": [
    {
     "data": {
      "text/html": [
       "<style>.blue {background-color: #8dc9fc;}</style>\n"
      ],
      "text/plain": [
       "<IPython.core.display.HTML object>"
      ]
     },
     "metadata": {},
     "output_type": "display_data"
    }
   ],
   "source": [
    "%%html \n",
    "<style>.blue {background-color: #8dc9fc;}</style>"
   ]
  }
 ],
 "metadata": {
  "kernelspec": {
   "display_name": "Python 3 (ipykernel)",
   "language": "python",
   "name": "python3"
  },
  "language_info": {
   "codemirror_mode": {
    "name": "ipython",
    "version": 3
   },
   "file_extension": ".py",
   "mimetype": "text/x-python",
   "name": "python",
   "nbconvert_exporter": "python",
   "pygments_lexer": "ipython3",
   "version": "3.9.13"
  }
 },
 "nbformat": 4,
 "nbformat_minor": 5
}
