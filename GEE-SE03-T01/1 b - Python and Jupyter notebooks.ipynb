{
  "cells": [
    {
      "cell_type": "markdown",
      "id": "28d48d5b-d7e0-49b4-a09d-0cc24910c544",
      "metadata": {
        "editable": false
      },
      "source": "![](./figures/Logo.PNG)"
    },
    {
      "cell_type": "markdown",
      "id": "d4fe9f8d",
      "metadata": {
        "editable": false
      },
      "source": "Please click the <span>&#x23E9;</span> button to run all cells before you start working on the notebook ...\n\n## In this part of the tutorial, you will...\n- be introduced to the basics of python\n- learn about Jupyter notebooks"
    },
    {
      "cell_type": "markdown",
      "id": "0fb5acef-7143-4285-9ced-57b86ad5a8d7",
      "metadata": {
        "editable": false
      },
      "source": "  - - -"
    },
    {
      "cell_type": "markdown",
      "id": "d0a048cf-01b7-4caa-a39a-ba005cacc746",
      "metadata": {
        "editable": false
      },
      "source": "# Tutorial 1b - Python and Jupyter notebooks"
    },
    {
      "cell_type": "markdown",
      "id": "8b8ece17-a009-448b-9204-b84a17c04c70",
      "metadata": {
        "editable": false,
        "slideshow": {
          "slide_type": ""
        },
        "tags": []
      },
      "source": "  - - -"
    },
    {
      "cell_type": "markdown",
      "id": "18667ed2-2fe0-44db-8586-3a890d1013c8",
      "metadata": {
        "editable": false
      },
      "source": "## 1. Python"
    },
    {
      "cell_type": "markdown",
      "id": "60cb7035-2f07-43fe-af6b-ec1dd5412721",
      "metadata": {
        "editable": false
      },
      "source": "### 1.1. About Python"
    },
    {
      "cell_type": "markdown",
      "id": "f0442c3b-de36-4acf-8f09-889e8cef1f29",
      "metadata": {
        "editable": false
      },
      "source": "[Python](https://www.python.org/) is a versatile and powerful programming language that is widely used and supported. Its simplicity and readability make it a popular choice for beginners, while its comprehensive standard library and support for multiple programming paradigms make it a powerful tool for experienced programmers.\n\nHere are three of Pythons building blocks that you should be familiar with:\n\n1. **Variables** are used to store data values that can be used throughout the program. They are created by assigning a value to a name, and the value can be of any data type, such as numbers, strings, or lists. Variables can be used to store intermediate results, input data, or output data. \n\n2. **Functions** in Python are blocks of code that perform a specific task. They are defined using the \"def\" keyword, followed by the function name and any parameters that the function takes. Functions can be called from other parts of the program, and they can return a value or modify the state of the program. \n\n3. **Packages** in Python are collections of modules that are used to organize code and make it easier to reuse. A module is a file containing Python definitions and statements. Packages are used to group related modules together, and they are organized using a hierarchical naming structure. Packages can be installed using the pip package manager, and they can be imported into Python programs using the \"import\" statement."
    },
    {
      "cell_type": "markdown",
      "id": "be329688-f571-47d0-9170-3932a5896a26",
      "metadata": {
        "editable": false
      },
      "source": "### 1.2. Python examples"
    },
    {
      "cell_type": "markdown",
      "id": "dbf9ea41-a3f6-49cd-93da-8cc6b055ad22",
      "metadata": {
        "editable": false
      },
      "source": "Now we will quickly introduce some python features used in the tutorial:\n- Importing packages\n- Defining variables and using them to calculate\n- Defining and using functions\n- Plotting\n\nSelect the Python script cells by clicking on it, then **execute the code** inside by either clicking on the **Play button** (located in the top left of your browser) or hitting **Ctrl + Enter** (Cmd + Enter on Mac) on your keyboard. "
    },
    {
      "cell_type": "markdown",
      "id": "31951504",
      "metadata": {
        "editable": false
      },
      "source": "**Import packages** \n\nImporting all reqiured packages is typically the first step in python scripts. After this step, you can use the functionality implemented in these packages. Below, we give the imported package \"matplotlib.pyplot\" the name \"plt\""
    },
    {
      "cell_type": "code",
      "execution_count": 1,
      "id": "bc9fa665",
      "metadata": {
        "ExecuteTime": {
          "end_time": "2024-09-10T12:19:44.400672Z",
          "start_time": "2024-09-10T12:19:44.395127Z"
        }
      },
      "outputs": [],
      "source": "import random\nimport matplotlib.pyplot as plt  # importing the package matplotlib.pyplot and rename it to plt for easy access"
    },
    {
      "cell_type": "markdown",
      "id": "5175431a-ca5f-465e-aab7-5799a37818dd",
      "metadata": {
        "editable": false
      },
      "source": "**Defining variables and calculating**\n\nDefining variables is very easy. Simple type the variable name (e.g. a) followed by an equal sign and the value.\nPyhon is a dynamically typed language, meaning that you do not need to specified whether your variable is a number, text or something entirely else.\n\nYou can change the values of `a` and `b` to alter the output printed below the cell."
    },
    {
      "cell_type": "code",
      "execution_count": 2,
      "id": "9a095f9f-f3ca-4cbd-860a-e1bb05a0d1b4",
      "metadata": {
        "ExecuteTime": {
          "end_time": "2024-09-10T12:19:44.427130Z",
          "start_time": "2024-09-10T12:19:44.423657Z"
        }
      },
      "outputs": [
        {
          "name": "stdout",
          "output_type": "stream",
          "text": "The result of a+b is: 3\n"
        }
      ],
      "source": "a = 1\nb = 2\nc = a + b\nprint(f\"The result of a+b is: {c}\") # format strings allow for easy inclusion of variable in an output"
    },
    {
      "cell_type": "markdown",
      "id": "f4a2b382-ba05-4932-8b9b-f305891655a9",
      "metadata": {
        "editable": false
      },
      "source": "**Defining functions**\n\nShown below are very simple examples of how functions can be defined. Feel free to add more functions and test them with the next code block. \n\nYou should remember these things about functions:\n- Every function has a clear **structure**. It needs a `def` followed by the function name, the arguments in brackets, and a colon.\n- You can assign **default values** to arguments using an equal sign.\n- The **result of a function** is returned using the `return` statement, after which the function does not continue its work. Not all functions necessarily return something."
    },
    {
      "cell_type": "code",
      "execution_count": 3,
      "id": "98dfec95-cc0b-4df1-9be9-2fa6690bf547",
      "metadata": {
        "ExecuteTime": {
          "end_time": "2024-09-10T12:19:44.432044Z",
          "start_time": "2024-09-10T12:19:44.428539Z"
        }
      },
      "outputs": [],
      "source": "def sum(x, y):  \n    return x + y \n\ndef multiplication(x = 0, y = 0):  # default values of x and y is 0\n    return x * y\n\ndef apply_fun(x, y, fun): # this function applies another function \"fun\"\n    return fun(x, y)"
    },
    {
      "cell_type": "markdown",
      "id": "0d9aa3e6-71dc-456c-a510-407382e48e80",
      "metadata": {
        "editable": false
      },
      "source": "**Using functions**"
    },
    {
      "cell_type": "code",
      "execution_count": 4,
      "id": "397f5218-e02b-46ea-9f33-00cebc9d95ac",
      "metadata": {
        "ExecuteTime": {
          "end_time": "2024-09-10T12:19:44.436332Z",
          "start_time": "2024-09-10T12:19:44.433544Z"
        }
      },
      "outputs": [
        {
          "name": "stdout",
          "output_type": "stream",
          "text": "The result of the sum is: 3\nThe result of the multiplication is: 2\n"
        }
      ],
      "source": "sum_result = apply_fun(a, b, sum)\nprint(f\"The result of the sum is: {sum_result}\")\n\nmultiplication_result = apply_fun(a, b, multiplication)\nprint(f\"The result of the multiplication is: {multiplication_result}\")"
    },
    {
      "cell_type": "markdown",
      "id": "805eb90f-d2e0-488d-9303-e172b83d172a",
      "metadata": {
        "editable": false
      },
      "source": "**Plotting**\n\nWhen you execute the script below multiple times, the dot will move since its location is determined by two variables with random values between 0 and 10. "
    },
    {
      "cell_type": "code",
      "execution_count": 5,
      "id": "6e5687d5-d874-445e-a7a3-a934ac778c03",
      "metadata": {
        "ExecuteTime": {
          "end_time": "2024-09-10T12:19:44.528086Z",
          "start_time": "2024-09-10T12:19:44.437258Z"
        }
      },
      "outputs": [
        {
          "name": "stdout",
          "output_type": "stream",
          "text": "n = 1, m = 6\n"
        },
        {
          "data": {
            "image/png": "[encoded data removed]",
            "text/plain": "<Figure size 300x300 with 1 Axes>"
          },
          "metadata": {},
          "output_type": "display_data"
        }
      ],
      "source": "minimum = 0   # defining minimum value\nmaximum = 10  # defining maximum value\nn = random.randint(minimum, maximum)  # generating random value in range (min, max)\nm = random.randint(minimum, maximum)  # generating random value in range (min, max)\nprint(f\"n = {n}, m = {m}\")  # printing both generated values\n\nplt.figure(figsize=(3,3))  # create figure and set its size \nplt.scatter(n,m)  # plot the dot\nplt.xlim(minimum, maximum)  # set limits for x axis\nplt.ylim(minimum, maximum)  # set limits for y axis\nplt.xlabel(\"n\")  # add label to x axis\nplt.ylabel(\"m\") # add label to y axis\nplt.show()  # show the plot"
    },
    {
      "cell_type": "markdown",
      "id": "76cd4eac-f473-42dc-996c-a3f97db4d0d2",
      "metadata": {
        "editable": false
      },
      "source": "**If statements**\n\nThe \"if\" statement is used to test a condition and execute a block of code if the condition is true. The syntax of the \"if\" statement is as follows:\n```python\nif condition:\n    # code to execute if condition is true\n```\nThe \"if\" statement can also be combined with the \"else\" statement to execute a different block of code if the condition is false. The syntax of the \"if-else\" statement is as follows:\n```python\nif condition:\n    # code to execute if condition is true\nelse:\n    # code to execute if condition is false\n```"
    },
    {
      "cell_type": "code",
      "execution_count": 6,
      "id": "c6dccb48-efd7-4089-80a6-d4a51070fe3c",
      "metadata": {
        "ExecuteTime": {
          "end_time": "2024-09-10T12:19:44.533179Z",
          "start_time": "2024-09-10T12:19:44.529909Z"
        }
      },
      "outputs": [
        {
          "name": "stdout",
          "output_type": "stream",
          "text": "condition is True\n"
        }
      ],
      "source": "condition = True\nif condition:\n    print(\"condition is True\")\nelse:\n    print(\"condition is not True\")"
    },
    {
      "cell_type": "markdown",
      "id": "e46b83a8-0b7f-4bc4-a06d-54438dccad21",
      "metadata": {
        "editable": false
      },
      "source": "**For loops**\n\nThe \"for\" statement is used to iterate over a sequence of values and execute a block of code for each value. The syntax of the \"for\" statement is as follows:\n```python\nfor variable in sequence:\n    # code to execute for each value in sequence\n```\nThe \"for\" statement can also be combined with the \"if\" statement to execute a block of code only for certain values in the sequence. The syntax of the \"for-if\" statement is as follows:\n```python\nfor variable in sequence:\n    if condition:\n        # code to execute for values that meet the condition\n```"
    },
    {
      "cell_type": "code",
      "execution_count": 7,
      "id": "c555ac1d-8304-4e20-a60c-623efca8f27b",
      "metadata": {
        "ExecuteTime": {
          "end_time": "2024-09-10T12:19:44.537793Z",
          "start_time": "2024-09-10T12:19:44.534287Z"
        }
      },
      "outputs": [
        {
          "name": "stdout",
          "output_type": "stream",
          "text": "0\n1\n2\n"
        }
      ],
      "source": "int_list = [0, 1, 2]\n\nfor int_item in int_list:\n    print(int_item)"
    },
    {
      "cell_type": "markdown",
      "id": "10b3c6a0-121b-44dd-af88-9dfeb9225057",
      "metadata": {
        "editable": false,
        "jp-MarkdownHeadingCollapsed": true
      },
      "source": "<div style=\"background:#e0f2fe; padding:1%; border:1mm solid SkyBlue\">\n    <h4><span>&#129300</span> Task I: Python for Beginners</h4>\n    <ol>\n        <li>Define a function to divide two variables. What happens if you allow division by zero?</li>\n        <li>Define a function to calculate the <a href=\"https://en.wikipedia.org/wiki/Pythagorean_theorem\">Pythagorean Theorem</a>.</li>\n    </ol>\n</div>"
    },
    {
      "cell_type": "markdown",
      "id": "778f4626-7493-42f8-9649-357e27630eaf",
      "metadata": {
        "editable": false
      },
      "source": "### 1.3. Python cheat sheets and tutorials"
    },
    {
      "cell_type": "markdown",
      "id": "ce899c9e-353b-4599-9842-38b1c6b84f31",
      "metadata": {
        "editable": false
      },
      "source": "To understand the code in the following tutorials, a more advanced knowledge of Python will be required. We collected a couple of website containing cheat-sheets and learning material below. \n\nCheat-sheets: https://websitesetup.org/python-cheat-sheet/, https://www.pythoncheatsheet.org/, https://www.pythontutorial.net/python-basics/python-syntax/\n\nYouTube: https://www.youtube.com/watch?v=kqtD5dpn9C8\n\nedX course with videos: https://authn.edx.org/register, once registered search \u201cPython Basics for Data Science\u201d"
    },
    {
      "cell_type": "markdown",
      "id": "31c7b101-fa97-4c16-876c-7e71c2bb7fbe",
      "metadata": {
        "editable": false
      },
      "source": "---"
    },
    {
      "attachments": {},
      "cell_type": "markdown",
      "id": "d208c773",
      "metadata": {
        "editable": false
      },
      "source": "## 2 Jupyter notebooks"
    },
    {
      "cell_type": "markdown",
      "id": "11fb3fc6-6ac0-4813-a165-67d9714d71a4",
      "metadata": {
        "editable": false
      },
      "source": "### 2.1 About Jupyter"
    },
    {
      "cell_type": "markdown",
      "id": "8206812e-14e2-47e6-bab9-4229f19e2517",
      "metadata": {
        "editable": false,
        "slideshow": {
          "slide_type": ""
        },
        "tags": []
      },
      "source": "Jupyter is an interactive computational environment that supports multiple programming languages, including [Python](https://www.python.org/). A Jupyter Notebook has two components: a front-end web page and a back-end kernel. The front-end web page is where users interact with the notebook, while the back-end kernel executes the code and returns the results to the front-end.\n\nIn this tutorial, we will use Jupyter notebooks to combine [Python](https://www.python.org/) scripts with text fields guiding through them. \nThere are two types of cells we use in this tutorial: \n- [Markdown](https://www.markdownguide.org/getting-started/) cells (this this current one), enabling simple text formatting\n- [Python](https://www.python.org/) script cells, enabling code to be run"
    },
    {
      "cell_type": "markdown",
      "id": "148c3542-5793-4790-ae5c-55ae86000219",
      "metadata": {
        "editable": false
      },
      "source": "### 2.2 Tips for using Jupyter notebooks"
    },
    {
      "cell_type": "markdown",
      "id": "2823f711-8730-4e59-b780-424086212a0d",
      "metadata": {
        "editable": false
      },
      "source": "- To start Jupyter, type **python -m notebook** or **python3 -m notebook** or **jupyter notebook** (whatever works) into your command terminal and press enter\n- To run a markdown or python script cell in Jupyter notebooks, click on the **Play button** (located in the top left of your browser) or hit **Ctrl + Enter** on your keyboard. \n- To restart the kernel and run all cells in a Jupyter notebook: click on the **fast forward sign** in the options at the top left\n- Make sure, you run the python scrips cells from top to bottom. If you miss a cell, later cells may produce errors (since variables or functions may be defined in the earlier cell)"
    },
    {
      "cell_type": "markdown",
      "id": "286a8232-1164-421b-9621-59ed27bac57b",
      "metadata": {
        "editable": false
      },
      "source": "### 2.3 Interactive Widgets"
    },
    {
      "cell_type": "markdown",
      "id": "ed77baad-8241-4986-a67b-5e54134778ec",
      "metadata": {
        "editable": false,
        "slideshow": {
          "slide_type": ""
        },
        "tags": []
      },
      "source": "While we expect you to be familiar with python, we will use features that are special in Jupyter notebooks: interactive widgets imported from the package **ipywidgets**. Among others, it contains the function **interact**, allowing direct interactions with functions using sliders to manipulate the parameters of functions. Further special features are dropdown menus, checkboxes and a datepicker"
    },
    {
      "cell_type": "markdown",
      "id": "7871e66f-14c5-4b58-a071-b6a831173283",
      "metadata": {
        "editable": false,
        "jupyter": {
          "source_hidden": true
        }
      },
      "source": "**Dropdown Widgets**\n\nMost of the code that we prepared for you uses these interactive widgets, so that you can click through the notebook more easily. Additionally, this reduces the amount of coding that you need to do yourself.\n\nThe code that generates these widgets is hidden in cells that start with the comment `#DO NOT ALTER!`. If you are eager to learn about how these interactive widgets are implemented, you may uncollapse the cells. To do so, click on the outside area left of the cell. They are however protected, so that you can't change their contents. This is for your own safety <span>&#x1F609;<span>\n\nAs an example, we ask you: what is your favorite [earth system](https://en.wikipedia.org/wiki/Earth_system_science)? Please select the answer in the dropdown below."
    },
    {
      "cell_type": "code",
      "execution_count": 8,
      "id": "7e14dff7-1573-4b50-afa8-87e70099f398",
      "metadata": {
        "ExecuteTime": {
          "end_time": "2024-09-10T12:19:44.549043Z",
          "start_time": "2024-09-10T12:19:44.543993Z"
        },
        "jupyter": {
          "source_hidden": true
        },
        "editable": false
      },
      "outputs": [
        {
          "data": {
            "application/vnd.jupyter.widget-view+json": {
              "model_id": "da12ac8a214d4be4a8f01a212b14d0d7",
              "version_major": 2,
              "version_minor": 0
            },
            "text/plain": "Dropdown(description='My favorite:', options=('Atmosphere', 'Hydrosphere', 'Cryosphere', 'Geosphere', 'Pedosph\u2026"
          },
          "metadata": {},
          "output_type": "display_data"
        }
      ],
      "source": "# DO NOT ALTER! code to learn about your preferred earth system\n\nfrom ipywidgets import interact, Dropdown\n\nsphere_names = [\"Atmosphere\", \"Hydrosphere\", \"Cryosphere\", \"Geosphere\", \"Pedosphere\", \"Lithosphere\", \"Biosphere\", \"Magnetosphere\"]\nsphere_dropdown = Dropdown(\n    options=sphere_names,\n    value=sphere_names[0],\n    description='My favorite:',\n    disabled=False)\n\ndisplay(sphere_dropdown)"
    },
    {
      "cell_type": "markdown",
      "id": "e4cd105a-ee20-4bde-8403-d7fd57522758",
      "metadata": {
        "editable": false
      },
      "source": "We can then access the value of the dropdown. Note, that you need to rerun cells below the dropdown after you made a change. It is sadly not possible to automate this."
    },
    {
      "cell_type": "code",
      "execution_count": 9,
      "id": "60862bed-068e-41ba-91bd-bad4cab9a91b",
      "metadata": {
        "ExecuteTime": {
          "end_time": "2024-09-10T12:19:44.553928Z",
          "start_time": "2024-09-10T12:19:44.550570Z"
        }
      },
      "outputs": [
        {
          "name": "stdout",
          "output_type": "stream",
          "text": "Your selected the atmosphere!\n"
        }
      ],
      "source": "sphere_name = sphere_dropdown.value  # accessing the value stored in sphere_dropdown\nprint(f\"Your selected the {sphere_name.lower()}!\")"
    },
    {
      "cell_type": "markdown",
      "id": "1a9ffc31-9a5f-4808-97e7-04e5df9cecd6",
      "metadata": {
        "editable": false
      },
      "source": "**Interactive Functions**\n\nNext to selecting variables, widgets can be used to interact with plots by using the `@interact` decorator. Again, most code that does this is already written, so that you don't need to worry about it."
    },
    {
      "cell_type": "code",
      "execution_count": 10,
      "id": "d53c83a0-ea6f-4e6d-9212-5883ac89959d",
      "metadata": {
        "ExecuteTime": {
          "end_time": "2024-09-10T12:19:44.605839Z",
          "start_time": "2024-09-10T12:19:44.554953Z"
        }
      },
      "outputs": [
        {
          "data": {
            "application/vnd.jupyter.widget-view+json": {
              "model_id": "68fd01c251a6490aab5e19bb4bceaf02",
              "version_major": 2,
              "version_minor": 0
            },
            "text/plain": "interactive(children=(FloatSlider(value=2.0, description='a', max=10.0, min=0.1), Output()), _dom_classes=('wi\u2026"
          },
          "metadata": {},
          "output_type": "display_data"
        }
      ],
      "source": "@interact(a = (0.1, 10, 0.1))    \ndef square(a = 2):\n    fig = plt.figure(figsize=(2,2))  # create figure and set its size \n    b = a*a\n    plt.scatter(a,b)  # plot the dot\n    plt.xlim(0, 10)\n    plt.ylim(0, 100)\n    plt.xlabel(\"base\")\n    plt.ylabel(\"square\")\n    plt.show()  # show the plot"
    }
  ],
  "metadata": {
    "kernelspec": {
      "display_name": "Python 3 (ipykernel)",
      "language": "python",
      "name": "python3"
    },
    "language_info": {
      "codemirror_mode": {
        "name": "ipython",
        "version": 3
      },
      "file_extension": ".py",
      "mimetype": "text/x-python",
      "name": "python",
      "nbconvert_exporter": "python",
      "pygments_lexer": "ipython3",
      "version": "3.9.19"
    }
  },
  "nbformat": 4,
  "nbformat_minor": 5
}