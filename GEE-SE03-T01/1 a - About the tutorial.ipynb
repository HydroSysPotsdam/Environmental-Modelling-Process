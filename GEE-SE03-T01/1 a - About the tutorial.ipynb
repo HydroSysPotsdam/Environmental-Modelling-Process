{
 "cells": [
  {
   "cell_type": "markdown",
   "id": "cad138b2-dc00-48c4-aebc-87b735e2d722",
   "metadata": {},
   "source": [
    "![](./figures/Logo.PNG)"
   ]
  },
  {
   "cell_type": "markdown",
   "id": "7cba6e3b-f624-4069-a696-a89dfb13931a",
   "metadata": {},
   "source": [
    "# Syllabus of The Environmental Modeling Process\n",
    "\n",
    "**Contents**\n",
    "\n",
    "The use of models in earth, environmental and hydrosciences is ubiquitous. They are used for both scientific analysis and operational prediction. Each model is embedded in a modelling process, starting from the abstraction of the real system, the determination of parameters, the quantification of uncertainties, the formulation of objective functions, etc. In this course, the main elements of such a modelling process will be discussed and their adaptation to different models of Earth, environmental and hydro systems will be discussed.\n",
    "\n",
    "Lectures will go hand in hand with practical exercises using software to implement the modelling process (e.g. www.safetoolbox.info).\n",
    "Students will be able to focus both as a group (in a flipped classroom) and individually (through a term paper) on specific elements of interest. \n",
    "\n",
    "**Qualification goals**\n",
    "\n",
    "1. Subject competences\n",
    "\n",
    "    Students will be familiar with the main elements of the modelling process.\n",
    "\n",
    "2. Methodological competences\n",
    "\n",
    "    The students...\n",
    "    * will be able to select and adapt these main elements to their specific models and their complexity,\n",
    "    * will become familiar with the theoretical basis of these elements and be able to develop a modelling process for their model,\n",
    "    * will be able to use selected software to implement the modelling process, including Global Sensitivity Analysis to understand and quantify uncertainties."
   ]
  },
  {
   "cell_type": "markdown",
   "id": "d4fe9f8d",
   "metadata": {},
   "source": [
    "## In this part of the tutorial, you will...\n",
    "- learn about how the tutorial will be structured\n",
    "- receive an overview of this semester's tutorial topics\n",
    "- get information on this course's goal: your final project "
   ]
  },
  {
   "cell_type": "markdown",
   "id": "0fb5acef-7143-4285-9ced-57b86ad5a8d7",
   "metadata": {},
   "source": [
    "  - - -"
   ]
  },
  {
   "cell_type": "markdown",
   "id": "d0a048cf-01b7-4caa-a39a-ba005cacc746",
   "metadata": {},
   "source": [
    "# Tutorial 1a - About the tutorial"
   ]
  },
  {
   "cell_type": "markdown",
   "id": "8b8ece17-a009-448b-9204-b84a17c04c70",
   "metadata": {},
   "source": [
    "  - - -"
   ]
  },
  {
   "cell_type": "markdown",
   "id": "d208c773",
   "metadata": {},
   "source": [
    "## 1 Tutorial structure"
   ]
  },
  {
   "cell_type": "markdown",
   "id": "30734ecb-604c-4d62-ad79-5aa4f396054c",
   "metadata": {},
   "source": [
    "In this course, we aim to enable autonomous learning. We strongly encourage discussion and like you to form pairs of students to work through the notebooks. Additionally, we are here to help during the tutorials.\n",
    "\n",
    "Jupyter notebooks like this one will guide you through the tutorials. After a short introduction into the current topic, python scripts embedded in the notebooks will produce visual outcomes. The exercises will help you understand how to apply the methods discussed in the lecture, including interpretation of the results.\n",
    "\n",
    "The topics of the tutorial are:\n",
    "1. Tutorial setup\n",
    "2. Evaluation metrics, signatures & benchmarking\n",
    "3. Sampling: random, grid based\n",
    "4. Matching methods\n",
    "5. Sensitivity analysis: one at a time, regional sensitivity analysis, global sensitivity analysis\n",
    "6. Outlook"
   ]
  },
  {
   "cell_type": "markdown",
   "id": "f8910f84-661f-4781-ad1f-c18bfb412c45",
   "metadata": {},
   "source": [
    "  - - -"
   ]
  },
  {
   "cell_type": "markdown",
   "id": "bc2cc0f2",
   "metadata": {},
   "source": [
    "## 2 The final project"
   ]
  },
  {
   "cell_type": "markdown",
   "id": "43962780-dcf7-467f-a81b-d8f8a69e3984",
   "metadata": {},
   "source": [
    "Given that the goal of this course is to teach its content hands-on, you will be examined based on a final project. It will cover multiple topics discussed in this course, with a focus on method application and result interpretation.\n",
    "\n",
    "You are expected to use a model that is **not** used in the exercises provided. The exercises will be done using a simple hydrological model. We will provide you with a different model and data for your final project. The objective of the tutorial is that you take the methods from the tutorial and transfer them to a different model in pyhton outside the notebook setup. That way you can apply any method to other models after the course. You will be able to work on the project in parallel to the tutorials (and partially in the tutorials).\n",
    "\n",
    "The project should be carried out in pairs and will be examined based on a short written report (about **10** pages)."
   ]
  }
 ],
 "metadata": {
  "kernelspec": {
   "display_name": "Python 3 (ipykernel)",
   "language": "python",
   "name": "python3"
  },
  "language_info": {
   "codemirror_mode": {
    "name": "ipython",
    "version": 3
   },
   "file_extension": ".py",
   "mimetype": "text/x-python",
   "name": "python",
   "nbconvert_exporter": "python",
   "pygments_lexer": "ipython3",
   "version": "3.10.6"
  }
 },
 "nbformat": 4,
 "nbformat_minor": 5
}
