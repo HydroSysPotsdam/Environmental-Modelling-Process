{
  "cells": [
    {
      "cell_type": "markdown",
      "id": "cad138b2-dc00-48c4-aebc-87b735e2d722",
      "metadata": {
        "editable": false,
        "slideshow": {
          "slide_type": ""
        },
        "tags": []
      },
      "source": "![](./figures/Logo.PNG)"
    },
    {
      "cell_type": "markdown",
      "id": "d4fe9f8d",
      "metadata": {
        "editable": false
      },
      "source": "## In this part of the tutorial, you will...\n- learn about how the lecture and tutorial will be structured\n- receive an overview of this semester's topics\n- get information on this course's goal: your final project\n- learn how to install Python and all dependencies"
    },
    {
      "cell_type": "markdown",
      "id": "d0a048cf-01b7-4caa-a39a-ba005cacc746",
      "metadata": {
        "editable": false,
        "slideshow": {
          "slide_type": ""
        },
        "tags": []
      },
      "source": "--- \n# Tutorial 1a - About the Tutorial\n--- "
    },
    {
      "cell_type": "markdown",
      "id": "2cd41411-7af8-4292-a00f-8381f1ab8dbd",
      "metadata": {
        "editable": false
      },
      "source": "# 1. The Environmental Modeling Process (Module GEE-S03)\n\n## 1.1. Lecture Series\n\nThe use of models in earth, environmental and hydrosciences is ubiquitous. They are used for both scientific analysis and operational prediction. Each model is embedded in a modelling process, starting from the abstraction of the real system, the determination of parameters, the quantification of uncertainties, the formulation of objective functions, etc. In this course, the main elements of such a modelling process will be discussed and their adaptation to different models of Earth, environmental and hydrological systems will be discussed.\n\n**Qualification goals**\n\nAfter finishing this course, students...\n* will be familiar with the main elements of the modelling process\n* will be able to select and adapt these main elements to their specific models and their complexity,\n* will become familiar with the theoretical basis of these elements and be able to develop a modelling process for their model,\n* will be able to use selected software to implement the modelling process, including Global Sensitivity Analysis to understand and quantify uncertainties.\n\n## 1.2. Tutorials \n\nLectures will go hand in hand with practical exercises using mainly prewritten software to implement the modelling process (e.g. www.safetoolbox.info). Jupyter notebooks like this one will guide you through the tutorials. After a short introduction into the current topic, python scripts embedded in the notebooks will produce visual outcomes. The exercises will help you understand how to apply the methods discussed in the lecture, including interpretation of the results. Don't worry! While we ask you to write some code yourself, we will start with only short tasks that are easily doable.\n\nIn this course, we aim to enable autonomous learning. We strongly encourage discussion and like you to form pairs of students to work through the notebooks. Additionally, we are of course here to help during the tutorials.\n\nBelow, you find a short overview of the topics of the lecture and tutorials."
    },
    {
      "cell_type": "markdown",
      "id": "b50fd024-865e-411a-9a17-0e839f5f9b18",
      "metadata": {
        "editable": false
      },
      "source": "<center>\n<img src=\"./figures/tutorial_overview.png\" style=\"width:50%\"/>\n</center>"
    },
    {
      "cell_type": "markdown",
      "id": "43962780-dcf7-467f-a81b-d8f8a69e3984",
      "metadata": {
        "editable": false
      },
      "source": "# 2. The Final Project\n\nGiven that the goal of this course is to teach its content hands-on, you will be examined based on a final project that is also in the form of a Jupyter notebook. \n\nYou task will be to apply a set of methods discussed in the lectures to a hydrological model (HBV) (with catchments randomly distributed between students). We hope that you can mix-and-match these methods from the earlier tutorials. Furthermore, we will ask you to expand on some of them and implement your own thoughts and ideas.\n\nWe ask you to submit the final project in pairs, although working alone is also possible. You will have the opportunity to already work on the project in later tutorials, so that you can submit not too far into the term break."
    },
    {
      "cell_type": "markdown",
      "id": "f4cacbc5-6a62-4f78-823c-f95fb6616518",
      "metadata": {
        "editable": false,
        "slideshow": {
          "slide_type": ""
        },
        "tags": []
      },
      "source": "# 3. Installing Python and Dependencies\n\nIn this lecture series, we will be using _conda_ for managing our Python environments and dependencies. _Conda_ is a powerful package management tool that allows users to easily install, run, and update packages and their dependencies. It also enables you to create isolated environments to avoid conflicts between different libraries or Python versions. \n\nYou can learn more about _conda_ and how to install it from the [Conda Installation Guide](https://docs.conda.io/projects/conda/en/latest/user-guide/install/index.html). While we assume that you already have Conda installed for this course, you are free to use any other package management tool of your choice (e.g., `pipenv` or `virtualenv`). However, all instructions provided here will be for Conda.\n\n**Setting Up Your Environment**\n\nTo get started, you will need to create a new _conda_ environment based on the dependencies specified in the `requirements.txt` file provided in this lecture. This environment will ensure that you have all the necessary packages installed.\n\nAfter downloading the folder from moodle, open a terminal and navigate to the directory where your `requirements.txt` file is located. You do this with the following command (drop the >>):\n``` bash\n>> cd path/to/tutorial/root \n````\n\nRun the following command to create a new environment named `EnvMod`:\n``` bash\n>> conda create --name EnvMod --file requirements.txt\n```\n\n**Activating the Enivornment**\n\nBefore you can use the modules that are installed in the new environment, you need to activate it. Once activated, your terminal will switch to the EnvMod environment, and you can now run any Python code or Jupyter notebooks in this isolated environment. Remember, that you always need to enable the environment before executing Python code.\n``` bash\n>> conda activate EnvMod\n```\n\nYou can check which packages have been installed by calling\n```bash\n>> conda list\n```\n\n**Starting the Jupyter Application**\n\nTo start Jupyter Notebook, make sure that the EnvMod environment is activated and your terminal is still in the root folder of the tutorial. The following command will launch the Jupyter Notebook interface in your web browser, allowing you to access and run the course materials interactively.\n\n```bash\n>> jupyter notebook\n```\n\nFeel free to ask questions if you encounter any issues during the setup!"
    }
  ],
  "metadata": {
    "kernelspec": {
      "display_name": "Python 3 (ipykernel)",
      "language": "python",
      "name": "python3"
    },
    "language_info": {
      "codemirror_mode": {
        "name": "ipython",
        "version": 3
      },
      "file_extension": ".py",
      "mimetype": "text/x-python",
      "name": "python",
      "nbconvert_exporter": "python",
      "pygments_lexer": "ipython3",
      "version": "3.9.19"
    }
  },
  "nbformat": 4,
  "nbformat_minor": 5
}