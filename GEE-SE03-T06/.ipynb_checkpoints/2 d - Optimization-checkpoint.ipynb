{
 "cells": [
  {
   "cell_type": "markdown",
   "id": "3f43d7c7-4661-4d39-85db-a4e41526cb73",
   "metadata": {},
   "source": [
    "![](./figures/Logo.PNG)"
   ]
  },
  {
   "cell_type": "markdown",
   "id": "49ae7cf3-5f1c-4c4b-ac38-adaeb9ade587",
   "metadata": {},
   "source": [
    "## In this part of the tutorial, you will\n",
    "* use a genetic algorithm to optimize model outputs globally\n",
    "* critically assess the optimized parameters and objective function results\n",
    "* implement and use your own objective function(s) "
   ]
  },
  {
   "cell_type": "markdown",
   "id": "f4e531e7-ddcc-470f-91cf-a3c51384da32",
   "metadata": {},
   "source": [
    "- - -"
   ]
  },
  {
   "cell_type": "markdown",
   "id": "1e4a063a-fe29-47bf-9d61-074dbb703840",
   "metadata": {},
   "source": [
    "# 2 d - Optimization"
   ]
  },
  {
   "cell_type": "markdown",
   "id": "1ceae26c-22c5-4c4f-acb8-cf4e55fdb33e",
   "metadata": {},
   "source": [
    "- - -"
   ]
  },
  {
   "cell_type": "markdown",
   "id": "a4baddff-ef3d-4560-bd52-4a9b56e89852",
   "metadata": {},
   "source": [
    "## 1 About optimization"
   ]
  },
  {
   "attachments": {},
   "cell_type": "markdown",
   "id": "533c4832-c044-4805-b8c8-4584a57de6fa",
   "metadata": {},
   "source": [
    "In the previous tutorials, we have relied on our own capacity to tune the input parameters of our model. In this tutorial, we will use an algorithm to do this job for us by minimizing an objective function we define. Such algorithms run a model multiple times and determine the optimal combination of input parameters by computing the objective function for each model output. "
   ]
  },
  {
   "cell_type": "markdown",
   "id": "69285bcc-a9a4-4e86-9dc1-f4be47e2e7fa",
   "metadata": {},
   "source": [
    "---"
   ]
  },
  {
   "cell_type": "markdown",
   "id": "897bd754-66ee-4fb3-9098-a92a3804d1da",
   "metadata": {},
   "source": [
    "### <div class=\"blue\"><span style=\"color:blue\">Exercise section</span></div>\n",
    "### Exercise 1 - Optimization\n",
    "\n",
    "(a) What problems may occur when relying purely on an algorithm to optimize a model?\n",
    "\n",
    "* Answer"
   ]
  },
  {
   "cell_type": "markdown",
   "id": "239ac683-6e59-4bfa-8070-9fcd2fd7b445",
   "metadata": {},
   "source": [
    "---"
   ]
  },
  {
   "cell_type": "markdown",
   "id": "7bb4f6a2-8db1-4924-bb6b-f423735be9b4",
   "metadata": {},
   "source": [
    "## 2 Using global optimization"
   ]
  },
  {
   "cell_type": "markdown",
   "id": "ea0f755f-e94e-4189-affe-e54114150c7d",
   "metadata": {},
   "source": [
    "**Import packages**"
   ]
  },
  {
   "cell_type": "code",
   "execution_count": 1,
   "id": "3b214a76-ad32-4776-b819-4db5533d0552",
   "metadata": {},
   "outputs": [],
   "source": [
    "import pandas as pd\n",
    "import seaborn as sns\n",
    "import numpy as np\n",
    "import random\n",
    "from scipy.optimize import differential_evolution\n",
    "import matplotlib.pyplot as plt\n",
    "import matplotlib.dates as mdate\n",
    "import sys\n",
    "sys.path.append('src/')\n",
    "import HyMod\n",
    "from ipywidgets import interact, Dropdown"
   ]
  },
  {
   "cell_type": "markdown",
   "id": "65479a01-62c6-478f-ad53-b5f80f09b940",
   "metadata": {},
   "source": [
    "**Defining functions**"
   ]
  },
  {
   "cell_type": "code",
   "execution_count": 2,
   "id": "85912016-2a0f-4ee1-9b3f-256de88b4caa",
   "metadata": {},
   "outputs": [],
   "source": [
    "def bias(obs, sim):\n",
    "    \"\"\"\n",
    "    Calculates bias\n",
    "    obs :  The observed time series\n",
    "    sim :  The simulated time series\n",
    "    @returns : The bias\n",
    "    \"\"\"\n",
    "    return np.mean(obs - sim)\n",
    "\n",
    "\n",
    "def rmse(obs, sim):\n",
    "    \"\"\"\n",
    "    Calculates root mean squared error\n",
    "    obs :  The observed time series\n",
    "    sim :  The simulated time series\n",
    "    @returns : The RMSE\n",
    "    \"\"\"\n",
    "    return np.sqrt(np.mean((obs - sim)**2))\n",
    "\n",
    "def one_minus_nse(obs, sim):\n",
    "    \"\"\"\n",
    "    Calculates Nash Sutcliffe efficiency\n",
    "    obs :  The observed time series\n",
    "    sim :  The simulated time series\n",
    "    @returns : 1-NSE(obs, sim)\n",
    "    \"\"\"\n",
    "    return 1-(1 - (np.sum((obs - sim)**2)) / (np.sum((obs - np.mean(obs))**2)))\n",
    "\n",
    "def hymod_func(param, precip, pet, runoff_obs, objective_fun, n_days):\n",
    "    #print(f\"Parameters: Sm = {param[0]}, beta = {param[1]}, alfa = {param[2]}, Rs = {param[3]}, Rf = {param[4]}\")\n",
    "    param = np.array([param[0], param[1], param[2], 1/param[3], 1/param[4]])  # divide 1 by Rs and Rf for this HyMod implementation\n",
    "    runoff_sim, states, fluxes = HyMod.hymod_sim(param, precip, pet)\n",
    "    res = objective_fun(runoff_obs[n_days:], runoff_sim[n_days:])\n",
    "    #print(f\"Result of objective function: {res}\")\n",
    "    return res"
   ]
  },
  {
   "cell_type": "markdown",
   "id": "e21b57d4-8893-49cc-bf0b-cb8257878bb1",
   "metadata": {},
   "source": [
    "**Create and display interactive menus for selecting catchment**"
   ]
  },
  {
   "cell_type": "code",
   "execution_count": 3,
   "id": "b1200784-27b1-4901-bafc-453f0a709536",
   "metadata": {},
   "outputs": [
    {
     "data": {
      "application/vnd.jupyter.widget-view+json": {
       "model_id": "ae064ec6c0e54062b5e82f685c351356",
       "version_major": 2,
       "version_minor": 0
      },
      "text/plain": [
       "Dropdown(description='Catchment:', options=('Siletz River, OR, USA', 'Medina River, TX, USA', 'Trout River, BC…"
      ]
     },
     "metadata": {},
     "output_type": "display_data"
    }
   ],
   "source": [
    "catchment_names = [\"Siletz River, OR, USA\", \"Medina River, TX, USA\", \"Trout River, BC, Canada\"]\n",
    "dropdown = Dropdown(\n",
    "    options=catchment_names,\n",
    "    value=catchment_names[0],\n",
    "    description='Catchment:',\n",
    "    disabled=False)\n",
    "\n",
    "display(dropdown)"
   ]
  },
  {
   "cell_type": "markdown",
   "id": "802d3738-d190-420a-9431-b117e0a5d4ee",
   "metadata": {},
   "source": [
    "**Read catchment data and prepare model input**"
   ]
  },
  {
   "cell_type": "code",
   "execution_count": 4,
   "id": "9d527fac-e269-4d49-a094-dda5b0e9611d",
   "metadata": {},
   "outputs": [],
   "source": [
    "# Read catchment data\n",
    "catchment_name = dropdown.value\n",
    "# Read catchment data\n",
    "file_dic = {catchment_names[0]: \"camels_14305500\", catchment_names[1]: \"camels_08178880\", catchment_names[2]: \"hysets_10BE007\"}\n",
    "df_obs = pd.read_csv(f\"data/{file_dic[catchment_name]}.csv\")\n",
    "# Make sure the date is interpreted as a datetime object -> makes temporal operations easier\n",
    "df_obs.date = pd.to_datetime(df_obs['date'], format='%Y-%m-%d')\n",
    "# Select time frame\n",
    "start_date = '2002-10-01'\n",
    "end_date = '2004-09-30'\n",
    "spinup_days = 365\n",
    "\n",
    "# Index frame by date\n",
    "df_obs.set_index('date', inplace=True)\n",
    "# Select time frame\n",
    "df_obs = df_obs[start_date:end_date]\n",
    "# Reformat the date for plotting\n",
    "df_obs[\"date\"] = df_obs.index.map(lambda s: s.strftime('%b-%d-%y'))\n",
    "# Reindex\n",
    "df_obs = df_obs.reset_index(drop=True)\n",
    "# Select snow, precip, PET, streamflow and T\n",
    "df_obs = df_obs[[\"snow_depth_water_equivalent_mean\", \"total_precipitation_sum\",\"potential_evaporation_sum\",\"streamflow\", \"temperature_2m_mean\", \"date\"]]\n",
    "# Rename variables\n",
    "df_obs.columns = [\"Snow [mm/day]\", \"P [mm/day]\", \"PET [mm/day]\", \"Q [mm/day]\", \"T [C]\", \"Date\"]\n",
    "\n",
    "# Prepare the data intput for both models\n",
    "P = df_obs[\"P [mm/day]\"].to_numpy()\n",
    "evap = df_obs[\"PET [mm/day]\"].to_numpy()\n",
    "temp = df_obs[\"T [C]\"].to_numpy()\n",
    "q_obs = df_obs[\"Q [mm/day]\"].to_numpy()"
   ]
  },
  {
   "cell_type": "markdown",
   "id": "0bafbfd4-a679-4250-bac8-65cf14926a1a",
   "metadata": {},
   "source": [
    "**Using global optmization**\n",
    "\n",
    "The code below runs as sequence of three optimization trials with a low iteration count to show potential differences between the trials."
   ]
  },
  {
   "cell_type": "code",
   "execution_count": 5,
   "id": "8f791fc5-a137-49f5-8c2a-ef095ffa97bb",
   "metadata": {},
   "outputs": [
    {
     "name": "stdout",
     "output_type": "stream",
     "text": [
      "Optimizing HyMOD for Siletz River, OR, USA (iterating up to 5 times)\n",
      "  Trial 1\n",
      "  Random intial parameters: Sm = 142.38, beta = 1.91, alfa = 0.21, Rs = 2.0, Rf = 3.0\n",
      "  Optimization results:\n",
      "    Best found parameter set: Sm = 0.0, beta = 1.101, alfa = 0.0, Rs = 2.0, Rf = 3.003\n",
      "    (this is based on the best found result for Bias: 1.752)\n",
      "\n",
      "  Trial 2\n",
      "  Random intial parameters: Sm = 311.51, beta = 1.89, alfa = 0.31, Rs = 2.0, Rf = 3.0\n",
      "  Optimization results:\n",
      "    Best found parameter set: Sm = 0.0, beta = 0.864, alfa = 0.0, Rs = 2.0, Rf = 3.003\n",
      "    (this is based on the best found result for Bias: 1.752)\n",
      "\n",
      "  Trial 3\n",
      "  Random intial parameters: Sm = 65.99, beta = 1.1, alfa = 0.91, Rs = 2.0, Rf = 3.0\n",
      "  Optimization results:\n",
      "    Best found parameter set: Sm = 0.0, beta = 0.361, alfa = 0.0, Rs = 2.0, Rf = 3.003\n",
      "    (this is based on the best found result for Bias: 1.752)\n",
      "\n"
     ]
    }
   ],
   "source": [
    "max_iter = 5  # set maximum number of iterations performed by genetic algorithm\n",
    "bounds = [(0,400), (0, 2), (0, 1), (2, 200), (1, 7)]  # set bounds for parameters\n",
    "objective_functions = {\"Bias\":bias, \"RMSE\": rmse, \"1-NSE\": one_minus_nse} \n",
    "OF = \"Bias\"  # alternatively, you can choose \"Bias\", \"1-NSE\" or \"RMSE\"\n",
    "\n",
    "print(f\"Optimizing HyMOD for {catchment_name} (iterating up to {max_iter} times)\")\n",
    "for cal_round in range(1, 4):\n",
    "    # generate inital parameters randomly\n",
    "    x0 = []\n",
    "    for i in bounds:\n",
    "        low, high = i\n",
    "        x0.append(round(random.uniform(low,high), 2))\n",
    "    print(f\"  Trial {cal_round}\")\n",
    "    print(f\"  Random intial parameters: Sm = {x0[0]}, beta = {x0[1]}, alfa = {x0[2]}, Rs = {x0[3]}, Rf = {x0[4]}\")\n",
    "\n",
    "    # run the genetic algorithm to optimize the parameters\n",
    "    # https://docs.scipy.org/doc/scipy/reference/generated/scipy.optimize.differential_evolution.html\n",
    "    # \"bounds\" are the parameter ranges\n",
    "    # \"args\" are the arguements for the evaluated function (hymod_func)\n",
    "    # \"x0\" is the initial guess or starting point for the optimization (the random parameters generated above)\n",
    "    # \"max_iter\" is the maximum number of iterations we allow the opitmization algorithm to do\n",
    "    hymod_calib = differential_evolution(hymod_func, bounds=bounds, args=(P, evap, q_obs, objective_functions[OF], spinup_days), x0=x0, maxiter=max_iter)\n",
    "    parameters = hymod_calib.x  # extract parameters resulting from calibration\n",
    "    \n",
    "    # divide 1 by Rs and Rf for this HyMod implementation\n",
    "    parameters = np.array([parameters[0], parameters[1], parameters[2], 1/parameters[3], 1/parameters[4]])\n",
    "    parameters = np.round(parameters, decimals=3)  # round parameters to 3 decimals\n",
    "    q_sim, states, fluxes = HyMod.hymod_sim(parameters, P, evap)  # run HyMod\n",
    "    # calculate the result of the objective function for the optimized parameters\n",
    "    obj_fun_result = objective_functions[OF](q_obs[spinup_days:], q_sim[spinup_days:])  \n",
    "    \n",
    "    # print calibration results\n",
    "    parameters = np.array([parameters[0], parameters[1], parameters[2], 1/parameters[3], 1/parameters[4]])\n",
    "    parameters = np.round(parameters, decimals=3)  # round parameters to 3 decimals\n",
    "    print(f\"  Optimization results:\")\n",
    "    print(f\"    Best found parameter set: Sm = {parameters[0]}, beta = {parameters[1]}, alfa = {parameters[2]}, Rs = {parameters[3]}, Rf = {parameters[4]}\")\n",
    "    print(f\"    (this is based on the best found result for {OF}: {round(obj_fun_result, 3)})\\n\")"
   ]
  },
  {
   "cell_type": "markdown",
   "id": "af8ad96b-a322-4fed-8421-332d60aea08a",
   "metadata": {},
   "source": [
    "---"
   ]
  },
  {
   "cell_type": "markdown",
   "id": "15ca9a46-3385-41f4-adfd-9daad55e75ca",
   "metadata": {},
   "source": [
    "### <div class=\"blue\"><span style=\"color:blue\">Exercise section</span></div>\n",
    "### Exercise 2 - Using global optimization\n",
    "\n",
    "(a) Run the optimization for different catchments and different objective functions (change the variable \"OF\"). Compare the result of the different catchments! Where does the model perform better or worse (remember, what climatic regions the individual catchments represent)?\n",
    "\n",
    "* Answer\n",
    "\n",
    "(b) Why do results of the optimized objective functions change between the trials?\n",
    "\n",
    "* Answer\n",
    "\n",
    "(c) Why do, for the same results of the optimized objective function, some input parameters vary significantly?\n",
    "\n",
    "* Answer\n",
    "\n",
    "(d) Implement two objective functions of your choice! (You may choose any of the ones we used in previous tutorials or implement new ones)"
   ]
  },
  {
   "cell_type": "markdown",
   "id": "a9250ca5-19eb-4283-a036-1645f8466f2f",
   "metadata": {},
   "source": [
    "---"
   ]
  },
  {
   "cell_type": "markdown",
   "id": "a539d95e-1ae1-4b98-a5cc-fde62eff421e",
   "metadata": {},
   "source": [
    "## Jupyter format settings"
   ]
  },
  {
   "cell_type": "code",
   "execution_count": 6,
   "id": "0097e3e4-191a-4681-9738-1fa702eecc84",
   "metadata": {},
   "outputs": [
    {
     "data": {
      "text/html": [
       "<style>.blue {background-color: #8dc9fc;}</style>\n"
      ],
      "text/plain": [
       "<IPython.core.display.HTML object>"
      ]
     },
     "metadata": {},
     "output_type": "display_data"
    }
   ],
   "source": [
    "%%html \n",
    "<style>.blue {background-color: #8dc9fc;}</style>"
   ]
  }
 ],
 "metadata": {
  "kernelspec": {
   "display_name": "Python 3 (ipykernel)",
   "language": "python",
   "name": "python3"
  },
  "language_info": {
   "codemirror_mode": {
    "name": "ipython",
    "version": 3
   },
   "file_extension": ".py",
   "mimetype": "text/x-python",
   "name": "python",
   "nbconvert_exporter": "python",
   "pygments_lexer": "ipython3",
   "version": "3.9.18"
  }
 },
 "nbformat": 4,
 "nbformat_minor": 5
}
