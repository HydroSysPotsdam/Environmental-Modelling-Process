{
 "cells": [
  {
   "cell_type": "markdown",
   "id": "9bf41afd-dfeb-4dd7-8a40-f49cd83859a3",
   "metadata": {},
   "source": [
    "<figure>\n",
    "    <img src=\"./figures/Logo.png\" style=\"width:90%\">\n",
    "    <figcaption></figcaption>\n",
    "</figure>"
   ]
  },
  {
   "cell_type": "markdown",
   "id": "49ae7cf3-5f1c-4c4b-ac38-adaeb9ade587",
   "metadata": {},
   "source": [
    "## In this part of the tutorial, you will\n",
    "* use one-at-a-time (OAT) sensitivity analysis\n",
    "* compare RSA and OAT"
   ]
  },
  {
   "cell_type": "markdown",
   "id": "a89d207c-0d2c-468c-8b63-234ac1f9deba",
   "metadata": {},
   "source": [
    "---"
   ]
  },
  {
   "cell_type": "markdown",
   "id": "1e4a063a-fe29-47bf-9d61-074dbb703840",
   "metadata": {},
   "source": [
    "# Tutorial 5a - Sensitivity analysis - one-at-a-time (OAT)"
   ]
  },
  {
   "cell_type": "markdown",
   "id": "ccc8a378-b89b-4256-bd35-11734001f942",
   "metadata": {},
   "source": [
    "---"
   ]
  },
  {
   "cell_type": "markdown",
   "id": "dc3e6c88-0b57-4992-a23e-543c6e06b670",
   "metadata": {},
   "source": [
    "## 1 About one-at-a-time sensitivity analysis"
   ]
  },
  {
   "cell_type": "markdown",
   "id": "b95a93d0-0606-4fd7-b549-40db232a9dd3",
   "metadata": {},
   "source": [
    "TODO write intro\n",
    "\n",
    "One-at-a-time (OAT) sensitivity analysis is widely applied because it is very simple. It involves varying a certain parameter by a prescribed value up and down by a certain percentage."
   ]
  },
  {
   "cell_type": "markdown",
   "id": "df403150-584a-4f2a-ab71-6212d43e0561",
   "metadata": {},
   "source": [
    "## 2 Using one-at-a-time sensitivity analysis"
   ]
  },
  {
   "cell_type": "markdown",
   "id": "d3941a50-807c-4eda-b96b-97d8a55f574d",
   "metadata": {},
   "source": [
    "### 2.1 Preparations"
   ]
  },
  {
   "cell_type": "markdown",
   "id": "9947dc5e-c974-4e2a-9a6e-8bfd9b9f004e",
   "metadata": {},
   "source": [
    "**Import python modules**"
   ]
  },
  {
   "cell_type": "code",
   "execution_count": 1,
   "id": "82bfd5f8-4284-48b7-88f1-56a8c6e83b5d",
   "metadata": {},
   "outputs": [],
   "source": [
    "import numpy as np\n",
    "import pandas as pd\n",
    "import seaborn as sns\n",
    "import matplotlib.pyplot as plt\n",
    "import sys\n",
    "sys.path.append('src/')\n",
    "import HyMod\n",
    "\n",
    "# Supress warnings from numba\n",
    "import logging;\n",
    "logger = logging.getLogger(\"numba\");\n",
    "logger.setLevel(logging.ERROR)\n",
    "\n",
    "from ipywidgets import interact, Dropdown, FloatSlider"
   ]
  },
  {
   "cell_type": "markdown",
   "id": "95f51421-3369-4364-a502-2d1afb1bcf77",
   "metadata": {},
   "source": [
    "**Define functions**"
   ]
  },
  {
   "cell_type": "code",
   "execution_count": 2,
   "id": "aa5bda9f-784e-4fd1-ae90-d35d5b85f046",
   "metadata": {},
   "outputs": [],
   "source": [
    "def rmse(obs, sim):\n",
    "    \"\"\"\n",
    "    Calculates root mean squared error\n",
    "    obs :  The observed time series\n",
    "    sim :  The simulated time series\n",
    "    @returns : The RMSE\n",
    "    \"\"\"\n",
    "    return np.sqrt(np.mean((obs - sim)**2))\n",
    "\n",
    "def mean_streamflow(obs, sim):\n",
    "    \"\"\"\n",
    "    Calculates the difference in mean streamflow between observed and simulated\n",
    "    obs :  The observed time series\n",
    "    sim :  The simulated time series\n",
    "    @returns : The absolute mean error\n",
    "    \"\"\"\n",
    "    return np.abs( obs.mean() - sim.mean() )\n",
    "\n",
    "def hymod_func(param, obj_fun1, obj_fun2):\n",
    "    # run HyMod\n",
    "    runoff_sim, states, fluxes = HyMod.hymod_sim(param, P, pet)\n",
    "    error1 = obj_fun1(runoff_obs, runoff_sim[-n_days:])\n",
    "    error2 = obj_fun2(runoff_obs, runoff_sim[-n_days:])\n",
    "    return error1, error2"
   ]
  },
  {
   "cell_type": "markdown",
   "id": "e5556e6e-3b1a-400a-9c08-2dab1b73b3e9",
   "metadata": {},
   "source": [
    "**Create and display interactive menus for selecting catchment**"
   ]
  },
  {
   "cell_type": "code",
   "execution_count": 3,
   "id": "d527825b-864a-48ab-a2d3-4b906ec34bbd",
   "metadata": {},
   "outputs": [
    {
     "data": {
      "application/vnd.jupyter.widget-view+json": {
       "model_id": "bdc2dfafe0fa48d7b14e3359873533bf",
       "version_major": 2,
       "version_minor": 0
      },
      "text/plain": [
       "Dropdown(description='Catchment:', options=('Santa Cruz Creek, CA, USA', 'Siletz River, OR, USA', 'Trout River…"
      ]
     },
     "metadata": {},
     "output_type": "display_data"
    }
   ],
   "source": [
    "catchment_names = [\"Santa Cruz Creek, CA, USA\", \"Siletz River, OR, USA\", \"Trout River, BC, Canada\"]\n",
    "catchment_dropdown = Dropdown(\n",
    "    options=catchment_names,\n",
    "    value=catchment_names[0],\n",
    "    description='Catchment:',\n",
    "    disabled=False)\n",
    "\n",
    "display(catchment_dropdown)"
   ]
  },
  {
   "cell_type": "markdown",
   "id": "ce8c057d-9102-47aa-8766-1cd8744d3f6e",
   "metadata": {},
   "source": [
    "**Load data**"
   ]
  },
  {
   "cell_type": "code",
   "execution_count": 4,
   "id": "df0a0990-ca5c-4492-9262-dc5d1ff1659c",
   "metadata": {},
   "outputs": [
    {
     "ename": "FileNotFoundError",
     "evalue": "[Errno 2] No such file or directory: 'data/camels_11124500.csv'",
     "output_type": "error",
     "traceback": [
      "\u001b[0;31m---------------------------------------------------------------------------\u001b[0m",
      "\u001b[0;31mFileNotFoundError\u001b[0m                         Traceback (most recent call last)",
      "Cell \u001b[0;32mIn[4], line 4\u001b[0m\n\u001b[1;32m      2\u001b[0m catchment_name \u001b[38;5;241m=\u001b[39m catchment_dropdown\u001b[38;5;241m.\u001b[39mvalue\n\u001b[1;32m      3\u001b[0m file_dic \u001b[38;5;241m=\u001b[39m {catchment_names[\u001b[38;5;241m0\u001b[39m]: \u001b[38;5;124m\"\u001b[39m\u001b[38;5;124mcamels_11124500\u001b[39m\u001b[38;5;124m\"\u001b[39m, catchment_names[\u001b[38;5;241m1\u001b[39m]: \u001b[38;5;124m\"\u001b[39m\u001b[38;5;124mcamels_14305500\u001b[39m\u001b[38;5;124m\"\u001b[39m, catchment_names[\u001b[38;5;241m2\u001b[39m]: \u001b[38;5;124m\"\u001b[39m\u001b[38;5;124mhysets_10BE007\u001b[39m\u001b[38;5;124m\"\u001b[39m}\n\u001b[0;32m----> 4\u001b[0m df_obs \u001b[38;5;241m=\u001b[39m \u001b[43mpd\u001b[49m\u001b[38;5;241;43m.\u001b[39;49m\u001b[43mread_csv\u001b[49m\u001b[43m(\u001b[49m\u001b[38;5;124;43mf\u001b[39;49m\u001b[38;5;124;43m\"\u001b[39;49m\u001b[38;5;124;43mdata/\u001b[39;49m\u001b[38;5;132;43;01m{\u001b[39;49;00m\u001b[43mfile_dic\u001b[49m\u001b[43m[\u001b[49m\u001b[43mcatchment_name\u001b[49m\u001b[43m]\u001b[49m\u001b[38;5;132;43;01m}\u001b[39;49;00m\u001b[38;5;124;43m.csv\u001b[39;49m\u001b[38;5;124;43m\"\u001b[39;49m\u001b[43m)\u001b[49m\n\u001b[1;32m      5\u001b[0m \u001b[38;5;66;03m# Make sure the date is interpreted as a datetime object -> makes temporal operations easier\u001b[39;00m\n\u001b[1;32m      6\u001b[0m df_obs\u001b[38;5;241m.\u001b[39mdate \u001b[38;5;241m=\u001b[39m pd\u001b[38;5;241m.\u001b[39mto_datetime(df_obs[\u001b[38;5;124m'\u001b[39m\u001b[38;5;124mdate\u001b[39m\u001b[38;5;124m'\u001b[39m], \u001b[38;5;28mformat\u001b[39m\u001b[38;5;241m=\u001b[39m\u001b[38;5;124m'\u001b[39m\u001b[38;5;124m%\u001b[39m\u001b[38;5;124mY-\u001b[39m\u001b[38;5;124m%\u001b[39m\u001b[38;5;124mm-\u001b[39m\u001b[38;5;132;01m%d\u001b[39;00m\u001b[38;5;124m'\u001b[39m)\n",
      "File \u001b[0;32m/usr/local/Caskroom/miniconda/base/envs/EnvMod/lib/python3.9/site-packages/pandas/io/parsers/readers.py:1026\u001b[0m, in \u001b[0;36mread_csv\u001b[0;34m(filepath_or_buffer, sep, delimiter, header, names, index_col, usecols, dtype, engine, converters, true_values, false_values, skipinitialspace, skiprows, skipfooter, nrows, na_values, keep_default_na, na_filter, verbose, skip_blank_lines, parse_dates, infer_datetime_format, keep_date_col, date_parser, date_format, dayfirst, cache_dates, iterator, chunksize, compression, thousands, decimal, lineterminator, quotechar, quoting, doublequote, escapechar, comment, encoding, encoding_errors, dialect, on_bad_lines, delim_whitespace, low_memory, memory_map, float_precision, storage_options, dtype_backend)\u001b[0m\n\u001b[1;32m   1013\u001b[0m kwds_defaults \u001b[38;5;241m=\u001b[39m _refine_defaults_read(\n\u001b[1;32m   1014\u001b[0m     dialect,\n\u001b[1;32m   1015\u001b[0m     delimiter,\n\u001b[0;32m   (...)\u001b[0m\n\u001b[1;32m   1022\u001b[0m     dtype_backend\u001b[38;5;241m=\u001b[39mdtype_backend,\n\u001b[1;32m   1023\u001b[0m )\n\u001b[1;32m   1024\u001b[0m kwds\u001b[38;5;241m.\u001b[39mupdate(kwds_defaults)\n\u001b[0;32m-> 1026\u001b[0m \u001b[38;5;28;01mreturn\u001b[39;00m \u001b[43m_read\u001b[49m\u001b[43m(\u001b[49m\u001b[43mfilepath_or_buffer\u001b[49m\u001b[43m,\u001b[49m\u001b[43m \u001b[49m\u001b[43mkwds\u001b[49m\u001b[43m)\u001b[49m\n",
      "File \u001b[0;32m/usr/local/Caskroom/miniconda/base/envs/EnvMod/lib/python3.9/site-packages/pandas/io/parsers/readers.py:620\u001b[0m, in \u001b[0;36m_read\u001b[0;34m(filepath_or_buffer, kwds)\u001b[0m\n\u001b[1;32m    617\u001b[0m _validate_names(kwds\u001b[38;5;241m.\u001b[39mget(\u001b[38;5;124m\"\u001b[39m\u001b[38;5;124mnames\u001b[39m\u001b[38;5;124m\"\u001b[39m, \u001b[38;5;28;01mNone\u001b[39;00m))\n\u001b[1;32m    619\u001b[0m \u001b[38;5;66;03m# Create the parser.\u001b[39;00m\n\u001b[0;32m--> 620\u001b[0m parser \u001b[38;5;241m=\u001b[39m \u001b[43mTextFileReader\u001b[49m\u001b[43m(\u001b[49m\u001b[43mfilepath_or_buffer\u001b[49m\u001b[43m,\u001b[49m\u001b[43m \u001b[49m\u001b[38;5;241;43m*\u001b[39;49m\u001b[38;5;241;43m*\u001b[39;49m\u001b[43mkwds\u001b[49m\u001b[43m)\u001b[49m\n\u001b[1;32m    622\u001b[0m \u001b[38;5;28;01mif\u001b[39;00m chunksize \u001b[38;5;129;01mor\u001b[39;00m iterator:\n\u001b[1;32m    623\u001b[0m     \u001b[38;5;28;01mreturn\u001b[39;00m parser\n",
      "File \u001b[0;32m/usr/local/Caskroom/miniconda/base/envs/EnvMod/lib/python3.9/site-packages/pandas/io/parsers/readers.py:1620\u001b[0m, in \u001b[0;36mTextFileReader.__init__\u001b[0;34m(self, f, engine, **kwds)\u001b[0m\n\u001b[1;32m   1617\u001b[0m     \u001b[38;5;28mself\u001b[39m\u001b[38;5;241m.\u001b[39moptions[\u001b[38;5;124m\"\u001b[39m\u001b[38;5;124mhas_index_names\u001b[39m\u001b[38;5;124m\"\u001b[39m] \u001b[38;5;241m=\u001b[39m kwds[\u001b[38;5;124m\"\u001b[39m\u001b[38;5;124mhas_index_names\u001b[39m\u001b[38;5;124m\"\u001b[39m]\n\u001b[1;32m   1619\u001b[0m \u001b[38;5;28mself\u001b[39m\u001b[38;5;241m.\u001b[39mhandles: IOHandles \u001b[38;5;241m|\u001b[39m \u001b[38;5;28;01mNone\u001b[39;00m \u001b[38;5;241m=\u001b[39m \u001b[38;5;28;01mNone\u001b[39;00m\n\u001b[0;32m-> 1620\u001b[0m \u001b[38;5;28mself\u001b[39m\u001b[38;5;241m.\u001b[39m_engine \u001b[38;5;241m=\u001b[39m \u001b[38;5;28;43mself\u001b[39;49m\u001b[38;5;241;43m.\u001b[39;49m\u001b[43m_make_engine\u001b[49m\u001b[43m(\u001b[49m\u001b[43mf\u001b[49m\u001b[43m,\u001b[49m\u001b[43m \u001b[49m\u001b[38;5;28;43mself\u001b[39;49m\u001b[38;5;241;43m.\u001b[39;49m\u001b[43mengine\u001b[49m\u001b[43m)\u001b[49m\n",
      "File \u001b[0;32m/usr/local/Caskroom/miniconda/base/envs/EnvMod/lib/python3.9/site-packages/pandas/io/parsers/readers.py:1880\u001b[0m, in \u001b[0;36mTextFileReader._make_engine\u001b[0;34m(self, f, engine)\u001b[0m\n\u001b[1;32m   1878\u001b[0m     \u001b[38;5;28;01mif\u001b[39;00m \u001b[38;5;124m\"\u001b[39m\u001b[38;5;124mb\u001b[39m\u001b[38;5;124m\"\u001b[39m \u001b[38;5;129;01mnot\u001b[39;00m \u001b[38;5;129;01min\u001b[39;00m mode:\n\u001b[1;32m   1879\u001b[0m         mode \u001b[38;5;241m+\u001b[39m\u001b[38;5;241m=\u001b[39m \u001b[38;5;124m\"\u001b[39m\u001b[38;5;124mb\u001b[39m\u001b[38;5;124m\"\u001b[39m\n\u001b[0;32m-> 1880\u001b[0m \u001b[38;5;28mself\u001b[39m\u001b[38;5;241m.\u001b[39mhandles \u001b[38;5;241m=\u001b[39m \u001b[43mget_handle\u001b[49m\u001b[43m(\u001b[49m\n\u001b[1;32m   1881\u001b[0m \u001b[43m    \u001b[49m\u001b[43mf\u001b[49m\u001b[43m,\u001b[49m\n\u001b[1;32m   1882\u001b[0m \u001b[43m    \u001b[49m\u001b[43mmode\u001b[49m\u001b[43m,\u001b[49m\n\u001b[1;32m   1883\u001b[0m \u001b[43m    \u001b[49m\u001b[43mencoding\u001b[49m\u001b[38;5;241;43m=\u001b[39;49m\u001b[38;5;28;43mself\u001b[39;49m\u001b[38;5;241;43m.\u001b[39;49m\u001b[43moptions\u001b[49m\u001b[38;5;241;43m.\u001b[39;49m\u001b[43mget\u001b[49m\u001b[43m(\u001b[49m\u001b[38;5;124;43m\"\u001b[39;49m\u001b[38;5;124;43mencoding\u001b[39;49m\u001b[38;5;124;43m\"\u001b[39;49m\u001b[43m,\u001b[49m\u001b[43m \u001b[49m\u001b[38;5;28;43;01mNone\u001b[39;49;00m\u001b[43m)\u001b[49m\u001b[43m,\u001b[49m\n\u001b[1;32m   1884\u001b[0m \u001b[43m    \u001b[49m\u001b[43mcompression\u001b[49m\u001b[38;5;241;43m=\u001b[39;49m\u001b[38;5;28;43mself\u001b[39;49m\u001b[38;5;241;43m.\u001b[39;49m\u001b[43moptions\u001b[49m\u001b[38;5;241;43m.\u001b[39;49m\u001b[43mget\u001b[49m\u001b[43m(\u001b[49m\u001b[38;5;124;43m\"\u001b[39;49m\u001b[38;5;124;43mcompression\u001b[39;49m\u001b[38;5;124;43m\"\u001b[39;49m\u001b[43m,\u001b[49m\u001b[43m \u001b[49m\u001b[38;5;28;43;01mNone\u001b[39;49;00m\u001b[43m)\u001b[49m\u001b[43m,\u001b[49m\n\u001b[1;32m   1885\u001b[0m \u001b[43m    \u001b[49m\u001b[43mmemory_map\u001b[49m\u001b[38;5;241;43m=\u001b[39;49m\u001b[38;5;28;43mself\u001b[39;49m\u001b[38;5;241;43m.\u001b[39;49m\u001b[43moptions\u001b[49m\u001b[38;5;241;43m.\u001b[39;49m\u001b[43mget\u001b[49m\u001b[43m(\u001b[49m\u001b[38;5;124;43m\"\u001b[39;49m\u001b[38;5;124;43mmemory_map\u001b[39;49m\u001b[38;5;124;43m\"\u001b[39;49m\u001b[43m,\u001b[49m\u001b[43m \u001b[49m\u001b[38;5;28;43;01mFalse\u001b[39;49;00m\u001b[43m)\u001b[49m\u001b[43m,\u001b[49m\n\u001b[1;32m   1886\u001b[0m \u001b[43m    \u001b[49m\u001b[43mis_text\u001b[49m\u001b[38;5;241;43m=\u001b[39;49m\u001b[43mis_text\u001b[49m\u001b[43m,\u001b[49m\n\u001b[1;32m   1887\u001b[0m \u001b[43m    \u001b[49m\u001b[43merrors\u001b[49m\u001b[38;5;241;43m=\u001b[39;49m\u001b[38;5;28;43mself\u001b[39;49m\u001b[38;5;241;43m.\u001b[39;49m\u001b[43moptions\u001b[49m\u001b[38;5;241;43m.\u001b[39;49m\u001b[43mget\u001b[49m\u001b[43m(\u001b[49m\u001b[38;5;124;43m\"\u001b[39;49m\u001b[38;5;124;43mencoding_errors\u001b[39;49m\u001b[38;5;124;43m\"\u001b[39;49m\u001b[43m,\u001b[49m\u001b[43m \u001b[49m\u001b[38;5;124;43m\"\u001b[39;49m\u001b[38;5;124;43mstrict\u001b[39;49m\u001b[38;5;124;43m\"\u001b[39;49m\u001b[43m)\u001b[49m\u001b[43m,\u001b[49m\n\u001b[1;32m   1888\u001b[0m \u001b[43m    \u001b[49m\u001b[43mstorage_options\u001b[49m\u001b[38;5;241;43m=\u001b[39;49m\u001b[38;5;28;43mself\u001b[39;49m\u001b[38;5;241;43m.\u001b[39;49m\u001b[43moptions\u001b[49m\u001b[38;5;241;43m.\u001b[39;49m\u001b[43mget\u001b[49m\u001b[43m(\u001b[49m\u001b[38;5;124;43m\"\u001b[39;49m\u001b[38;5;124;43mstorage_options\u001b[39;49m\u001b[38;5;124;43m\"\u001b[39;49m\u001b[43m,\u001b[49m\u001b[43m \u001b[49m\u001b[38;5;28;43;01mNone\u001b[39;49;00m\u001b[43m)\u001b[49m\u001b[43m,\u001b[49m\n\u001b[1;32m   1889\u001b[0m \u001b[43m\u001b[49m\u001b[43m)\u001b[49m\n\u001b[1;32m   1890\u001b[0m \u001b[38;5;28;01massert\u001b[39;00m \u001b[38;5;28mself\u001b[39m\u001b[38;5;241m.\u001b[39mhandles \u001b[38;5;129;01mis\u001b[39;00m \u001b[38;5;129;01mnot\u001b[39;00m \u001b[38;5;28;01mNone\u001b[39;00m\n\u001b[1;32m   1891\u001b[0m f \u001b[38;5;241m=\u001b[39m \u001b[38;5;28mself\u001b[39m\u001b[38;5;241m.\u001b[39mhandles\u001b[38;5;241m.\u001b[39mhandle\n",
      "File \u001b[0;32m/usr/local/Caskroom/miniconda/base/envs/EnvMod/lib/python3.9/site-packages/pandas/io/common.py:873\u001b[0m, in \u001b[0;36mget_handle\u001b[0;34m(path_or_buf, mode, encoding, compression, memory_map, is_text, errors, storage_options)\u001b[0m\n\u001b[1;32m    868\u001b[0m \u001b[38;5;28;01melif\u001b[39;00m \u001b[38;5;28misinstance\u001b[39m(handle, \u001b[38;5;28mstr\u001b[39m):\n\u001b[1;32m    869\u001b[0m     \u001b[38;5;66;03m# Check whether the filename is to be opened in binary mode.\u001b[39;00m\n\u001b[1;32m    870\u001b[0m     \u001b[38;5;66;03m# Binary mode does not support 'encoding' and 'newline'.\u001b[39;00m\n\u001b[1;32m    871\u001b[0m     \u001b[38;5;28;01mif\u001b[39;00m ioargs\u001b[38;5;241m.\u001b[39mencoding \u001b[38;5;129;01mand\u001b[39;00m \u001b[38;5;124m\"\u001b[39m\u001b[38;5;124mb\u001b[39m\u001b[38;5;124m\"\u001b[39m \u001b[38;5;129;01mnot\u001b[39;00m \u001b[38;5;129;01min\u001b[39;00m ioargs\u001b[38;5;241m.\u001b[39mmode:\n\u001b[1;32m    872\u001b[0m         \u001b[38;5;66;03m# Encoding\u001b[39;00m\n\u001b[0;32m--> 873\u001b[0m         handle \u001b[38;5;241m=\u001b[39m \u001b[38;5;28;43mopen\u001b[39;49m\u001b[43m(\u001b[49m\n\u001b[1;32m    874\u001b[0m \u001b[43m            \u001b[49m\u001b[43mhandle\u001b[49m\u001b[43m,\u001b[49m\n\u001b[1;32m    875\u001b[0m \u001b[43m            \u001b[49m\u001b[43mioargs\u001b[49m\u001b[38;5;241;43m.\u001b[39;49m\u001b[43mmode\u001b[49m\u001b[43m,\u001b[49m\n\u001b[1;32m    876\u001b[0m \u001b[43m            \u001b[49m\u001b[43mencoding\u001b[49m\u001b[38;5;241;43m=\u001b[39;49m\u001b[43mioargs\u001b[49m\u001b[38;5;241;43m.\u001b[39;49m\u001b[43mencoding\u001b[49m\u001b[43m,\u001b[49m\n\u001b[1;32m    877\u001b[0m \u001b[43m            \u001b[49m\u001b[43merrors\u001b[49m\u001b[38;5;241;43m=\u001b[39;49m\u001b[43merrors\u001b[49m\u001b[43m,\u001b[49m\n\u001b[1;32m    878\u001b[0m \u001b[43m            \u001b[49m\u001b[43mnewline\u001b[49m\u001b[38;5;241;43m=\u001b[39;49m\u001b[38;5;124;43m\"\u001b[39;49m\u001b[38;5;124;43m\"\u001b[39;49m\u001b[43m,\u001b[49m\n\u001b[1;32m    879\u001b[0m \u001b[43m        \u001b[49m\u001b[43m)\u001b[49m\n\u001b[1;32m    880\u001b[0m     \u001b[38;5;28;01melse\u001b[39;00m:\n\u001b[1;32m    881\u001b[0m         \u001b[38;5;66;03m# Binary mode\u001b[39;00m\n\u001b[1;32m    882\u001b[0m         handle \u001b[38;5;241m=\u001b[39m \u001b[38;5;28mopen\u001b[39m(handle, ioargs\u001b[38;5;241m.\u001b[39mmode)\n",
      "\u001b[0;31mFileNotFoundError\u001b[0m: [Errno 2] No such file or directory: 'data/camels_11124500.csv'"
     ]
    }
   ],
   "source": [
    "# Read catchment data\n",
    "catchment_name = catchment_dropdown.value\n",
    "file_dic = {catchment_names[0]: \"camels_11124500\", catchment_names[1]: \"camels_14305500\", catchment_names[2]: \"hysets_10BE007\"}\n",
    "df_obs = pd.read_csv(f\"data/{file_dic[catchment_name]}.csv\")\n",
    "# Make sure the date is interpreted as a datetime object -> makes temporal operations easier\n",
    "df_obs.date = pd.to_datetime(df_obs['date'], format='%Y-%m-%d')\n",
    "# Index frame by date\n",
    "df_obs.set_index('date', inplace=True)\n",
    "# Select time frame\n",
    "start_date = '2002-10-01'\n",
    "end_date = '2003-09-30'\n",
    "df_obs = df_obs[start_date:end_date]\n",
    "n_days = 365 # days in three years: 1095\n",
    "# Reformat the date for plotting\n",
    "df_obs[\"date\"] = df_obs.index.map(lambda s: s.strftime('%b-%d-%y'))\n",
    "# Reindex\n",
    "df_obs = df_obs.reset_index(drop=True)\n",
    "# Select snow, precip, PET, streamflow and T\n",
    "df_obs = df_obs[[\"snow_depth_water_equivalent_mean\", \"total_precipitation_sum\",\"potential_evaporation_sum\",\"streamflow\", \"temperature_2m_mean\", \"date\"]]\n",
    "# Rename variables\n",
    "df_obs.columns = [\"Snow [mm/day]\", \"P [mm/day]\", \"PET [mm/day]\", \"Q [mm/day]\", \"T [C]\", \"Date\"]"
   ]
  },
  {
   "cell_type": "markdown",
   "id": "84cb95b9-9358-444e-ae3b-96a38b1652d8",
   "metadata": {},
   "source": [
    "**Prepare input data**"
   ]
  },
  {
   "cell_type": "code",
   "execution_count": null,
   "id": "fa9f955b-b709-4c6d-945f-be948428b866",
   "metadata": {},
   "outputs": [],
   "source": [
    "P = df_obs[\"P [mm/day]\"].to_numpy()\n",
    "pet = df_obs[\"PET [mm/day]\"].to_numpy()\n",
    "temp = df_obs[\"T [C]\"].to_numpy()\n",
    "runoff_obs = df_obs[\"Q [mm/day]\"].to_numpy()\n",
    "\n",
    "parameter_names = [\"Sm\", \"beta\", \"alpha\", \"k\"]  # define the parameter names\n",
    "original_parameter_set = [200, 1, .5, .5]  # create the inital parameter set"
   ]
  },
  {
   "cell_type": "markdown",
   "id": "77f76fd1-a5fc-4c48-b8ea-bc07ad6b6cbb",
   "metadata": {},
   "source": [
    "### 2.2 Using a very simple one-at-a-time sampling strategy"
   ]
  },
  {
   "cell_type": "code",
   "execution_count": null,
   "id": "1a90c5e9-a7f1-4661-bba6-28ebf60e8cec",
   "metadata": {},
   "outputs": [],
   "source": [
    "perturbation_slider = FloatSlider(\n",
    "    value=10, min=0, max=100, step=1,\n",
    "    description='Perturbation (%):',\n",
    "    disabled=False\n",
    ")\n",
    "display(perturbation_slider)"
   ]
  },
  {
   "cell_type": "code",
   "execution_count": null,
   "id": "f5921ad9-cbf6-492d-afbe-bf5ea28fe470",
   "metadata": {},
   "outputs": [],
   "source": [
    "perturbation = perturbation_slider.value  # percentage change for inital\n",
    "sets = [[200, 1, .5, .5, .5]]  # create list of lists to save parameter sets\n",
    "\n",
    "# iterate over each parameter and vary it by prescribed value\n",
    "# the following could be solved much more efficiently by using numpy and matrix calulations\n",
    "# it is kept simple for educational purposes only\n",
    "@interact(Sm = (0, 400, 1), beta = (0, 2, 0.01), alpha = (0, 1, 0.01), k = (0, 1, 0.01))    \n",
    "def oat_hymod_function(Sm=200, beta=1, alpha=0.5, k=0.5):\n",
    "    original_parameter_set = [Sm, beta, alpha, k]\n",
    "    output = []\n",
    "    for i, parameter in enumerate(original_parameter_set):\n",
    "        parameter_increased =  parameter + parameter * (perturbation/100)  # create an increased version of the current parameter\n",
    "        parameter_decreased =  parameter - parameter * (perturbation/100)  # create a decreased version of the current parameter\n",
    "        \n",
    "        for parameter_changed in [parameter_increased, parameter_decreased]:\n",
    "            current_parameter_set = original_parameter_set.copy()  # copy the original set to define the current parameter set (which will be changed)\n",
    "            current_parameter_set[i] = parameter_changed  # enter the in-/decreased parameter into the parameter set\n",
    "            Rf = 1 - current_parameter_set[-1]  # define Rf (= 1-Rs); Rs is at the last position of the parameter set, that is [-1] in python\n",
    "            current_parameter_set.append(Rf)  # add Rf to the parameter set\n",
    "            sets.append(current_parameter_set.copy())  # add the parameter set to the list of sets\n",
    "    \n",
    "            actual_perturbation = 100 * ((parameter_changed / parameter) - 1)  # compute the actual perturbation (positive or negative)\n",
    "            # Run HyMod, and get the ouput\n",
    "            rmse_v, msf_v = hymod_func(current_parameter_set, rmse, mean_streamflow)\n",
    "            output.append({\"Objective function result\": rmse_v, \"Objective\": \"RMSE\", \n",
    "                           \"Parameter\": parameter_names[i], \"Perturbation (%)\": actual_perturbation})\n",
    "            output.append({\"Objective function result\": msf_v, \"Objective\": \"Bias\", \n",
    "                           \"Parameter\": parameter_names[i], \"Perturbation (%)\": actual_perturbation})\n",
    "        \n",
    "    df = pd.DataFrame.from_records(output)\n",
    "    \n",
    "    # plot the data\n",
    "    rel = sns.relplot(data=df, x=\"Perturbation (%)\", y=\"Objective function result\", col=\"Parameter\", hue=\"Objective\", height=3, aspect=0.7)\n",
    "    #rel.set(ylim=(0, 15))\n",
    "    plt.show()\n",
    "\n",
    "#for set in zip(sets):  # uncomment to see the sets of parameters\n",
    "#    print(set)"
   ]
  },
  {
   "cell_type": "markdown",
   "id": "4cf6289b-99d2-449b-8cf8-046e60621de5",
   "metadata": {
    "jp-MarkdownHeadingCollapsed": true
   },
   "source": [
    "#### Exercise 1\n",
    "\n",
    "1.1 A simple OAT application is implemented in the above. It perturbates the four parameters of the HyMOD model individually by a percentage you can choose with the slider. What does the plot tell you? \n",
    "\n",
    "* Answer\n",
    "\n",
    "1.2 What if we chose a different starting point of parameter values for our analysis? You can change the original input parameter set using the sliders.\n",
    "\n",
    "* Answer\n",
    "\n",
    "1.3 Can you say which parameter is most sensitive? \n",
    "\n",
    "* Answer\n"
   ]
  },
  {
   "cell_type": "markdown",
   "id": "054eb440-861d-4865-b0e3-2936e2ce8799",
   "metadata": {},
   "source": [
    "### 2.3 Using another simple one-at-a-time sampling strategy"
   ]
  },
  {
   "cell_type": "code",
   "execution_count": null,
   "id": "d47af577-e4a6-40c4-b3c2-b1bde01d9d99",
   "metadata": {},
   "outputs": [],
   "source": [
    "step_slider = FloatSlider(\n",
    "    value=100, min=5, max=100, step=5,\n",
    "    description='Step size:',\n",
    "    disabled=False\n",
    ")\n",
    "display(step_slider)"
   ]
  },
  {
   "cell_type": "code",
   "execution_count": null,
   "id": "ab976c1e-b8d2-4b45-aec5-43067e353e34",
   "metadata": {},
   "outputs": [],
   "source": [
    "perturbations = np.arange(10, 100, step_slider.value)  # percentage changes to alter inital parameters by\n",
    "sets = [[200, 1, .5, .5, .5]] # create list of lists to save parameter sets\n",
    "\n",
    "# A very simple One-at-a-time sampling strategy\n",
    "@interact(Sm = (0, 400, 1), beta = (0, 2, 0.01), alpha = (0, 1, 0.01), k = (0.01, 0.5, 0.01))    \n",
    "def oat_hymod_function(Sm=200, beta=1, alpha=0.5, k=0.25):\n",
    "    original_parameter_set = [Sm, beta, alpha, k]\n",
    "    output = []\n",
    "    for i, parameter in enumerate(original_parameter_set):\n",
    "        # iterate over each parameter\n",
    "        for perturbation in perturbations:\n",
    "            # and vary it by prescribed value\n",
    "            # the following could be solved much more efficiently by using numpy and matrix calulations\n",
    "            # it is kept simple for educational purposes only\n",
    "            parameter_increased =  parameter + parameter * (perturbation/100)  # create an increased version of the current parameter\n",
    "            parameter_decreased =  parameter - parameter * (perturbation/100)  # create a decreased version of the current parameter\n",
    "        \n",
    "            for parameter_changed in [parameter_increased, parameter_decreased]:\n",
    "                current_parameter_set = original_parameter_set.copy()  # copy the original set to define the current parameter set (which will be changed)\n",
    "                current_parameter_set[i] = parameter_changed  # enter the in-/decreased parameter into the parameter set\n",
    "                Rf = 1 - current_parameter_set[-1]  # define Rf (= 1-Rs); Rs is at the last position of the parameter set, that is [-1] in python\n",
    "                current_parameter_set.append(Rf)  # add Rf to the parameter set\n",
    "                sets.append(current_parameter_set.copy())  # add the parameter set to the list of sets\n",
    "                \n",
    "                actual_perturbation = 100 * ((parameter_changed / parameter) - 1)  # compute the actual perturbation (positive or negative)\n",
    "                \n",
    "                rmse_v, msf_v = hymod_func(current_parameter_set, rmse, mean_streamflow)  # run HyMod, and get the ouput\n",
    "                output.append({\"Objective function result\": rmse_v, \"Objective\": \"RMSE\", \n",
    "                               \"Parameter\": parameter_names[i], \"Perturbation (%)\": actual_perturbation})\n",
    "                output.append({\"Objective function result\": msf_v, \"Objective\": \"Bias\", \n",
    "                               \"Parameter\": parameter_names[i], \"Perturbation (%)\": actual_perturbation})\n",
    "            \n",
    "    df = pd.DataFrame.from_records(output)\n",
    "    # plot the data\n",
    "    rel = sns.relplot(data=df, x=\"Perturbation (%)\", y=\"Objective function result\", col=\"Parameter\", hue=\"Objective\", height=3)\n",
    "    #rel.set(ylim=(0, 15))\n",
    "    plt.show()\n",
    "    \n",
    "    #for set in zip(sets):  # uncomment to see the sets of parameters\n",
    "    #    print(set)"
   ]
  },
  {
   "cell_type": "markdown",
   "id": "0120273b-85b8-4086-93b7-7522088296b5",
   "metadata": {
    "jp-MarkdownHeadingCollapsed": true
   },
   "source": [
    "#### Exercise 2\n",
    "\n",
    "2.1 Use the step slider to change the step-size and test for more variations! Are the results easier to interpret? \n",
    "\n",
    "* Answer\n",
    "\n",
    "2.2 What if we chose a different starting point of parameter values for our analysis? You can change the original input parameter set using the sliders.\n",
    "\n",
    "* Answer\n",
    "\n",
    "2.3 Do different objective functions react in the same way?\n",
    "\n",
    "* Answer\n",
    "\n",
    "#### Exercise 3\n",
    "\n",
    "3.1 How do the results differ from RSA?\n",
    "\n",
    "* Answer\n",
    "\n",
    "3.2 Think back to the lecture and the four purposes of sensitivity analysis (Screening, Ranking, Mapping, Variance Cutting), for which one of the four is RSA and OAT useful/not useful?\n",
    "\n",
    "* Answer\n",
    "\n",
    "#### Additional task\n",
    "\n",
    "Add different objective functions and analyse the results\n"
   ]
  }
 ],
 "metadata": {
  "kernelspec": {
   "display_name": "Python 3 (ipykernel)",
   "language": "python",
   "name": "python3"
  },
  "language_info": {
   "codemirror_mode": {
    "name": "ipython",
    "version": 3
   },
   "file_extension": ".py",
   "mimetype": "text/x-python",
   "name": "python",
   "nbconvert_exporter": "python",
   "pygments_lexer": "ipython3",
   "version": "3.9.19"
  }
 },
 "nbformat": 4,
 "nbformat_minor": 5
}
