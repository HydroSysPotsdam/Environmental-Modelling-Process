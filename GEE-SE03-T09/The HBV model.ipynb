{
  "cells": [
    {
      "cell_type": "markdown",
      "id": "4fd450e3-e9ed-4210-b11a-40dcd613c29e",
      "metadata": {
        "editable": true
      },
      "source": "![](./figures/Logo.PNG)"
    },
    {
      "cell_type": "markdown",
      "id": "491e3c82-7dd2-4a24-973d-ba8f1d345f34",
      "metadata": {
        "editable": true
      },
      "source": "## In this part of the tutorial, you will\n- study and discuss the HBV model and its input parameters\n- write the script to read and edit time series data, define input parameters, and run the HBV model"
    },
    {
      "cell_type": "markdown",
      "id": "66187b5a-1a28-445e-974b-8671af4ab2d2",
      "metadata": {
        "editable": true
      },
      "source": "- - - "
    },
    {
      "cell_type": "markdown",
      "id": "67d54b28-aa30-4c23-90c1-eb7bb1a13a5b",
      "metadata": {
        "editable": true
      },
      "source": "# The HBV model"
    },
    {
      "cell_type": "markdown",
      "id": "5ff2dabb-d455-4917-bade-384494b6b658",
      "metadata": {
        "editable": true
      },
      "source": "- - - "
    },
    {
      "cell_type": "markdown",
      "id": "30487c38-ea67-4ff7-9c63-894c36882693",
      "metadata": {
        "editable": true
      },
      "source": "## 1. About HBV"
    },
    {
      "cell_type": "markdown",
      "id": "822345d5-376a-4594-8d1d-71b831544c35",
      "metadata": {
        "editable": true
      },
      "source": "The HBV (Hydrologiska Byr\u00e5ns Vattenbalansavdelning) model is a computer model simulating river runoff with minimum input data. It was developed to investigate river discharge and water pollution in Scandinavia. \nIt is a [**spatially lumped**](https://en.wikipedia.org/wiki/Lumped-element_model) **bucket-type** catchment model that has relatively few model parameters and minimal forcing input requirements, using daily rainfall, temperature, and potential evaporation as input. For more information, check out [Seibert (1997)](https://iwaponline.com/hr/article/28/4-5/247/31640/Estimation-of-Parameter-Uncertainty-in-the-HBV) and the [Wikipedia page](https://en.wikipedia.org/wiki/HBV_hydrology_model).\n\nThe subroutines are: (1) snow routine (accumulation and melt), (2) soil moisture accounting and river routing.\n\n<figure>\n    <img src=\"./figures/HBV-fig.png\" style=\"width:70%\">\n    <figcaption>Conceptual diagram of HBV (<a href=\"https://doi.org/10.3390/w12092376       \">Medina & Mu\u00f1oz, 2020</a>)</figcaption>\n</figure>"
    },
    {
      "cell_type": "markdown",
      "id": "dbae8892-16b6-4d47-95fd-2576c448c7f2",
      "metadata": {
        "editable": true
      },
      "source": "(1) The **snow routine** ...\n* **expects** *time series* of *temperature* and *precipitation*, and the following *four parameters*:\n|Parameter|Meaning|Units|Min|Max|\n|---|---|---|---|---|\n|Ts|threshold temperature for snow melt|\u00b0C|-3|3|\n|CFMAX|degree day factor|mm/\u00b0Cd|0|20|\n|CFR|refreezing factor |-|0|1|\n|CWH|water holding capacity of snow|-|0|0.8|\n\n* and **returns** these model results:\n    * **Q_sim: time series of simulated river flow** (our focus in this course)\n    * states: time series of simulated storages (soil water content ...)\n    * fluxes: time series of simulated fluxes (actual evapotranspiration, recharge ...)\n\n(2) The **soil moisture accounting and river routing** ...\n\n* **expects** *time series* of *precipitation* and *potential evapotranspiration*, and the following *nine parameters*:\n|Parameter|Meaning|Units|Min|Max|\n|---|---|---|---|---|\n|BETA|Exponential parameter in soil routine|-|0|7|\n|LP|evapotranspiration limit|-|0.3|1|\n|FC|field capacity|mm|1|2000|\n|PERC|maximum flux from Upper to Lower Zone|mm/d|0|100|\n|K0|near surface flow coefficient (ratio)|1/d|0.05|2|\n|K1|upper Zone outflow coefficient (ratio)|1/d|0.01|1|\n|K2|lower Zone outflow coefficient (ratio)|1/d|0.005|0.1|\n|UZL|near surface flow threshold|mm|0|100|\n|MAXBAS|flow routing coefficient|d|1|6|\n\n    (Parameter bounds are adapted from [SAFE toolbox workflow](https://github.com/SAFEtoolbox/SAFE-python/blob/main/examples/workflows/workflow_eet_hbv.py))\n\n* and **returns** these model results:\n    * **Q_sim: time series of simulated river flow** (our focus in this course)\n    * states: time series of simulated storages (soil water content ...)\n    * fluxes: time series of simulated fluxes (actual evapotranspiration, recharge ...)"
    },
    {
      "cell_type": "markdown",
      "id": "16c6f976-9bec-4f7b-b4e5-57b36039b354",
      "metadata": {
        "editable": true
      },
      "source": "<div style=\"background:#e0f2fe;border:1mm solid SkyBlue; padding:1%\">\n    <h4><span>&#129300 </span>Your Turn I: Workings of the HBV Model</h4>\n    Discuss the reasoning behind the model and its parameters with your neighbour. Describe in your own words, what each parameter does!<br>\n</div>"
    },
    {
      "cell_type": "markdown",
      "id": "79f9ad29-790b-4dc5-90d5-b0fa4a776f9a",
      "metadata": {
        "editable": true
      },
      "source": "## 2. Using HBV"
    },
    {
      "cell_type": "markdown",
      "id": "f1662408-a56c-48e0-873e-0604147d02a6",
      "metadata": {
        "editable": true
      },
      "source": "**Import packages**"
    },
    {
      "cell_type": "code",
      "execution_count": 1,
      "id": "357e8c87-d9f5-4c08-932f-b08277873a0e",
      "metadata": {},
      "outputs": [],
      "source": "import sys\nsys.path.append(\"src/\")\nimport HBV\nimport seaborn as sns\nimport matplotlib.pyplot as plt\nimport matplotlib.dates as mdate\nimport numpy as np\nimport pandas as pd\nfrom ipywidgets import interact"
    },
    {
      "cell_type": "markdown",
      "id": "f06d1e02-e3a9-4d66-be24-be9c3d1793c7",
      "metadata": {
        "editable": true
      },
      "source": "**Read catchment data**"
    },
    {
      "cell_type": "markdown",
      "id": "ab9d8954-0583-4abf-86b2-919451abddc1",
      "metadata": {
        "editable": true
      },
      "source": "<div style=\"background:#e0f2fe;border:1mm solid SkyBlue; padding:1%\">\n    <h4><span>&#129300 </span>Your Turn II: Using the HBV Model</h4>\n    <p>By now, you should have collected some experience with Python. Simply altering code that was written by us may have become boring. It's time to spread the wings and code for yourself! The following assignment should challenge you a bit more.</p>\n    <p><b>Implement the HBV model in the cells below!</b></p>\n    Note:\n    <ul>\n        <li>The HBV routines are implemented in the file HBV.py (stored in folder \"src/\")</li>\n        <li>The function for snow routine (snow_routine(param, temp, P)) takes 3 arguments and returns 3 outputs.</li>\n        <li>The soil moisture accounting and river routing (hbv_sim(param, P, ept, Case, ini)) takes 5 arguments and returns 3 outputs.</li>\n    </ul>\n</div>"
    },
    {
      "cell_type": "code",
      "execution_count": 2,
      "id": "e61eece5-3071-424d-a051-0377654666ea",
      "metadata": {},
      "outputs": [],
      "source": "# Read catchment data\n\n# Make sure the date is interpreted as a datetime object -> makes temporal operations easier\n\n# Index frame by date\n\n# Select only the columns we need\n\n# Rename variables\n\n# Select time frame\n\n# Reformat the date for plotting\n\n# Prepare the time series intput"
    },
    {
      "cell_type": "markdown",
      "id": "b23a641b-24f2-4d67-8f4e-16b19803dec2",
      "metadata": {
        "editable": true
      },
      "source": "**Run HBV interactively**"
    },
    {
      "cell_type": "code",
      "execution_count": 5,
      "id": "178ea3f1-8158-467b-b7e7-1f1e0c259a6f",
      "metadata": {},
      "outputs": [
        {
          "data": {
            "application/vnd.jupyter.widget-view+json": {
              "model_id": "c435ae2ae71c4d1ebe64cdc0895492c9",
              "version_major": 2,
              "version_minor": 0
            },
            "text/plain": "interactive(children=(FloatSlider(value=1.0, description='BETA', max=2.0), FloatSlider(value=1.0, description=\u2026"
          },
          "metadata": {},
          "output_type": "display_data"
        }
      ],
      "source": "@interact(BETA = (0, 2, 0.1), LP = (0, 2, 0.1), FC = (0, 600, 1), PERC = (0, 10, 0.1), K0 = (0, 1, 0.01), K1 = (0, 1, 0.01), \n          K2 = (0, 1, 0.01), UZL = (0.1, 75, 0.1), MAXBAS = (0, 10, 0.1), Ts = (-3, 5, 0.1), CFMAX = (0, 10, 0.1), CFR = (0, 1, 0.01), \n          CWH = (0, 1, 0.01))\ndef oat_hbv_function(BETA=1, LP=1, FC=300, PERC=5, K0=0.5, K1=0.5, K2=0.5, UZL=37.5, MAXBAS=5, Ts=1, CFMAX=5, CFR=0.5, CWH=0.5):\n    # run HBV snow simulation\n    # param_snow = np.array([])\n    # p_s, states, fluxes = HBV.snow_routine()\n    \n    # run HBV simulation\n    # param = np.array([])\n    # Case = 1 # for now we assume that the preferred path in the upper zone is runoff (Case = 1), it can be set to percolation (Case = 2)\n    # ini = np.array([0,0,0]) # initial state\n    # q_sim, states, fluxes = HBV.hbv_sim()\n    # df_model = pd.DataFrame({'Q [mm/day]': q_sim, 'ET [mm/day]': fluxes.T[0], 'Date': df[\"Date\"].to_numpy()})\n\n    # plot the results\n    pass\n"
    }
  ],
  "metadata": {
    "kernelspec": {
      "display_name": "Python 3 (ipykernel)",
      "language": "python",
      "name": "python3"
    },
    "language_info": {
      "codemirror_mode": {
        "name": "ipython",
        "version": 3
      },
      "file_extension": ".py",
      "mimetype": "text/x-python",
      "name": "python",
      "nbconvert_exporter": "python",
      "pygments_lexer": "ipython3",
      "version": "3.9.19"
    }
  },
  "nbformat": 4,
  "nbformat_minor": 5
}