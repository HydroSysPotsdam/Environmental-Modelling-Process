{
 "cells": [
  {
   "cell_type": "markdown",
   "id": "ecee7ffa-ec8b-4adb-91ab-475b090947c1",
   "metadata": {},
   "source": [
    "![](./figures/Logo.PNG)"
   ]
  },
  {
   "cell_type": "markdown",
   "id": "49ae7cf3-5f1c-4c4b-ac38-adaeb9ade587",
   "metadata": {},
   "source": [
    "## In this part of the tutorial, you will\n",
    "* use metrics to assess simulation performance\n",
    "* study scatter plots of multiple objective functions"
   ]
  },
  {
   "cell_type": "markdown",
   "id": "e21dc5cf-4d8e-4f8e-a126-9dda81843905",
   "metadata": {},
   "source": [
    "- - -"
   ]
  },
  {
   "cell_type": "markdown",
   "id": "ca4b0d95-c290-4a55-8f0c-f879ef6b2a56",
   "metadata": {},
   "source": [
    "# 2 b - Statistical evaluation metrics"
   ]
  },
  {
   "cell_type": "markdown",
   "id": "fcfb4367-5461-4333-928c-a838665bb073",
   "metadata": {},
   "source": [
    "- - -"
   ]
  },
  {
   "cell_type": "markdown",
   "id": "e38f84d9-bd20-41ad-bc47-afc5b7d7b119",
   "metadata": {},
   "source": [
    "## 1 Introducing bias, RMSE, NSE and KGE"
   ]
  },
  {
   "cell_type": "markdown",
   "id": "a3706633-d527-4e26-b24b-ca3a5e497878",
   "metadata": {},
   "source": [
    "In tutorial 2a, we have relied on visual inspection to learn about the model performance and to fit of the model output to the observed runoff. For some sets of parameter combinations, it can be difficult to assess which set returns the best result. In this tutorial, we will use evaluation metrics, enabling a more robust comparison between model runs with different parameterizations."
   ]
  },
  {
   "cell_type": "markdown",
   "id": "a7a6899b-7c1c-4b4b-81a1-c0593c178da1",
   "metadata": {},
   "source": [
    "We start with a simple metric of closeness: the **bias**.\n",
    "\n",
    "**Bias**: Bias is the consistent deviation of simulation results from observed values. It indicates the model's tendency to systematically overestimate or underestimate the target variable.\n",
    "\n",
    "![Bias Equation](https://latex.codecogs.com/svg.image?\\text{Bias}&space;=&space;\\frac{1}{n}&space;\\sum_{i=1}^{n}(obs_i&space;-&space;sim_i))\n",
    "\n",
    "   where **obs<sub>i</sub>** represents the observed value, **sim<sub>i</sub>** denotes the simulated value, and **n** is the total number of data points.\n",
    "\n",
    "Now, we will look at three more metrics: **root mean square error (RMSE)**, **Kling-Gupta Efficiency (KGE)** and **Nash-Sutcliffe Efficiency (NSE)**.\n",
    "\n",
    "**Root Mean Square Error (RMSE)**: RMSE measures the square root of the average squared differences between its predicted values and the corresponding actual values (in other words: the square root of the MSE).\n",
    "\n",
    "   ![RMSE Equation](https://latex.codecogs.com/svg.image?\\text{RMSE}&space;=&space;\\sqrt{\\frac{1}{n}&space;\\sum_{i=1}^{n}(obs_i&space;-&space;sim_i)^2})\n",
    "\n",
    "   where **obs<sub>i</sub>** represents the observed value, **sim<sub>i</sub>** denotes the simulated value, and **n** is the total number of data points.\n",
    "\n",
    "**Kling-Gupta Efficiency (KGE)**: KGE is a hydrological metric that assesses the performance of hydrological models by measuring the correlation, bias, and variability of their predictions against observed hydrograph data. It allows evaluation of the model's accuracy, timing, and volume representation.\n",
    "\n",
    "   ![KGE Equation](https://latex.codecogs.com/svg.image?\\text{KGE}&space;=&space;1&space;-&space;\\sqrt{(r-1)^2&space;+&space;(alpha-1)^2&space;+&space;(beta-1)^2})\n",
    "\n",
    "   where **r** represents the correlation coefficient, **alpha** is the ratio of the standard deviations between observed and simulated values, and **beta** is the ratio of their means.\n",
    "\n",
    "\n",
    "**Nash-Sutcliffe Efficiency (NSE)**: NSE measures the proportion of the observed variance that is explained by the model results. It is particularly useful for evaluating streamflow predictions. A perfect NSE value of 1 indicates a perfect fit between the model and observed data, while negative values suggest the model performs worse than simply using the mean of the observed values.\n",
    "\n",
    "![NSE Equation](https://latex.codecogs.com/svg.image?\\text{NSE}&space;=&space;1&space;-&space;\\frac{\\sum_{i=1}^{n}(obs_i&space;-&space;sim_i)^2}{\\sum_{i=1}^{n}(obs_i&space;-&space;\\bar{obs})^2})\n",
    "\n",
    "\n",
    "   where **obs<sub>i</sub>** represents the observed value, **sim<sub>i</sub>** denotes the simulated value, and **n** is the total number of data points."
   ]
  },
  {
   "cell_type": "markdown",
   "id": "15540fcc-8bcd-41fd-a94e-30af5b88ea0b",
   "metadata": {},
   "source": [
    "---"
   ]
  },
  {
   "cell_type": "markdown",
   "id": "8bd02ca9-95b3-4900-b322-05a48f8a7798",
   "metadata": {},
   "source": [
    "### <div class=\"blue\"><span style=\"color:blue\">Exercise section</span></div>\n",
    "### Exercise 1 - Understanding the metrics\n",
    "\n",
    "Can you think of a reason why one would prefer RMSE to MSE? \n",
    "\n",
    "* Answer\n",
    "\n",
    "What are likely limitations of such metrics? What do they miss?\n",
    "\n",
    "* Answer"
   ]
  },
  {
   "cell_type": "markdown",
   "id": "219c4f81-85f3-4f3b-bc05-2d7c8d78509e",
   "metadata": {},
   "source": [
    "---"
   ]
  },
  {
   "cell_type": "markdown",
   "id": "628f0f7e-9181-4451-8b6c-fd5c80225673",
   "metadata": {},
   "source": [
    "## 2 Using bias, RMSE, NSE and KGE"
   ]
  },
  {
   "cell_type": "markdown",
   "id": "ea0f755f-e94e-4189-affe-e54114150c7d",
   "metadata": {},
   "source": [
    "**Import packages**"
   ]
  },
  {
   "cell_type": "code",
   "execution_count": 1,
   "id": "3b214a76-ad32-4776-b819-4db5533d0552",
   "metadata": {},
   "outputs": [],
   "source": [
    "import pandas as pd\n",
    "import seaborn as sns\n",
    "import numpy as np\n",
    "import scipy\n",
    "import random\n",
    "import matplotlib.pyplot as plt\n",
    "import matplotlib.dates as mdate\n",
    "import sys\n",
    "sys.path.append('src/')\n",
    "import HyMod\n",
    "from ipywidgets import interact, Dropdown "
   ]
  },
  {
   "cell_type": "markdown",
   "id": "49142c51-d6c5-4cfa-bc2c-58bb0d5d195e",
   "metadata": {},
   "source": [
    "**Defining bias, RMSE, NSE and KGE**"
   ]
  },
  {
   "cell_type": "code",
   "execution_count": 2,
   "id": "31254d83-2fa2-4add-9a28-418c8fb422d8",
   "metadata": {},
   "outputs": [],
   "source": [
    "def bias(obs, sim):\n",
    "    return np.mean(np.subtract(obs, sim)) # mean of observation values minus simulation results\n",
    "\n",
    "def rmse(obs, sim):\n",
    "    return np.sqrt(np.mean(np.square(np.subtract(obs, sim))))\n",
    "\n",
    "def nse(obs, sim):\n",
    "    # Nash-Sutcliffe efficiency (NSE)\n",
    "    # range: negative infinity to 1\n",
    "    # optimal value: 1\n",
    "    r_nse = np.corrcoef(obs, sim)[0][1] \n",
    "    alpha_nse = np.divide(np.std(sim), np.std(obs))\n",
    "    beta_nse = np.divide(np.subtract(np.mean(sim), np.mean(obs)), np.std(obs))\n",
    "    nse = 2 * alpha_nse * r_nse - np.square(alpha_nse) - np.square(beta_nse)\n",
    "    # alternative: nse = 1-(np.divide(np.sum(np.square(np.subtract(obs, sim))), np.sum(np.square(np.subtract(obs, np.mean(obs))))))\n",
    "    return nse\n",
    "\n",
    "def kge(obs, sim):\n",
    "    # The Kling-Gupta Efficiency (KGE)\n",
    "    # range: negative infinity to 1\n",
    "    # optimal value: 1\n",
    "    r_kge = np.corrcoef(obs, sim)[0][1] # pearson correlation coefficient\n",
    "    alpha_kge = np.divide(np.std(sim), np.std(obs)) # variation ratio\n",
    "    beta_kge = np.divide(np.mean(sim), np.mean(obs)) # bias\n",
    "    kge = 1 - np.sqrt(np.square(r_kge - 1) + np.square(beta_kge - 1) + np.square(alpha_kge - 1))\n",
    "    return round(r_kge, 3), round(alpha_kge, 3), round(beta_kge, 3), round(kge, 3)\n",
    "\n",
    "def kge_only(obs, sim):\n",
    "    _, _, _, kge_value = kge(obs, sim)\n",
    "    return kge_value"
   ]
  },
  {
   "cell_type": "markdown",
   "id": "e21b57d4-8893-49cc-bf0b-cb8257878bb1",
   "metadata": {},
   "source": [
    "**Create and display dropdown for selecting catchment**"
   ]
  },
  {
   "cell_type": "code",
   "execution_count": 3,
   "id": "b0d6535d-6918-4af8-a91a-3acba1bda0f1",
   "metadata": {},
   "outputs": [
    {
     "data": {
      "application/vnd.jupyter.widget-view+json": {
       "model_id": "636a74ada2cf406094f363151919f734",
       "version_major": 2,
       "version_minor": 0
      },
      "text/plain": [
       "Dropdown(description='Catchment:', options=('Trout River, BC, Canada', 'Medina River, TX, USA', 'Siletz River,…"
      ]
     },
     "metadata": {},
     "output_type": "display_data"
    }
   ],
   "source": [
    "catchment_names = [\"Trout River, BC, Canada\", \"Medina River, TX, USA\", \"Siletz River, OR, USA\"]\n",
    "dropdown = Dropdown(\n",
    "    options=catchment_names,\n",
    "    value=catchment_names[0],\n",
    "    description='Catchment:',\n",
    "    disabled=False)\n",
    "\n",
    "display(dropdown)"
   ]
  },
  {
   "cell_type": "markdown",
   "id": "802d3738-d190-420a-9431-b117e0a5d4ee",
   "metadata": {},
   "source": [
    "**Read catchment data and prepare input data for model**"
   ]
  },
  {
   "cell_type": "code",
   "execution_count": 10,
   "id": "9d527fac-e269-4d49-a094-dda5b0e9611d",
   "metadata": {},
   "outputs": [],
   "source": [
    "# Read catchment data\n",
    "catchment_name = dropdown.value\n",
    "# Read catchment data\n",
    "file_dic = {catchment_names[0]: \"hysets_10BE007\", catchment_names[1]: \"camels_08178880\", catchment_names[2]: \"camels_14305500\"}\n",
    "df_obs = pd.read_csv(f\"data/{file_dic[catchment_name]}.csv\")\n",
    "# Make sure the date is interpreted as a datetime object -> makes temporal operations easier\n",
    "df_obs.date = pd.to_datetime(df_obs['date'], format='%Y-%m-%d')\n",
    "# Select time frame\n",
    "start_date = '2002-10-01'\n",
    "end_date = '2003-09-30'\n",
    "\n",
    "# Index frame by date\n",
    "df_obs.set_index('date', inplace=True)\n",
    "# Select time frame\n",
    "df_obs = df_obs[start_date:end_date]\n",
    "# Reformat the date for plotting\n",
    "df_obs[\"date\"] = df_obs.index.map(lambda s: s.strftime('%b-%d-%y'))\n",
    "# Reindex\n",
    "df_obs = df_obs.reset_index(drop=True)\n",
    "# Select snow, precip, PET, streamflow and T\n",
    "df_obs = df_obs[[\"snow_depth_water_equivalent_mean\", \"total_precipitation_sum\",\"potential_evaporation_sum\",\"streamflow\", \"temperature_2m_mean\", \"date\"]]\n",
    "# Rename variables\n",
    "df_obs.columns = [\"Snow [mm/day]\", \"P [mm/day]\", \"PET [mm/day]\", \"Q [mm/day]\", \"T [C]\", \"Date\"]\n",
    "\n",
    "# Prepare the data intput for both models\n",
    "P = df_obs[\"P [mm/day]\"].to_numpy()\n",
    "evap = df_obs[\"PET [mm/day]\"].to_numpy()\n",
    "temp = df_obs[\"T [C]\"].to_numpy()    "
   ]
  },
  {
   "cell_type": "markdown",
   "id": "538e390b-d4f8-4026-aed4-8a20b2a15e63",
   "metadata": {},
   "source": [
    "**Using bias and RMSE to evaluate HyMOD results**"
   ]
  },
  {
   "cell_type": "code",
   "execution_count": 11,
   "id": "a69fff3f-531b-4d64-a2a5-eecd1c091d82",
   "metadata": {},
   "outputs": [
    {
     "data": {
      "application/vnd.jupyter.widget-view+json": {
       "model_id": "cb271bf1b5824c7399d0ae94eed93e70",
       "version_major": 2,
       "version_minor": 0
      },
      "text/plain": [
       "interactive(children=(IntSlider(value=200, description='Sm_blue', max=400), FloatSlider(value=1.0, description…"
      ]
     },
     "metadata": {},
     "output_type": "display_data"
    }
   ],
   "source": [
    "@interact(Sm_blue=(0, 400, 1), beta_blue=(0, 2, 0.01), alfa_blue=(0, 1, 0.01), Rs_blue=(8.0, 200.0, 0.5), Rf_blue=(1.0, 7.0, 0.5),\n",
    "          Sm_red=(0, 400, 1), beta_red=(0, 2, 0.01), alfa_red=(0, 1, 0.01), Rs_red=(8.0, 200.0, 0.5), Rf_red=(1.0, 7.0, 0.5), \n",
    "          lmbda = (0.01, 1.0, 0.01))    \n",
    "def compare_hymod_runs(Sm_blue=200, beta_blue=1, alfa_blue=0.5, Rs_blue=50, Rf_blue=6, \n",
    "                       Sm_red=150, beta_red=0.7, alfa_red=0.7, Rs_red=40, Rf_red=3,\n",
    "                       lmbda=0.2):\n",
    "    # Run HyMOD simulation 1 (blue)\n",
    "    param_blue = np.array([Sm_blue, beta_blue, alfa_blue, 1/Rs_blue, 1/Rf_blue])\n",
    "    q_sim_blue, states_blue, fluxes_blue = HyMod.hymod_sim(param_blue, P, evap)\n",
    "    # Make Dataframe from results\n",
    "    df_model_blue = pd.DataFrame({'Q [mm/day]': q_sim_blue, 'ET [mm/day]': fluxes_blue.T[0], 'Date': df_obs[\"Date\"].to_numpy()})\n",
    "\n",
    "    # Run HyMOD simulation 2 (red)\n",
    "    param_red = np.array([Sm_red, beta_red, alfa_red, 1/Rs_red, 1/Rf_red])\n",
    "    q_sim_red, states_red, fluxes_red = HyMod.hymod_sim(param_red, P, evap)\n",
    "    # Make Dataframe from results\n",
    "    df_model_red = pd.DataFrame({'Q [mm/day]': q_sim_red, 'ET [mm/day]': fluxes_red.T[0], 'Date': df_obs[\"Date\"].to_numpy()})\n",
    "\n",
    "    # The Box-Cox transform is given by:\n",
    "    # y = (x**lmbda - 1) / lmbda,  for lmbda != 0\n",
    "    #     log(x),                  for lmbda = 0\n",
    "    # reference: https://docs.scipy.org/doc/scipy/reference/generated/scipy.stats.boxcox.html\n",
    "    df_obs[\"BC-Q [mm/day]\"] = scipy.stats.boxcox(df_obs['Q [mm/day]'].array, lmbda=lmbda)\n",
    "    df_model_red[\"BC-Q [mm/day]\"] = scipy.stats.boxcox(df_model_red['Q [mm/day]'].array, lmbda=lmbda)\n",
    "    df_model_blue[\"BC-Q [mm/day]\"] = scipy.stats.boxcox(df_model_blue['Q [mm/day]'].array, lmbda=lmbda)\n",
    "    \n",
    "    # Plot results\n",
    "    plt.close()\n",
    "    fig, ax = plt.subplots(1, 1, figsize=(20, 4))\n",
    "\n",
    "    # Plot the simulated and observed Q\n",
    "    sns.lineplot(data=df_model_blue, x=\"Date\", y=\"Q [mm/day]\", label=\"HyMOD (blue)\", color=\"blue\")\n",
    "    sns.lineplot(data=df_model_red, x=\"Date\", y=\"Q [mm/day]\", label=\"HyMOD (red)\", color=\"red\")\n",
    "    sns.lineplot(data=df_obs, x=\"Date\", y=\"Q [mm/day]\", color=\"black\", label=\"Observed\")\n",
    "\n",
    "    # Show only the main ticks\n",
    "    locator = mdate.MonthLocator()\n",
    "    plt.gca().xaxis.set_major_locator(locator)\n",
    "    ax.set_title(catchment_name)\n",
    "    \n",
    "    # Display the figure\n",
    "    plt.show()\n",
    "\n",
    "    # Calculate metrics\n",
    "    bias_blue = round(bias(df_obs[\"Q [mm/day]\"], df_model_blue[\"Q [mm/day]\"]), 3)\n",
    "    rmse_blue = round(rmse(df_obs[\"Q [mm/day]\"], df_model_blue[\"Q [mm/day]\"]), 3)\n",
    "    bc_rmse_blue = round(rmse(df_obs[\"BC-Q [mm/day]\"], df_model_blue[\"BC-Q [mm/day]\"]), 3)  \n",
    "\n",
    "    bias_red = round(bias(df_obs[\"Q [mm/day]\"], df_model_red[\"Q [mm/day]\"]), 3)\n",
    "    rmse_red = round(rmse(df_obs[\"Q [mm/day]\"], df_model_red[\"Q [mm/day]\"]), 3)\n",
    "    bc_rmse_red = round(rmse(df_obs[\"BC-Q [mm/day]\"], df_model_red[\"BC-Q [mm/day]\"]), 3)\n",
    "\n",
    "    # Print metric results\n",
    "    print(f\"Blue model run: Bias = {bias_blue}, RMSE = {rmse_blue}, B.C.-RMSE = {bc_rmse_blue}\")\n",
    "    print(f\"Red  model run: Bias = {bias_red}, RMSE = {rmse_red}, B.C.-RMSE = {bc_rmse_red}\")"
   ]
  },
  {
   "cell_type": "markdown",
   "id": "ee9e5d45-1d05-4122-8a9b-8f49deb86166",
   "metadata": {},
   "source": [
    "---"
   ]
  },
  {
   "cell_type": "markdown",
   "id": "f705c2a0-1e52-4a5b-b714-fb70e119bcf3",
   "metadata": {},
   "source": [
    "### <div class=\"blue\"><span style=\"color:blue\">Exercise section</span></div>\n",
    "### Exercise 2\n",
    "\n",
    "(a) Describe the model performance evaluated with RMSE and Box-Cox transformed RMSE.\n",
    "\n",
    "* Answer\n",
    "\n",
    "(b) What do the metrics capture? What do they miss? \n",
    "\n",
    "* Answer\n",
    "\n",
    "(c) What value does additionally assessing the bias have?\n",
    "\n",
    "* Answer\n"
   ]
  },
  {
   "cell_type": "markdown",
   "id": "8fd68471-5266-4572-870d-837e58a3d3b1",
   "metadata": {},
   "source": [
    "---"
   ]
  },
  {
   "cell_type": "markdown",
   "id": "4416c4d0-d766-4261-a73f-6dc17555f0ce",
   "metadata": {},
   "source": [
    "**Multiple objectives with bias and RMSE**"
   ]
  },
  {
   "cell_type": "code",
   "execution_count": 6,
   "id": "00a85e74-7cde-487e-a3de-9933554ed4e3",
   "metadata": {},
   "outputs": [
    {
     "data": {
      "application/vnd.jupyter.widget-view+json": {
       "model_id": "caa8ffe04bf146ab83454c07c5d6fb54",
       "version_major": 2,
       "version_minor": 0
      },
      "text/plain": [
       "interactive(children=(FloatSlider(value=0.2, description='lmbda', max=1.0, min=0.01, step=0.01), Output()), _d…"
      ]
     },
     "metadata": {},
     "output_type": "display_data"
    }
   ],
   "source": [
    "@interact(lmbda = (0.01, 1.0, 0.01))    \n",
    "def multiple_objectives(lmbda=0.2):\n",
    "    # Define bounds for the parameters\n",
    "    bounds = {\"Sm\": (0, 400), \"beta\": (0, 2), \"alfa\": (0, 1), \"Rs\": (8, 200), \"Rf\": (1, 7)}\n",
    "    \n",
    "    # Create random parameter sets within the given ranges\n",
    "    n = 200\n",
    "    mult = n  # multiplier for integer generation, after which the integers are divided by mult to get the samples\n",
    "    samples_Sm = np.array(random.sample(range(bounds[\"Sm\"][0]*mult, bounds[\"Sm\"][1]*mult), n)) / mult  # generate array of random samples within bounds\n",
    "    samples_beta = np.array(random.sample(range(bounds[\"beta\"][0]*mult, bounds[\"beta\"][1]*mult), n)) / mult\n",
    "    samples_alfa = np.array(random.sample(range(bounds[\"alfa\"][0]*mult, bounds[\"alfa\"][1]*mult), n)) / mult\n",
    "    samples_Rs = np.array(random.sample(range(bounds[\"Rs\"][0]*mult, bounds[\"Rs\"][1]*mult), n)) / mult\n",
    "    samples_Rf = np.array(random.sample(range(bounds[\"Rf\"][0]*mult, bounds[\"Rf\"][1]*mult), n)) / mult\n",
    "    parameter_sets = np.column_stack((samples_Sm, samples_beta, samples_alfa, samples_Rs, samples_Rf))  # stack the generates samples as columns\n",
    "    \n",
    "    df_obs[\"BC-Q [mm/day]\"] = scipy.stats.boxcox(df_obs['Q [mm/day]'].array, lmbda=lmbda)  # Box-Cox transform observations\n",
    "    \n",
    "    # Run HyMod for all the parameter sets and compute the metrics\n",
    "    l_bias = []\n",
    "    l_rmse = []\n",
    "    l_bc_rmse = []\n",
    "    for set_id, parameter_set in enumerate(parameter_sets):\n",
    "        # Run HyMod, and get the ouput\n",
    "        Sm, beta, alfa, Rs, Rf = parameter_set\n",
    "        runoff_sim, states, fluxes = HyMod.hymod_sim([Sm, beta, alfa, 1/Rs, 1/Rf], P, evap)\n",
    "        df_model = pd.DataFrame({'Q [mm/day]': runoff_sim[-365:], 'ET [mm/day]': fluxes.T[0][-365:], 'Date': df_obs[\"Date\"].to_numpy()})\n",
    "        l_bias.append(abs(round(bias(df_obs[\"Q [mm/day]\"], df_model[\"Q [mm/day]\"]), 3)))  # calculate bias, round result and append to list\n",
    "        l_rmse.append(round(rmse(df_obs[\"Q [mm/day]\"], df_model[\"Q [mm/day]\"]), 3))  # calculate rmse, round result and append to list \n",
    "        \n",
    "        df_model[\"BC-Q [mm/day]\"] = scipy.stats.boxcox(df_model['Q [mm/day]'].array, lmbda=lmbda)  # Box-Cox transform simulation results\n",
    "        l_bc_rmse.append(round(rmse(df_obs[\"BC-Q [mm/day]\"], df_model[\"BC-Q [mm/day]\"]), 3))  # calculate bc rmse, round result and append to list\n",
    "\n",
    "    df_results = pd.DataFrame({'abs(Bias)': l_bias, 'RMSE': l_rmse, 'B.C.-RMSE': l_bc_rmse})  # create dataframe from metric results\n",
    "    \n",
    "    # Plot results\n",
    "    plt.close()\n",
    "    fig, axes = plt.subplots(1, 3, figsize=(20, 4))  # create three subplots\n",
    "    sns.scatterplot(df_results, x='RMSE', y='abs(Bias)', ax=axes[0])\n",
    "    sns.scatterplot(df_results, x='B.C.-RMSE', y='abs(Bias)', ax=axes[1])\n",
    "    sns.scatterplot(df_results, x='RMSE', y='B.C.-RMSE', ax=axes[2])\n",
    "    plt.show()\n"
   ]
  },
  {
   "cell_type": "markdown",
   "id": "c40a174f-98ad-4a51-a96c-97053ca19554",
   "metadata": {},
   "source": [
    "---"
   ]
  },
  {
   "cell_type": "markdown",
   "id": "db3bd22c-b3ce-476e-9918-acfc5e4a9e97",
   "metadata": {},
   "source": [
    "### <div class=\"blue\"><span style=\"color:blue\">Exercise section</span></div>\n",
    "### Exercise 3\n",
    "\n",
    "(a) What information can you derive from the multi-objective plots with bias?\n",
    "\n",
    "* Answer\n",
    "\n",
    "(b) What does the plot with RMSE and Box-Cox transformed RMSE show? What happens if you change lambda?\n",
    "\n",
    "* Answer\n"
   ]
  },
  {
   "cell_type": "markdown",
   "id": "631f631a-3525-424c-927e-71824210829b",
   "metadata": {},
   "source": [
    "---"
   ]
  },
  {
   "cell_type": "markdown",
   "id": "820f7bdd-4895-4ab9-9442-945be90570ba",
   "metadata": {},
   "source": [
    "**NSE, KGE and their common parts**"
   ]
  },
  {
   "cell_type": "code",
   "execution_count": 7,
   "id": "71f33702-1cff-41e1-ba12-b36ce27d78f9",
   "metadata": {},
   "outputs": [
    {
     "data": {
      "application/vnd.jupyter.widget-view+json": {
       "model_id": "988756ad9a5d4c47b223889ea0dfcdb6",
       "version_major": 2,
       "version_minor": 0
      },
      "text/plain": [
       "interactive(children=(IntSlider(value=200, description='Sm_blue', max=400), FloatSlider(value=1.0, description…"
      ]
     },
     "metadata": {},
     "output_type": "display_data"
    }
   ],
   "source": [
    "@interact(Sm_blue=(0, 400, 1), beta_blue=(0, 2, 0.01), alfa_blue=(0, 1, 0.01), Rs_blue=(8.0, 200.0, 0.5), Rf_blue=(1.0, 7.0, 0.5),\n",
    "          Sm_red=(0, 400, 1), beta_red=(0, 2, 0.01), alfa_red=(0, 1, 0.01), Rs_red=(8.0, 200.0, 0.5), Rf_red=(1.0, 7.0, 0.5))    \n",
    "def compare_hymod_runs(Sm_blue=200, beta_blue=1, alfa_blue=0.5, Rs_blue=50, Rf_blue=6, \n",
    "                       Sm_red=150, beta_red=0.7, alfa_red=0.7, Rs_red=40, Rf_red=3):\n",
    "    # Run HyMOD simulation 1 (blue)\n",
    "    param_blue = np.array([Sm_blue, beta_blue, alfa_blue, 1/Rs_blue, 1/Rf_blue])\n",
    "    q_sim_blue, states_blue, fluxes_blue = HyMod.hymod_sim(param_blue, P, evap)\n",
    "    df_model_blue = pd.DataFrame({'Q [mm/day]': q_sim_blue[-365:], 'ET [mm/day]': fluxes_blue.T[0][-365:], 'Date': df_obs[\"Date\"].to_numpy()})\n",
    "\n",
    "    # Run HyMOD simulation 2 (red)\n",
    "    param_red = np.array([Sm_red, beta_red, alfa_red, 1/Rs_red, 1/Rf_red])\n",
    "    q_sim_red, states_red, fluxes_red = HyMod.hymod_sim(param_red, P, evap)\n",
    "    df_model_red = pd.DataFrame({'Q [mm/day]': q_sim_red[-365:], 'ET [mm/day]': fluxes_red.T[0][-365:], 'Date': df_obs[\"Date\"].to_numpy()})\n",
    "    \n",
    "    # Plot results\n",
    "    plt.close()\n",
    "    fig, ax = plt.subplots(1, 1, figsize=(20, 4))\n",
    "\n",
    "    # Plot the simulated and observed Q\n",
    "    sns.lineplot(data=df_model_blue, x=\"Date\", y=\"Q [mm/day]\", label=\"HyMOD (blue)\", color=\"blue\")\n",
    "    sns.lineplot(data=df_model_red, x=\"Date\", y=\"Q [mm/day]\", label=\"HyMOD (red)\", color=\"red\")\n",
    "    sns.lineplot(data=df_obs, x=\"Date\", y=\"Q [mm/day]\", color=\"black\", label=\"Observed\")\n",
    "\n",
    "    # Show only the main ticks\n",
    "    locator = mdate.MonthLocator()\n",
    "    plt.gca().xaxis.set_major_locator(locator)\n",
    "    ax.set_title(catchment_name)\n",
    "    \n",
    "    # Display the figure\n",
    "    plt.show()\n",
    "\n",
    "    # Calculate metrics\n",
    "    nse_blue = round(nse(df_obs[\"Q [mm/day]\"], df_model_blue[\"Q [mm/day]\"]), 3)\n",
    "    r_kge_blue, alpha_kge_blue, beta_kge_blue, kge_blue = kge(df_obs[\"Q [mm/day]\"], df_model_blue[\"Q [mm/day]\"])\n",
    "\n",
    "    nse_red = round(nse(df_obs[\"Q [mm/day]\"], df_model_red[\"Q [mm/day]\"]), 3)\n",
    "    r_kge_red, alpha_kge_red, beta_kge_red, kge_red = kge(df_obs[\"Q [mm/day]\"], df_model_red[\"Q [mm/day]\"])\n",
    "\n",
    "    # Print metric results\n",
    "    print(f\"Blue model run: NSE = {nse_blue}, KGE = {kge_blue}, (KGE components: r = {r_kge_blue}, alpha = {alpha_kge_blue}, beta = {beta_kge_blue})\")\n",
    "    print(f\"Red  model run: NSE = {nse_red}, KGE = {kge_red}, (KGE components: r = {r_kge_red}, alpha = {alpha_kge_red}, beta = {beta_kge_red})\")"
   ]
  },
  {
   "cell_type": "markdown",
   "id": "44358a91-e020-47fd-b713-2002eda4f268",
   "metadata": {},
   "source": [
    "---"
   ]
  },
  {
   "cell_type": "markdown",
   "id": "10ce7c6f-61ce-4245-af42-ce117ca67469",
   "metadata": {},
   "source": [
    "### <div class=\"blue\"><span style=\"color:blue\">Exercise section</span></div>\n",
    "### Exercise 4\n",
    "\n",
    "(a) Compare the values of NSE and KGE! Under what circumstances do either of them give a result closer to their common optimal value (which is 1). \n",
    "\n",
    "* Answer\n",
    "\n",
    "(b) Which component of KGE dominates the result? (reminder: in KGE, **r** represents the correlation coefficient, **alpha** is the ratio of the standard deviations between observed and simulated values, and **beta** is the ratio of their means)\n",
    "\n",
    "![KGE Equation](https://latex.codecogs.com/svg.image?\\text{KGE}&space;=&space;1&space;-&space;\\sqrt{(r-1)^2&space;+&space;(alpha-1)^2&space;+&space;(beta-1)^2})\n",
    "\n",
    "* Answer\n",
    "\n",
    "### Additional exercises\n",
    "\n",
    "(a) Create a multi-objective scatter plot with NSE and KGE on the x- and y-axis (similarly to the scatter plots in Exercise 3 above). \n",
    "\n",
    "(b) Create a new function (RMEE - \"root mean exponent error\") that alters the RMSE function: replace the square by an integer exponent that is also applied to the root. Implement its use and make a scatter plot of RMEE and RMSE."
   ]
  },
  {
   "cell_type": "markdown",
   "id": "381d7878-05dc-4b0f-a695-58254c92e6eb",
   "metadata": {},
   "source": [
    "---"
   ]
  },
  {
   "cell_type": "markdown",
   "id": "62a50a76-b4e9-4680-a1ff-427946031e0f",
   "metadata": {},
   "source": [
    "**Multiple objectives with NSE and KGE**"
   ]
  },
  {
   "cell_type": "code",
   "execution_count": 8,
   "id": "7865f1c1-f42f-42bb-9a5e-f8d77a1ded2a",
   "metadata": {},
   "outputs": [],
   "source": [
    "# implement your code here (you may of course copy and paste parts of the python cell above)\n",
    "# beware that you will not need to run this cell interactively => remove the lines with \"@interact...\" and \"def...\"\n",
    "# you also will not need the Box-Cox transformation"
   ]
  },
  {
   "cell_type": "markdown",
   "id": "a2cb0dbd-68e7-4a10-98ce-187bf9abef63",
   "metadata": {},
   "source": [
    "## Jupyter format settings"
   ]
  },
  {
   "cell_type": "code",
   "execution_count": 9,
   "id": "cbef35f2-5cf0-433a-b77b-0e1b0945bdb6",
   "metadata": {},
   "outputs": [
    {
     "data": {
      "text/html": [
       "<style>.blue {background-color: #8dc9fc;}</style>\n"
      ],
      "text/plain": [
       "<IPython.core.display.HTML object>"
      ]
     },
     "metadata": {},
     "output_type": "display_data"
    }
   ],
   "source": [
    "%%html \n",
    "<style>.blue {background-color: #8dc9fc;}</style>"
   ]
  }
 ],
 "metadata": {
  "kernelspec": {
   "display_name": "Python 3 (ipykernel)",
   "language": "python",
   "name": "python3"
  },
  "language_info": {
   "codemirror_mode": {
    "name": "ipython",
    "version": 3
   },
   "file_extension": ".py",
   "mimetype": "text/x-python",
   "name": "python",
   "nbconvert_exporter": "python",
   "pygments_lexer": "ipython3",
   "version": "3.9.18"
  }
 },
 "nbformat": 4,
 "nbformat_minor": 5
}
