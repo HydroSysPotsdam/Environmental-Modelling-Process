{
 "cells": [
  {
   "cell_type": "markdown",
   "id": "57c399e6-a9ea-4fa4-bb54-6840ffaaf4f8",
   "metadata": {},
   "source": [
    "![](./figures/Logo.PNG)"
   ]
  },
  {
   "cell_type": "markdown",
   "id": "49ae7cf3-5f1c-4c4b-ac38-adaeb9ade587",
   "metadata": {},
   "source": [
    "## In this part of the tutorial, you will\n",
    "* use several evaluation metrics to assess a simulation performance.\n",
    "* learn about the relevance of choosing an evaluation metric.\n",
    "* discuss the value of calibration-validation."
   ]
  },
  {
   "cell_type": "markdown",
   "id": "eb120b27-971b-4406-af63-41f1ed2c884a",
   "metadata": {},
   "source": [
    "- - -"
   ]
  },
  {
   "cell_type": "markdown",
   "id": "1e4a063a-fe29-47bf-9d61-074dbb703840",
   "metadata": {},
   "source": [
    "# Tutorial 2b - Evaluation metrics: RMSE, KGE and NSE"
   ]
  },
  {
   "cell_type": "markdown",
   "id": "64b12c9c-c9fe-4ac4-9075-1d374bf6b5d4",
   "metadata": {},
   "source": [
    "- - -"
   ]
  },
  {
   "cell_type": "markdown",
   "id": "7204d92d-e6ef-4e56-b793-e877ab7d09ff",
   "metadata": {},
   "source": [
    "## 1 Introducing RMSE, KGE and NSE"
   ]
  },
  {
   "attachments": {},
   "cell_type": "markdown",
   "id": "533c4832-c044-4805-b8c8-4584a57de6fa",
   "metadata": {},
   "source": [
    "\n",
    "In Tutorial 4, we have relied on visual inspection to learn something about the model performance and to fit of the model output to the observed runoff. For some sets of parameter combinations, it can be difficult to assess which set returns the best result. In this tutorial, we will use evaluation metrics, enabling a more robust comparison between model runs with different parameterizations.\n",
    "\n",
    "TODO write text about evalutation metric"
   ]
  },
  {
   "cell_type": "markdown",
   "id": "25f6cde8-9b8b-4a38-992b-69508b19e415",
   "metadata": {},
   "source": [
    "Now we will look at three more metrics: **root mean square error (RMSE)**, **Kling-Gupta Efficiency (KGE)** and **Nash-Sutcliffe Efficiency (NSE)**.\n",
    "\n",
    "**Root Mean Square Error (RMSE)**: RMSE measures the square root of the average squared differences between its predicted values and the corresponding actual values (in other words: the square root of the MSE).\n",
    "\n",
    "   ![RMSE Equation](https://latex.codecogs.com/svg.image?\\text{RMSE}&space;=&space;\\sqrt{\\frac{1}{n}&space;\\sum_{i=1}^{n}(obs_i&space;-&space;sim_i)^2})\n",
    "\n",
    "   where **obs<sub>i</sub>** represents the observed value, **sim<sub>i</sub>** denotes the simulated value, and **n** is the total number of data points.\n",
    "\n",
    "**Kling-Gupta Efficiency (KGE)**: KGE is a hydrological metric that assesses the performance of hydrological models by measuring the correlation, bias, and variability of their predictions against observed hydrograph data. It allows evaluation of the model's accuracy, timing, and volume representation.\n",
    "\n",
    "   ![KGE Equation](https://latex.codecogs.com/svg.image?\\text{KGE}&space;=&space;1&space;-&space;\\sqrt{(r-1)^2&space;+&space;(a-1)^2&space;+&space;(b-1)^2})\n",
    "\n",
    "   where **r** represents the correlation coefficient, **a** is the ratio of the standard deviations between observed and simulated values, and **b** is the ratio of their means.\n",
    "\n",
    "\n",
    "**Nash-Sutcliffe Efficiency (NSE)**: NSE measures the proportion of the observed variance that is explained by the model results. It is particularly useful for evaluating streamflow predictions. A perfect NSE value of 1 indicates a perfect fit between the model and observed data, while negative values suggest the model performs worse than simply using the mean of the observed values.\n",
    "\n",
    "![NSE Equation](https://latex.codecogs.com/svg.image?\\text{NSE}&space;=&space;1&space;-&space;\\frac{\\sum_{i=1}^{n}(obs_i&space;-&space;sim_i)^2}{\\sum_{i=1}^{n}(obs_i&space;-&space;\\bar{obs})^2})\n",
    "\n",
    "\n",
    "   where **obs<sub>i</sub>** represents the observed value, **sim<sub>i</sub>** denotes the simulated value, and **n** is the total number of data points."
   ]
  },
  {
   "cell_type": "markdown",
   "id": "0a7daeea-a0a5-4dce-a4ae-6bd17672e66d",
   "metadata": {},
   "source": [
    "---"
   ]
  },
  {
   "cell_type": "markdown",
   "id": "e2ab249f-9e15-4524-9531-80b8cea3f317",
   "metadata": {},
   "source": [
    "### <div class=\"blue\"><span style=\"color:blue\">Exercise section</span></div>\n",
    "### Exercise 1 - Understanding RMSE, KGE and NSE\n",
    "Why are such metrics helpful? \n",
    "\n",
    "* Answer\n",
    "\n",
    "What are likely limitations of such metrics? What do they miss?\n",
    "\n",
    "* Answer"
   ]
  },
  {
   "cell_type": "markdown",
   "id": "f43f4374-d542-4bea-b448-a2c4f4dfa6b3",
   "metadata": {},
   "source": [
    "---"
   ]
  },
  {
   "cell_type": "markdown",
   "id": "05c2dddf-ef3d-4262-adb7-3c2a70ab7f2d",
   "metadata": {},
   "source": [
    "## 2 Using RMSE, KGE and NSE"
   ]
  },
  {
   "cell_type": "markdown",
   "id": "ea0f755f-e94e-4189-affe-e54114150c7d",
   "metadata": {},
   "source": [
    "**Import packages**"
   ]
  },
  {
   "cell_type": "code",
   "execution_count": 1,
   "id": "3b214a76-ad32-4776-b819-4db5533d0552",
   "metadata": {},
   "outputs": [],
   "source": [
    "import pandas as pd\n",
    "import seaborn as sns\n",
    "import numpy as np\n",
    "import matplotlib.pyplot as plt\n",
    "import matplotlib.dates as mdate\n",
    "import sys\n",
    "sys.path.append('src/')\n",
    "import HBV\n",
    "import HyMod\n",
    "from ipywidgets import interact, Dropdown"
   ]
  },
  {
   "cell_type": "markdown",
   "id": "dc8918be-badd-4b1c-a6a4-4c1898b63d03",
   "metadata": {},
   "source": [
    "**Defining RMSE, KGE and NSE**"
   ]
  },
  {
   "cell_type": "code",
   "execution_count": 2,
   "id": "d7c9c342-78ed-4b50-811c-733b2cfd81b6",
   "metadata": {},
   "outputs": [],
   "source": [
    "def rmse(obs, sim):\n",
    "    return np.sqrt(np.mean(np.square(np.subtract(obs, sim))))\n",
    "\n",
    "def nse(obs, sim):\n",
    "    # Nash-Sutcliffe efficiency (NSE)\n",
    "    # range: negative infinity to 1\n",
    "    # optimal value: 1\n",
    "    r_nse = np.corrcoef(obs, sim)[0][1] \n",
    "    alpha_nse = np.divide(np.std(sim), np.std(obs))\n",
    "    beta_nse = np.divide(np.subtract(np.mean(sim), np.mean(obs)), np.std(obs))\n",
    "    nse = 2 * alpha_nse * r - np.square(alpha_nse) - np.square(beta_nse)\n",
    "    # alternative: nse = 1-(np.divide(np.sum(np.square(np.subtract(obs, sim))), np.sum(np.square(np.subtract(obs, np.mean(obs))))))\n",
    "    return nse\n",
    "\n",
    "def kge(obs, sim):\n",
    "    # The Kling-Gupta Efficiency (KGE)\n",
    "    # range: negative infinity to 1\n",
    "    # optimal value: 1\n",
    "    r = np.corrcoef(obs, sim)[0][1] # pearson correlation coefficient\n",
    "    alpha = np.divide(np.std(sim), np.std(obs)) # variation ratio\n",
    "    beta = np.divide(np.mean(sim), np.mean(obs)) # bias\n",
    "    kge = 1 - np.sqrt(np.square(r - 1) + np.square(beta - 1) + np.square(alpha - 1))\n",
    "    return r, alpha, beta, kge\n",
    "\n",
    "dict_metrics = {\"RMSE\": rmse, \"KGE\": kge, \"NSE\": nse}\n",
    "\n",
    "def calculate_metrics(dict_metrics, obs, sim):\n",
    "    metric_results = []\n",
    "    for key in dict_metrics:\n",
    "        metric_result = dict_metrics[key](obs, sim)\n",
    "        metric_results.append({\"Metric\": key, \"Result\": metric_result})\n",
    "    # merge metric results\n",
    "    df_metric_results = pd.DataFrame.from_records(metric_results)\n",
    "    return df_metric_results"
   ]
  },
  {
   "cell_type": "markdown",
   "id": "e21b57d4-8893-49cc-bf0b-cb8257878bb1",
   "metadata": {},
   "source": [
    "**Create and display interactive menus for selecting catchment**"
   ]
  },
  {
   "cell_type": "code",
   "execution_count": 3,
   "id": "b0d6535d-6918-4af8-a91a-3acba1bda0f1",
   "metadata": {},
   "outputs": [
    {
     "data": {
      "application/vnd.jupyter.widget-view+json": {
       "model_id": "8b1c062d73584db4940dbfe97533c878",
       "version_major": 2,
       "version_minor": 0
      },
      "text/plain": [
       "Dropdown(description='Catchment:', options=('Medina River, TX, USA', 'Siletz River, OR, USA', 'Trout River, BC…"
      ]
     },
     "metadata": {},
     "output_type": "display_data"
    }
   ],
   "source": [
    "catchment_names = [\"Medina River, TX, USA\", \"Siletz River, OR, USA\", \"Trout River, BC, Canada\"]\n",
    "dropdown = Dropdown(\n",
    "    options=catchment_names,\n",
    "    value=catchment_names[0],\n",
    "    description='Catchment:',\n",
    "    disabled=False)\n",
    "\n",
    "display(dropdown)"
   ]
  },
  {
   "cell_type": "markdown",
   "id": "802d3738-d190-420a-9431-b117e0a5d4ee",
   "metadata": {},
   "source": [
    "**Read catchment data**"
   ]
  },
  {
   "cell_type": "code",
   "execution_count": 4,
   "id": "9d527fac-e269-4d49-a094-dda5b0e9611d",
   "metadata": {},
   "outputs": [],
   "source": [
    "# Read catchment data\n",
    "catchment_name = dropdown.value\n",
    "# Read catchment data\n",
    "file_dic = {catchment_names[0]: \"camels_08178880\", catchment_names[1]: \"camels_14305500\", catchment_names[2]: \"hysets_10BE007\"}\n",
    "df_obs = pd.read_csv(f\"data/{file_dic[catchment_name]}.csv\")\n",
    "# Make sure the date is interpreted as a datetime object -> makes temporal operations easier\n",
    "df_obs.date = pd.to_datetime(df_obs['date'], format='%Y-%m-%d')\n",
    "# Select time frame\n",
    "start_date = '2002-10-01'\n",
    "end_date = '2003-09-30'\n",
    "\n",
    "# Index frame by date\n",
    "df_obs.set_index('date', inplace=True)\n",
    "# Select time frame\n",
    "df_obs = df_obs[start_date:end_date]\n",
    "# Reformat the date for plotting\n",
    "df_obs[\"date\"] = df_obs.index.map(lambda s: s.strftime('%b-%d-%y'))\n",
    "# Reindex\n",
    "df_obs = df_obs.reset_index(drop=True)\n",
    "# Select snow, precip, PET, streamflow and T\n",
    "df_obs = df_obs[[\"snow_depth_water_equivalent_mean\", \"total_precipitation_sum\",\"potential_evaporation_sum\",\"streamflow\", \"temperature_2m_mean\", \"date\"]]\n",
    "# Rename variables\n",
    "df_obs.columns = [\"Snow [mm/day]\", \"P [mm/day]\", \"PET [mm/day]\", \"Q [mm/day]\", \"T [C]\", \"Date\"]"
   ]
  },
  {
   "cell_type": "markdown",
   "id": "1c0e8799-9b5f-472a-8a42-ceb961231748",
   "metadata": {},
   "source": [
    "**Prepare input data for models and define plotting function for model and metric results**"
   ]
  },
  {
   "cell_type": "code",
   "execution_count": 5,
   "id": "a730ec71-0806-4359-8601-5839546d7b52",
   "metadata": {},
   "outputs": [],
   "source": [
    "# Prepare the data intput for both models\n",
    "P = df_obs[\"P [mm/day]\"].to_numpy()\n",
    "evap = df_obs[\"PET [mm/day]\"].to_numpy()\n",
    "temp = df_obs[\"T [C]\"].to_numpy()\n",
    "\n",
    "def plot_results(df_obs, df_model, label):\n",
    "    plt.close()\n",
    "    fig, ax = plt.subplots(1, 1, figsize=(20, 4))\n",
    "\n",
    "    # Plot the simulated and observed Q\n",
    "    sns.lineplot(data=df_model, x=\"Date\", y=\"Q [mm/day]\", label=label)\n",
    "    sns.lineplot(data=df_obs, x=\"Date\", y=\"Q [mm/day]\", color=\"black\", label=\"Observed\")\n",
    "\n",
    "    # Show only the main ticks\n",
    "    locator = mdate.MonthLocator()\n",
    "    plt.gca().xaxis.set_major_locator(locator)\n",
    "    ax.set_title(catchment_name)\n",
    "    \n",
    "    # Display the figure\n",
    "    plt.show()"
   ]
  },
  {
   "cell_type": "markdown",
   "id": "0bafbfd4-a679-4250-bac8-65cf14926a1a",
   "metadata": {},
   "source": [
    "**Using RMSE, KGE and NSE to evaluate HyMOD results**"
   ]
  },
  {
   "cell_type": "code",
   "execution_count": 6,
   "id": "b8353e3a-c9d5-47ea-ad9a-2c2ac2db6268",
   "metadata": {},
   "outputs": [
    {
     "data": {
      "application/vnd.jupyter.widget-view+json": {
       "model_id": "542732461f80422aa6a20e6221959c46",
       "version_major": 2,
       "version_minor": 0
      },
      "text/plain": [
       "interactive(children=(IntSlider(value=200, description='Sm', max=400), FloatSlider(value=1.0, description='bet…"
      ]
     },
     "metadata": {},
     "output_type": "display_data"
    }
   ],
   "source": [
    "@interact(Sm = (0, 400, 1), beta = (0, 2, 0.01), alpha = (0, 1, 0.01), Rs = (0, 1, 0.01), Rf = (0, 1, 0.01))    \n",
    "def oat_hymod_function(Sm=200, beta=1, alpha=0.5, Rs=0.5, Rf=0.5):\n",
    "    # Run HyMOD simulation\n",
    "    param = np.array([Sm, beta, alpha, Rs, Rf]) # Sm (mm), beta (-), alfa (-), Rs (-), Rf (-)\n",
    "    q_sim, states, fluxes = HyMod.hymod_sim(param, P, evap)\n",
    "    # Make Dataframe from results\n",
    "    df_model = pd.DataFrame({'Q [mm/day]': q_sim[-365:], 'ET [mm/day]': fluxes.T[0][-365:], 'Date': df_obs[\"Date\"].to_numpy()})\n",
    "\n",
    "    # Plot results\n",
    "    plot_results(df_obs, df_model, \"HyMOD\")\n",
    "\n",
    "    # Calculate metrics from simulation results\n",
    "    df_metric_results = calculate_metrics(dict_metrics, df_obs[\"Q [mm/day]\"], df_model[\"Q [mm/day]\"])\n",
    "    print(df_metric_results)"
   ]
  },
  {
   "cell_type": "markdown",
   "id": "0f455ade-9561-4fac-ac57-c27f5082fa5d",
   "metadata": {},
   "source": [
    "---"
   ]
  },
  {
   "cell_type": "markdown",
   "id": "0120273b-85b8-4086-93b7-7522088296b5",
   "metadata": {},
   "source": [
    "### <div class=\"blue\"><span style=\"color:blue\">Exercise section</span></div>\n",
    "### Exercise 2 \n",
    "\n",
    "2.1 Speculate on what kind of deviations from the observed they are able to pick up (and which ones they would likely miss).\n",
    "\n",
    "* Answer\n",
    "\n",
    "2.2 Are you satisfied with what the RMSE was able to achieve? Is there a reason why it might not be the best choice for an objective function?\n",
    "\n",
    "* Answer\n",
    "\n",
    "2.3 Why is the RMSE a metric that can capture how well the process of quick responses are represented?\n",
    "\n",
    "* Answer\n",
    "\n",
    "2.4 Are the performances captured by the metrics linked to specific catchments or models? Can you judge how a model deviates from the observed based only on one of the error metrics?\n",
    "\n",
    "* Answer\n",
    "\n",
    "2.5 How much would you trust a model evaluation that used only the bias in their validation-calibration process? \n",
    "\n",
    "* Answer\n",
    "  \n",
    "2.6 What conclusions can you draw for your own future model evaluations (even if they are not hydrological models!) and calibrations in the future?\n",
    "\n",
    "* Answer\n",
    "\n",
    "\n",
    "\n",
    "### Additional tasks\n",
    "\n",
    "1 Answer the questions of Exercise 2 using the metrics to evaluate the HBV model (below). \n",
    "\n",
    "2 Can you come up with your own metric? Start by thinking back to the lecture of visual evaluation and the different goals described there.\n",
    "\n",
    "* Answer"
   ]
  },
  {
   "cell_type": "markdown",
   "id": "b65a85b0-fe3c-43a8-9dc7-31067800981f",
   "metadata": {},
   "source": [
    "---"
   ]
  },
  {
   "cell_type": "markdown",
   "id": "3889ccb2-1134-45f6-aff1-bd0c222c92c4",
   "metadata": {},
   "source": [
    "## Jupyter format settings"
   ]
  },
  {
   "cell_type": "code",
   "execution_count": 8,
   "id": "b9db7dce-a2f4-4600-a948-11cac43879ae",
   "metadata": {},
   "outputs": [
    {
     "data": {
      "text/html": [
       "<style>.blue {background-color: #8dc9fc;}</style>\n"
      ],
      "text/plain": [
       "<IPython.core.display.HTML object>"
      ]
     },
     "metadata": {},
     "output_type": "display_data"
    }
   ],
   "source": [
    "%%html \n",
    "<style>.blue {background-color: #8dc9fc;}</style>"
   ]
  }
 ],
 "metadata": {
  "kernelspec": {
   "display_name": "Python 3 (ipykernel)",
   "language": "python",
   "name": "python3"
  },
  "language_info": {
   "codemirror_mode": {
    "name": "ipython",
    "version": 3
   },
   "file_extension": ".py",
   "mimetype": "text/x-python",
   "name": "python",
   "nbconvert_exporter": "python",
   "pygments_lexer": "ipython3",
   "version": "3.9.13"
  }
 },
 "nbformat": 4,
 "nbformat_minor": 5
}
