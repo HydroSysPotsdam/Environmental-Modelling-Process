{
 "cells": [
  {
   "cell_type": "markdown",
   "id": "1f252018-11f7-4da1-871f-a86ee8ae9ed4",
   "metadata": {
    "editable": true
   },
   "source": [
    "![](./figures/Logo.PNG)"
   ]
  },
  {
   "cell_type": "markdown",
   "id": "1e4a063a-fe29-47bf-9d61-074dbb703840",
   "metadata": {
    "editable": true
   },
   "source": [
    "# 4 a - Coding hints"
   ]
  },
  {
   "cell_type": "markdown",
   "id": "ac289249-cc1c-4a4a-972b-a2a5c694ac3a",
   "metadata": {
    "editable": true
   },
   "source": [
    "---"
   ]
  },
  {
   "cell_type": "markdown",
   "id": "9947dc5e-c974-4e2a-9a6e-8bfd9b9f004e",
   "metadata": {
    "editable": true
   },
   "source": [
    "**Set current working directory and import python modules**"
   ]
  },
  {
   "cell_type": "code",
   "execution_count": 1,
   "id": "82bfd5f8-4284-48b7-88f1-56a8c6e83b5d",
   "metadata": {},
   "outputs": [],
   "source": [
    "import numpy as np\n",
    "import matplotlib.pyplot as plt\n",
    "import pandas as pd\n",
    "import scipy.stats as st\n",
    "import sys\n",
    "import seaborn as sns\n",
    "import matplotlib.dates as mdate\n",
    "sys.path.append('src/')\n",
    "from sampling import AAT_sampling # module to perform the input sampling\n",
    "\n",
    "import HyMod"
   ]
  },
  {
   "cell_type": "markdown",
   "id": "655b1c6d-bd77-4aee-a177-b89d552001fe",
   "metadata": {
    "editable": true
   },
   "source": [
    "**Load data, prepare input data**"
   ]
  },
  {
   "cell_type": "code",
   "execution_count": 2,
   "id": "386e9f83-d3e9-4d0e-b4e2-777fd129d82d",
   "metadata": {},
   "outputs": [],
   "source": [
    "# Read catchment data\n",
    "catchment_names = [\"Pere Marquette River, MI, USA\", \"Trout River, BC, Canada\", \n",
    "                   \"Siletz River, OR, USA\", \"Medina River, TX, USA\",\n",
    "                   \"South Branch Potomac River, USA\", \"Bad River, Wisconsin, USA\"]\n",
    "catchment_name = catchment_names[5]\n",
    "file_dic = {catchment_names[0]: \"camels_04122500\", catchment_names[1]: \"hysets_10BE007\", \n",
    "            catchment_names[2]: \"camels_14305500\", catchment_names[3]: \"camels_08178880\",\n",
    "            catchment_names[4]: \"camels_01605500\", catchment_names[5]: \"camels_04027000\"}\n",
    "df_obs = pd.read_csv(f\"data/{file_dic[catchment_name]}.csv\")\n",
    "# Make sure the date is interpreted as a datetime object -> makes temporal operations easier\n",
    "df_obs.date = pd.to_datetime(df_obs['date'], format='%Y-%m-%d')\n",
    "# Index frame by date\n",
    "df_obs.set_index('date', inplace=True)\n",
    "# Select time frame\n",
    "start_date = '2005-01-01'\n",
    "end_date = '2006-12-31'\n",
    "df_obs = df_obs[start_date:end_date]\n",
    "n_days = 365  # days for the model to spin-up (fill with water)\n",
    "# Reformat the date for plotting\n",
    "df_obs[\"date\"] = df_obs.index.map(lambda s: s.strftime('%b-%d-%y'))\n",
    "# Reindex\n",
    "df_obs = df_obs.reset_index(drop=True)\n",
    "# Select snow, precip, PET, streamflow and T\n",
    "df_obs = df_obs[[\"snow_depth_water_equivalent_mean\", \"total_precipitation_sum\",\"potential_evaporation_sum\",\"streamflow\", \"temperature_2m_mean\", \"date\"]]\n",
    "# Rename variables\n",
    "df_obs.columns = [\"Snow [mm/day]\", \"P [mm/day]\", \"PET [mm/day]\", \"Q [mm/day]\", \"T [C]\", \"Date\"]\n",
    "\n",
    "# Extract time series\n",
    "P = df_obs[\"P [mm/day]\"].to_numpy()\n",
    "pet = df_obs[\"PET [mm/day]\"].to_numpy()\n",
    "#temp = df_obs[\"T [C]\"].to_numpy()\n",
    "Q_obs = df_obs[\"Q [mm/day]\"].to_numpy()\n",
    "\n",
    "# Number of uncertain parameters subject to SA:\n",
    "M = 5\n",
    "\n",
    "# Parameter ranges:\n",
    "xmin = [1, 0, 0, 8, 1]\n",
    "xmax = [400, 2, 1, 200, 7]\n",
    "\n",
    "# Parameter distributions:\n",
    "distr_fun = st.uniform # uniform distribution\n",
    "# The shape parameters of the uniform distribution are the lower limit and the\n",
    "# difference between lower and upper limits:\n",
    "distr_par = [np.nan] * M\n",
    "for i in range(M):\n",
    "    distr_par[i] = [xmin[i], xmax[i] - xmin[i]]\n",
    "\n",
    "# Name of parameters (will be used to customize plots):\n",
    "parameter_names = ['Sm', 'beta', 'alfa', 'Rs', 'Rf']\n",
    "\n",
    "samp_strat = \"lhs\"  # Latin Hypercube sampling"
   ]
  },
  {
   "cell_type": "markdown",
   "id": "6c3f6d2d-02fd-42e2-9bca-3af5deef7618",
   "metadata": {
    "editable": true
   },
   "source": [
    "**History matching**"
   ]
  },
  {
   "cell_type": "code",
   "execution_count": 3,
   "id": "1a0e24e0-cbf9-4062-9563-e65f3b4fb304",
   "metadata": {},
   "outputs": [],
   "source": [
    "try:\n",
    "    # Set number of sample sets\n",
    "    #N_samples =\n",
    "    # Set precipitation ensemble size \n",
    "    #N_precip =\n",
    "    # Set minimum of precipitation multiplier (e.g. 0.8)\n",
    "    #multiplier_min =\n",
    "    # Set maximum of precipitation multiplier (e.g. 1.2)\n",
    "    #multiplier_max =\n",
    "    # Set threshold for implausibility (e.g. 3)\n",
    "    #implausibility_threshold = \n",
    "    #print(f\"Running the model {N_samples*N_precip} times: {N_samples} parameter sets, varying precipitation {N_precip} times\")\n",
    "\n",
    "    # Sample parameter sets using AAT_sampling (using random uniform sampling - \"rsu\")\n",
    "\n",
    "    \n",
    "    # Create two empty lists where we collect plausible parameter sets and plausible simulation outputs (runoff)\n",
    "    # [1]\n",
    "    # [2]\n",
    "    \n",
    "    # loop through the parameter sets\n",
    "    #for  in :\n",
    "        # create empty list where we collect the simulated runoff for current parameter set, with varied precipitation\n",
    "        # [3]\n",
    "    \n",
    "        # Create precipitation multipliers between min and max (size=N_precip). \n",
    "        # You can use np.random.uniform(), check the docu to learn how to use it\n",
    "\n",
    "        \n",
    "        # loop throguh precipitation multipliers\n",
    "        # for  in :\n",
    "            # prepare parameters for the HyMod implementation: 1/Rf and 1/Rs, the other parameters stay the same\n",
    "            #param = np.array([parameter_set[0], parameter_set[1], parameter_set[2], 1/parameter_set[3], 1/parameter_set[4]])\n",
    "            \n",
    "            # multiply precipitation with the current multiplier\n",
    "    \n",
    "            \n",
    "            # run HyMod using the multiplied precipitation data ( Q, states, fluxes = HyMod.hymod_sim(param, P_multiplied, pet) )\n",
    "\n",
    "    \n",
    "            # append resulting simulated runoff for current parameter set with current precipitation to empty list defined above: at [3]\n",
    "    \n",
    "\n",
    "        # use np.array() to transform list from [3] to numpy array\n",
    "    \n",
    "\n",
    "        # Calculate the expected value of the simulated runoff for different precipitation data. You can use np.mean(). \n",
    "        # Make sure you choose the right axis to compute the mean along: the result should have the length of simulated timesteps (365 days)\n",
    "\n",
    "    \n",
    "        # Calculate the mean of the residuals of each timestep using the expected value and Q_obs[n_days:]. \n",
    "        # [n_days:] is used to crop the Q_obs data to the evaluation period \n",
    "    \n",
    "    \n",
    "        # Calculate the mean of the square root of the variance of the simulated runoff. \n",
    "        # You can use np.mean(npsqrt(np.var(<variable>))) \n",
    "    \n",
    "\n",
    "        # Calculate the implausibility: divide the residual by the variance term\n",
    "\n",
    "    \n",
    "        #print(implausibility)\n",
    "    \n",
    "        # Check whether implausibility is too large for this parameter set (if smaller than the implausibility threshold defined above)\n",
    "\n",
    "    \n",
    "            # if plausible: append expected value of the simulated runoff for different precipitation data to list [2] and...\n",
    "\n",
    "    \n",
    "            # ... the parameter set that got plausible results to list [1]\n",
    "\n",
    "    \n",
    "\n",
    "    # Transform list to array (np.array()), transpose array (.T) and make a DataFrame of the result (pd.DataFrame)\n",
    "    #df_Q_sims_plausible = pd.DataFrame(np.array(<list [2]>).T)  \n",
    "\n",
    "    \"\"\"\n",
    "    # Preparing lineplots\n",
    "    df_obs_eval = df_obs[n_days:]\n",
    "    # Add date column to plausible data\n",
    "    df_Q_sims_plausible[\"Date\"] = df_obs[\"Date\"].to_numpy()[n_days:]\n",
    "    # Set date as index. This way, each column will be associated with the date when we melt the dataframe in the next step\n",
    "    df_Q_sims_plausible = df_Q_sims_plausible.set_index(\"Date\")\n",
    "    # Data is in multiple columns (one for each plausible parameter set), but for plotting we need it in one column\n",
    "    # We do not ignore the index in melt so that the date will remain associated with the respective runoffs of the plausible parameter sets\n",
    "    df_Q_sims_plausible = df_Q_sims_plausible.melt(var_name=\"parameter set id\", value_name=\"Q_sim [mm/day]\", ignore_index=False)\n",
    "    # Set index (is currently the date) as column\n",
    "    df_Q_sims_plausible = df_Q_sims_plausible.reset_index()\n",
    "    #print(f\"df_Q_sims_plausible: {df_Q_sims_plausible}\")    \n",
    "    \n",
    "    print(\"Plotting plausible runoff and observations\")\n",
    "    fig, ax = plt.subplots(1, 1, figsize=(20, 4))\n",
    "    sns.lineplot(df_Q_sims_plausible, x=\"Date\", y=\"Q_sim [mm/day]\", linewidth=0, errorbar=(\"ci\", 100))\n",
    "    sns.lineplot(df_obs[n_days:], x=\"Date\", y=\"Q [mm/day]\")\n",
    "    \n",
    "    # Show only the main ticks\n",
    "    locator = mdate.MonthLocator()\n",
    "    plt.gca().xaxis.set_major_locator(locator)\n",
    "    ax.set_title(catchment_name)\n",
    "    plt.xticks(rotation=25)\n",
    "    #plt.ylim(bottom=0, top=2)  # you may set y limits to get a clearer view on the hydrograph\n",
    "    plt.show()\"\"\"\n",
    "    \n",
    "except Exception as error:\n",
    "    print(\"An error occurred:\", error)"
   ]
  }
 ],
 "metadata": {
  "kernelspec": {
   "display_name": "Python 3 (ipykernel)",
   "language": "python",
   "name": "python3"
  },
  "language_info": {
   "codemirror_mode": {
    "name": "ipython",
    "version": 3
   },
   "file_extension": ".py",
   "mimetype": "text/x-python",
   "name": "python",
   "nbconvert_exporter": "python",
   "pygments_lexer": "ipython3",
   "version": "3.9.19"
  }
 },
 "nbformat": 4,
 "nbformat_minor": 5
}
