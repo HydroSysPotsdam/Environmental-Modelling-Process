{
 "cells": [
  {
   "cell_type": "markdown",
   "id": "84125819-58ec-4ca4-a47a-3adaefdbd23e",
   "metadata": {
    "editable": true
   },
   "source": [
    "![](./figures/Logo.PNG)"
   ]
  },
  {
   "cell_type": "markdown",
   "id": "d6db7066-4b12-49db-a013-5427ef5e7a51",
   "metadata": {
    "editable": true,
    "slideshow": {
     "slide_type": ""
    },
    "tags": []
   },
   "source": [
    "## In this part of the tutorial, you will\n",
    "- study and discuss the HyMOD model and its input parameters\n",
    "- manually fit the model to the runoff in three different catchments\n",
    "- use the residual to compare calibrated model results"
   ]
  },
  {
   "cell_type": "markdown",
   "id": "38a9c176-f978-46c3-94ad-89cbf94492cf",
   "metadata": {
    "editable": true
   },
   "source": [
    "---"
   ]
  },
  {
   "cell_type": "markdown",
   "id": "96cd0304-c260-49f6-9a4e-4fd7e184be09",
   "metadata": {
    "editable": true
   },
   "source": [
    "# 1d - The HyMOD model"
   ]
  },
  {
   "cell_type": "markdown",
   "id": "cf54c620-ff85-4f9c-97a5-ec9dc8794420",
   "metadata": {
    "editable": true
   },
   "source": [
    "---"
   ]
  },
  {
   "cell_type": "markdown",
   "id": "ae0a2276-b5e7-4f3b-9ef9-438c5167c502",
   "metadata": {
    "editable": true
   },
   "source": [
    "## 1. About HyMOD"
   ]
  },
  {
   "cell_type": "markdown",
   "id": "fc359d47-ad6d-4c25-ac67-8aafde4cb877",
   "metadata": {
    "editable": true
   },
   "source": [
    "The HYdrological MODel (HYMOD) is a conceptual rainfall-runoff model that is used to simulate the hydrological cycle of a catchment area. It simulates a [spatially lumped](https://en.wikipedia.org/wiki/Lumped-element_model) hydrologic system at the [catchment](https://en.wikipedia.org/wiki/Drainage_basin) scale.\n",
    "\n",
    "It takes daily rainfall and potential evapotranspiration as input data, and uses a nonlinear water-storage-capacity-distribution-function to simulate river discharge. The model has four water storage tanks: three are quick water storage tanks, while one is a slow water storage tank.\n",
    "\n",
    "\n",
    "HyMOD was developed by Doug Boyle as part of his PhD Thesis ([Wagener et al., 2001](https://hess.copernicus.org/articles/5/13/2001/hess-5-13-2001.html)). The model consists of only five parameters. These represent some key basin characteristics that determine the transformation of rainfall into flow, such as the soil moisture accounting ($S_M$ and $beta$) and the flow routing ($R_S$, $R_F$ and $alfa$). \n",
    "\n",
    "<figure>\n",
    "    <img src=\"./figures/Hymod_fig_cropped.PNG\" style=\"width:70%\">\n",
    "    <figcaption>Conceptual diagram of HyMOD. Boxes represent water storage and arrows fluxes.</figcaption>\n",
    "</figure>\n",
    "\n",
    "Table of HyMOD parameters with min and max values:\n",
    "\n",
    "|Parameter|Meaning|Units|Min|Max|\n",
    "|---|---|---|---|---|\n",
    "|Sm|maximum soil moisture|mm|0|2000|\n",
    "|beta|exponent in the soil moisture routine|-|0|7|\n",
    "|alfa|partition coefficient|-|0|1|\n",
    "|Rs|slow reservoir coefficient|d|8|200|\n",
    "|Rf|fast reservoir coefficient|d|1|7|\n",
    "\n",
    "The required data is\n",
    "* time series of **precipitation**\n",
    "* time series of **potential evapotranspiration** (representing the available energy)\n",
    "\n",
    "Output:\n",
    "* time series of **simulated flow**\n",
    "\n",
    "For more information, check out [Wagener et al. (2001)](https://hess.copernicus.org/articles/5/13/2001/hess-5-13-2001.html)"
   ]
  },
  {
   "cell_type": "markdown",
   "id": "0bb7049e-08e7-4d6b-a37c-d0d6d7db67d9",
   "metadata": {
    "editable": true,
    "jp-MarkdownHeadingCollapsed": true,
    "slideshow": {
     "slide_type": ""
    },
    "tags": []
   },
   "source": [
    "<div style=\"background:#e0f2fe; padding:1%; border:1mm solid SkyBlue\">\n",
    "    <h4><span>&#129300 </span>Your Turn I: Understanding HyMOD</h4>\n",
    "    Discuss the following points together:\n",
    "    <ol>\n",
    "        <li>What assumptions are implied by model imply? How is reality simplified? What is important? What is not important?</li>\n",
    "        <li>What are the individual effects of the model parameter?</li>\n",
    "    </ol>\n",
    "</div>"
   ]
  },
  {
   "cell_type": "markdown",
   "id": "de79ddcd-72ca-450a-b8be-b491632314c7",
   "metadata": {
    "editable": true,
    "slideshow": {
     "slide_type": ""
    },
    "tags": []
   },
   "source": [
    "## 2. Using HyMOD"
   ]
  },
  {
   "cell_type": "markdown",
   "id": "1431d966-b50b-4007-9f44-f8e8ac4e2f94",
   "metadata": {
    "editable": true
   },
   "source": [
    "**Import packages**"
   ]
  },
  {
   "cell_type": "code",
   "execution_count": 1,
   "id": "37c253bf-9326-4eb7-bf66-7c4a841de174",
   "metadata": {},
   "outputs": [],
   "source": [
    "import sys\n",
    "sys.path.append('src/')\n",
    "import HyMod\n",
    "import seaborn as sns\n",
    "import matplotlib.pyplot as plt\n",
    "import matplotlib.dates as mdate\n",
    "import numpy as np\n",
    "import pandas as pd\n",
    "from ipywidgets import interact, Dropdown"
   ]
  },
  {
   "cell_type": "markdown",
   "id": "f07baaee-78cf-466a-91b3-df7f7973f375",
   "metadata": {
    "editable": true
   },
   "source": [
    "**Create and display dropdown menu for selecting catchment**"
   ]
  },
  {
   "cell_type": "code",
   "execution_count": 2,
   "id": "56bcc31b-a333-42ed-952d-9235047c3445",
   "metadata": {
    "editable": true,
    "jupyter": {
     "source_hidden": false
    },
    "source_hidden": true
   },
   "outputs": [
    {
     "data": {
      "application/vnd.jupyter.widget-view+json": {
       "model_id": "f08c74c701474b44808d729f7ae9d811",
       "version_major": 2,
       "version_minor": 0
      },
      "text/plain": [
       "Dropdown(description='Catchment:', options=('Medina River, TX, USA', 'Siletz River, OR, USA', 'Trout River, BC…"
      ]
     },
     "metadata": {},
     "output_type": "display_data"
    }
   ],
   "source": [
    "# DO NOT ALTER! code to select the catchment\n",
    "\n",
    "catchment_names = [\"Medina River, TX, USA\", \"Siletz River, OR, USA\", \"Trout River, BC, Canada\"]\n",
    "dropdown = Dropdown(\n",
    "    options=catchment_names,\n",
    "    value=catchment_names[0],\n",
    "    description='Catchment:',\n",
    "    disabled=False)\n",
    "\n",
    "display(dropdown)"
   ]
  },
  {
   "cell_type": "markdown",
   "id": "2bafa139-d163-4d4e-ab20-f7bcb376d8de",
   "metadata": {
    "editable": true
   },
   "source": [
    "**Read catchment data, prepare input for model**"
   ]
  },
  {
   "cell_type": "code",
   "execution_count": 3,
   "id": "37758396-566b-4049-ae4b-be9bbafda806",
   "metadata": {},
   "outputs": [],
   "source": [
    "# Read catchment data\n",
    "catchment_name = dropdown.value\n",
    "# Read catchment data\n",
    "file_dic = {catchment_names[0]: \"camels_08178880\", catchment_names[1]: \"camels_14305500\", catchment_names[2]: \"hysets_10BE007\"}\n",
    "df = pd.read_csv(f\"data/{file_dic[catchment_name]}.csv\")\n",
    "# Make sure the date is interpreted as a datetime object -> makes temporal operations easier\n",
    "df.date = pd.to_datetime(df['date'], format='%Y-%m-%d')\n",
    "# Index frame by date\n",
    "df.set_index('date', inplace=True)\n",
    "# Select only the columns we need\n",
    "df = df[[\"total_precipitation_sum\",\"potential_evaporation_sum\",\"streamflow\", \"temperature_2m_mean\"]]\n",
    "# Rename variables\n",
    "df.columns = [\"P [mm/day]\", \"PET [mm/day]\", \"Q [mm/day]\", \"T [C]\"]\n",
    "# Select time frame\n",
    "start_date = '2002-10-01'\n",
    "end_date = '2003-09-30'\n",
    "df = df[start_date:end_date]\n",
    "# Reformat the date for plotting\n",
    "df[\"Date\"] = df.index.map(lambda s: s.strftime('%b-%d-%y'))\n",
    "df = df.reset_index(drop=True)\n",
    "\n",
    "# Prepare the data intput for both models\n",
    "P = df[\"P [mm/day]\"].to_numpy()\n",
    "evap = df[\"PET [mm/day]\"].to_numpy()\n",
    "temp = df[\"T [C]\"].to_numpy()"
   ]
  },
  {
   "cell_type": "markdown",
   "id": "aee02d8a-811c-425b-ac57-f507506761f8",
   "metadata": {
    "editable": true
   },
   "source": [
    "**Run HyMOD interactively**"
   ]
  },
  {
   "cell_type": "code",
   "execution_count": 4,
   "id": "ed75c170-92b3-4a9b-9a29-2dc0b5a15d7a",
   "metadata": {},
   "outputs": [
    {
     "data": {
      "application/vnd.jupyter.widget-view+json": {
       "model_id": "3aa515e984a24e99b059e57794ea5a7a",
       "version_major": 2,
       "version_minor": 0
      },
      "text/plain": [
       "interactive(children=(IntSlider(value=200, description='Sm', max=400), FloatSlider(value=1.0, description='bet…"
      ]
     },
     "metadata": {},
     "output_type": "display_data"
    }
   ],
   "source": [
    "@interact(Sm = (0, 400, 1), beta = (0, 2, 0.01), alfa = (0, 1, 0.01), Rs = (8.0, 200.0, 0.5), Rf = (1.0, 7.0, 0.5))    \n",
    "def oat_hymod_function(Sm = 200, beta = 1, alfa = 0.5, Rs = 50, Rf = 6):\n",
    "    # Run HyMOD simulation\n",
    "    param = np.array([Sm, beta, alfa, 1/Rs, 1/Rf])\n",
    "    q_sim, states, fluxes = HyMod.hymod_sim(param, P, evap)\n",
    "    # Make Dataframe from results\n",
    "    df_model = pd.DataFrame({'Q_sim [mm/day]': q_sim[-365:], 'ET [mm/day]': fluxes.T[0][-365:], 'Date': df[\"Date\"].to_numpy()})\n",
    "\n",
    "    # Prepare plot of results\n",
    "    fig, ax = plt.subplots(figsize=(20, 4))  # set figure size\n",
    "\n",
    "    # Plot the simulated and observed runoff (Q)\n",
    "    sns.lineplot(data=df_model, x=\"Date\", y=\"Q_sim [mm/day]\", label=\"HyMOD\")\n",
    "    sns.lineplot(data=df, x=\"Date\", y=\"Q [mm/day]\", color=\"black\", label=\"Observed\")\n",
    "\n",
    "    # Show only the main ticks\n",
    "    locator = mdate.MonthLocator()\n",
    "    plt.gca().xaxis.set_major_locator(locator)\n",
    "\n",
    "    ax.set_title(catchment_name)\n",
    "    \n",
    "    # Display the figure\n",
    "    plt.show()"
   ]
  },
  {
   "cell_type": "markdown",
   "id": "577f055b-6cac-4576-8ca9-4fdafb3be12e",
   "metadata": {
    "editable": true
   },
   "source": [
    "<div style=\"background:#e0f2fe; padding:1%; border:1mm solid SkyBlue\">\n",
    "    <h4><span>&#129300 </span>Your Turn II: Manually Fit the Model</h4>\n",
    "    <ol>\n",
    "        <li>Try to manually alter the parameters to get a good fit.\n",
    "            <ul>\n",
    "                <li>Which induce a strong change in the hydrograph?</li>\n",
    "                <li>Which are important for a good-quality fit?</li>\n",
    "            </ul>\n",
    "        </li>\n",
    "        <li>Discuss, how the model captures different features of the hydrograph (e.g., flow volume, low flows, peak amplitude, peak timing) and where it fails to do so.</li>\n",
    "    </ol>\n",
    "    <i>You may want to note down the parameter values for each catchment in the table below, as you will need them later.</i>\n",
    "</div>"
   ]
  },
  {
   "cell_type": "markdown",
   "id": "e8458ad8-c9aa-4e6c-96fe-13923149a0a5",
   "metadata": {
    "editable": true
   },
   "source": [
    "|Catchment|Sm|beta|alfa|Rs|Rf|\n",
    "|---|---|---|---|---|---|\n",
    "|Medina River, TX, USA|?|?|?|?|?|\n",
    "|Siletz River, OR, USA|?|?|?|?|?|\n",
    "|Trout River, BC, Canada|?|?|?|?|?|"
   ]
  },
  {
   "cell_type": "markdown",
   "id": "91e8612e-2671-4f8e-a230-59021a098483",
   "metadata": {
    "editable": true
   },
   "source": [
    "**Some notes on pandas dataframes**: \n",
    "\n",
    "DataFrames are 2-dimensional data structures with columns, like a spreadsheet or SQL table. They allow quick and easy operations on the columns. Lets say we have a dataframe called df_example with two columns: 'A' and 'B'. All rows in 'A' contain the integer 1, all rows in 'B' have the integer 2. Then you can easily sum them up, creating a column 'C': \n",
    "```python\n",
    "    df_example['C'] = df_example['A'] + df_example['B']\n",
    "```\n",
    "If there was an additional column 'D' containing the numbers of 1 to 10, you could kick out all rows of df_example where 'D' has 1s or 2s by:\n",
    "```python\n",
    "    df_example = df_example[df_example['D'] > 2]\n",
    "```\n",
    "Also, there are plenty of functionalities implemented in the pandas package, like: [mean](https://pandas.pydata.org/docs/reference/api/pandas.DataFrame.mean.html), [median](https://pandas.pydata.org/docs/reference/api/pandas.DataFrame.median.html), [max](https://pandas.pydata.org/docs/reference/api/pandas.DataFrame.max.html), [pow](https://pandas.pydata.org/docs/reference/api/pandas.DataFrame.pow.html). In the following example, you will [merge](https://pandas.pydata.org/docs/reference/api/pandas.DataFrame.merge.html) two dataframes."
   ]
  },
  {
   "cell_type": "markdown",
   "id": "094b6dfa-ea8a-40b7-b5ec-c1658a664363",
   "metadata": {
    "editable": true
   },
   "source": [
    "<div style=\"background:#e0f2fe; padding:1%; border:1mm solid SkyBlue\">\n",
    "    <h4><span>&#129300 </span>Your Turn III: Look at the Model Residuals</h4>\n",
    "    <p>Once you are satisfied with your manual calibration results: use the python cell below to take a closer look at the residuals. \n",
    "        <ol>\n",
    "            <li>What insights about the model can you gain by looking at them?</li>\n",
    "        </ol>\n",
    "    </p>\n",
    "    <p>Use statistical metrics you know (mean, standard deviation, ...) to help you discuss the following questions:</p>\n",
    "    <ol start=2>\n",
    "        <li>How good is the flow volume reflected?</li>\n",
    "        <li>Are low flows captured well?</li>\n",
    "        <li>Compared to other calibrations (e.g. your neighbour's): which simulation result is closer to the observed values?</li>\n",
    "    </ol>\n",
    "    <i>Before you start: remove the \"'''\" at the top and bottom, and make sure you enter the parameter values from above.<i>\n",
    "</div>"
   ]
  },
  {
   "cell_type": "markdown",
   "id": "ab97d075-989c-4f5e-ab17-ad7d44598cb3",
   "metadata": {
    "editable": true
   },
   "source": [
    "**Computing and visualizing the residuals**"
   ]
  },
  {
   "cell_type": "code",
   "execution_count": 5,
   "id": "a4536d55-f26e-46b1-a412-2a6289b11c0b",
   "metadata": {},
   "outputs": [],
   "source": [
    "'''\n",
    "########### Set parameters ##################\n",
    "Sm = # TODO\n",
    "beta = # TODO\n",
    "alfa = # TODO\n",
    "Rs = # TODO\n",
    "Rf = # TODO\n",
    "############################################\n",
    "\n",
    "# Run HyMOD simulation\n",
    "param = np.array([Sm, beta, alfa, Rs, Rf]) # Sm (mm), beta (-), alfa (-), Rs (1/d), Rf (1/d)\n",
    "q_sim, states, fluxes = HyMod.hymod_sim(param, P, evap)\n",
    "\n",
    "# Make Dataframe from results\n",
    "df_model = pd.DataFrame({'Q_sim [mm/day]': q_sim[-365:], 'ET [mm/day]': fluxes.T[0][-365:], 'Date': df[\"Date\"].to_numpy()})d\n",
    "\n",
    "# Merge observed data with model results \n",
    "########### code below this line ##################\n",
    "\n",
    "df_combined =   # TODO: merge the dataframe df_model onto df: https://pandas.pydata.org/docs/reference/api/pandas.DataFrame.merge.html\n",
    "# Question: what column is used to merge the two dataframes? In other words: what column to df and df_model have in common?\n",
    "#print(df_combined)\n",
    "\n",
    "df_combined['Residual [mm/day]'] =  # TODO: compute residual: https://en.wikipedia.org/wiki/Errors_and_residuals\n",
    "#print(df_combined)\n",
    "\n",
    "# TODO: analyse the residual. Be creative! Sum up / take mean or median / filter observed values (analyse only what you are interested in)\n",
    "\n",
    "########### code above this line ##################\n",
    "\n",
    "# Plot plain residual (you may copy this part to quickly setup a figure you want to produce)\n",
    "fig, ax = plt.subplots(figsize=(20, 4))  # set figure size\n",
    "sns.lineplot(data=df_combined, x=\"Date\", y=\"Residual [mm/day]\")\n",
    "# Show only the main ticks\n",
    "locator = mdate.MonthLocator()\n",
    "plt.gca().xaxis.set_major_locator(locator)\n",
    "plt.show()\n",
    "'''\n",
    "pass"
   ]
  }
 ],
 "metadata": {
  "kernelspec": {
   "display_name": "Python 3 (ipykernel)",
   "language": "python",
   "name": "python3"
  },
  "language_info": {
   "codemirror_mode": {
    "name": "ipython",
    "version": 3
   },
   "file_extension": ".py",
   "mimetype": "text/x-python",
   "name": "python",
   "nbconvert_exporter": "python",
   "pygments_lexer": "ipython3",
   "version": "3.9.19"
  }
 },
 "nbformat": 4,
 "nbformat_minor": 5
}
