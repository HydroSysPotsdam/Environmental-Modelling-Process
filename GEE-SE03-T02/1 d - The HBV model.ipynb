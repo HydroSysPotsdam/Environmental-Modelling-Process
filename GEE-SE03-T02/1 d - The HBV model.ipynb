{
 "cells": [
  {
   "cell_type": "markdown",
   "id": "84125819-58ec-4ca4-a47a-3adaefdbd23e",
   "metadata": {
    "editable": true
   },
   "source": [
    "![](./figures/Logo.PNG)"
   ]
  },
  {
   "cell_type": "markdown",
   "id": "d6db7066-4b12-49db-a013-5427ef5e7a51",
   "metadata": {
    "editable": true,
    "slideshow": {
     "slide_type": ""
    },
    "tags": []
   },
   "source": [
    "## In this part of the tutorial, you will\n",
    "- study and discuss the HBV model and its input parameters\n",
    "- manually fit the model to the runoff in three different catchments\n",
    "- use the residual to compare calibrated model results"
   ]
  },
  {
   "cell_type": "markdown",
   "id": "38a9c176-f978-46c3-94ad-89cbf94492cf",
   "metadata": {
    "editable": true
   },
   "source": [
    "---"
   ]
  },
  {
   "cell_type": "markdown",
   "id": "96cd0304-c260-49f6-9a4e-4fd7e184be09",
   "metadata": {
    "editable": true
   },
   "source": [
    "# 1d - The HBV model"
   ]
  },
  {
   "cell_type": "markdown",
   "id": "cf54c620-ff85-4f9c-97a5-ec9dc8794420",
   "metadata": {
    "editable": true
   },
   "source": [
    "---"
   ]
  },
  {
   "cell_type": "markdown",
   "id": "ae0a2276-b5e7-4f3b-9ef9-438c5167c502",
   "metadata": {
    "editable": true
   },
   "source": [
    "## 1. About HBV"
   ]
  },
  {
   "cell_type": "markdown",
   "id": "37c71275-21cf-41da-a58a-d9d93c465556",
   "metadata": {
    "editable": true
   },
   "source": [
    "The **HBV model** (Hydrologiska Byråns Vattenbalansavdelning, see [Seibert and Vis, 2012](https://hess.copernicus.org/articles/16/3315/2012/hess-16-3315-2012.pdf)) is a conceptual rainfall-runoff model widely used for hydrological forecasting and water resource management. It simulates the transformation of precipitation into runoff through several storage components, accounting for snow accumulation, soil moisture, groundwater, and river discharge.\n",
    "\n",
    "<center>\n",
    "<img src=\"https://vt-hydroinformatics.github.io/Quarto_Book/images/HBV-schem-Shrestha-Solomantine-2008.png\" style=\"width:66%\">\n",
    "</center>"
   ]
  },
  {
   "cell_type": "markdown",
   "id": "382fb4b4-ec1f-46db-b225-7fe82245ae66",
   "metadata": {
    "editable": true
   },
   "source": [
    "**Structure of the HBV Model**\n",
    "\n",
    "The HBV model consists of several components that each represent fluxes of water in a hydrological system:\n",
    "\n",
    "1. **Precipitation** Input into the model, which may be either in the form of rain or snow.\n",
    "2. **Snow Accumulation and Melt** A submodel calculates snow accumulation and melt based on daily temperatures. It decides whether precipitation occurs as rainfall (RF) or snow (SF) and how much water is stored in the snow pack (SP).\n",
    "3. **Soil Moisture** Describes the water storage in the unsaturated zone (SM). Controls the infiltration into this layer (I), as well as the loss through evaporation (EV).\n",
    "4. **Groundwater** Represents groundwater storage in a two-bucket model. The upper fast-responding zone (UZ) is recharged from the unsaturated zone, while over time, groundwater percolates (PERC) into the slower-responding lower zone.\n",
    "5. **Runoff** The flow generated from the different storages (Q) with a fast component (Q0) and a quick component (Q1)"
   ]
  },
  {
   "cell_type": "markdown",
   "id": "288e0fd1-41fe-42bb-a743-c542e7b14fec",
   "metadata": {
    "editable": true
   },
   "source": [
    "The HBV model requires a set of semi-empirical parameters that need to be tuned for every catchment.\n",
    "\n",
    "| **Parameter** | **Description**                                      | **Units**   | **Min Value** | **Max Value** |\n",
    "|---------------|------------------------------------------------------|-------------|---------------|---------------|\n",
    "| **Ts**        | Temperature threshold for snow/rain separation       | °C          | -3            | 3             |\n",
    "| **CFMAX**     | Degree-day factor controlling snowmelt               | mm/°C/day   | 0             | 20            |\n",
    "| **CFR**       | Coefficient for runoff response                       | -           | 0             | 1             |\n",
    "| **CWH**       | Coefficient for water holding capacity                | -           | 0             | 0.8           |\n",
    "| **BETA**      | Shape parameter for runoff generation                 | -           | 0             | 7             |\n",
    "| **LP**        | Threshold for reduced evapotranspiration             | -           | 0.3           | 1             |\n",
    "| **FC**        | Maximum soil moisture storage capacity                 | mm          | 1             | 2000          |\n",
    "| **PERC**      | Percolation from upper to lower groundwater           | mm/day      | 0             | 100           |\n",
    "| **K0**        | Recession coefficient for upper groundwater            | day⁻¹       | 0.05          | 2             |\n",
    "| **K1**        | Recession coefficient for lower groundwater            | day⁻¹       | 0.01          | 1             |\n",
    "| **K2**        | Recession coefficient for base flow                    | day⁻¹       | 0.005         | 0.1           |\n",
    "| **UZL**       | Threshold for upper groundwater outflow                | mm          | 0             | 100           |\n",
    "| **MAXBAS**    | Maximum base flow duration                             | days        | 1             | 6             |\n",
    "\n"
   ]
  },
  {
   "cell_type": "markdown",
   "id": "0bb7049e-08e7-4d6b-a37c-d0d6d7db67d9",
   "metadata": {
    "editable": true,
    "slideshow": {
     "slide_type": ""
    },
    "tags": []
   },
   "source": [
    "<div style=\"background:#e0f2fe; padding:1%; border:1mm solid SkyBlue\">\n",
    "    <h4><span>&#129300 </span>Your Turn I: Understanding HBV</h4>\n",
    "    Discuss the following points together:\n",
    "    <ol>\n",
    "        <li>What assumptions are implied by the HBV model? In other words: how is reality simplified and what processes are considered important or not?</li>\n",
    "        <li>Looking at the parameter table: what changes in model behavior do you suspect when you change their values?</li>\n",
    "    </ol>\n",
    "</div>"
   ]
  },
  {
   "cell_type": "markdown",
   "id": "2fd146d2-f808-436a-9529-b1f95e42c797",
   "metadata": {},
   "source": [
    "WRITE YOUR ANSWERS HERE..."
   ]
  },
  {
   "cell_type": "markdown",
   "id": "02f05d18-c090-4050-8b1a-198391192ed0",
   "metadata": {},
   "source": [
    "<div style=\"background:#e0f2fe; padding:1%; border:1mm solid SkyBlue\"></div>"
   ]
  },
  {
   "cell_type": "markdown",
   "id": "de79ddcd-72ca-450a-b8be-b491632314c7",
   "metadata": {
    "editable": true,
    "slideshow": {
     "slide_type": ""
    },
    "tags": []
   },
   "source": [
    "## 2. Using HBV"
   ]
  },
  {
   "cell_type": "markdown",
   "id": "1431d966-b50b-4007-9f44-f8e8ac4e2f94",
   "metadata": {
    "editable": true
   },
   "source": [
    "**Import packages**"
   ]
  },
  {
   "cell_type": "code",
   "execution_count": 1,
   "id": "37c253bf-9326-4eb7-bf66-7c4a841de174",
   "metadata": {},
   "outputs": [],
   "source": [
    "import sys\n",
    "sys.path.append('src/')\n",
    "import HBV\n",
    "import seaborn as sns\n",
    "import matplotlib.pyplot as plt\n",
    "import matplotlib.dates as mdate\n",
    "import numpy as np\n",
    "import pandas as pd\n",
    "from ipywidgets import interact, Dropdown, FloatSlider"
   ]
  },
  {
   "cell_type": "markdown",
   "id": "f07baaee-78cf-466a-91b3-df7f7973f375",
   "metadata": {
    "editable": true
   },
   "source": [
    "**Create and display dropdown menu for selecting catchment**"
   ]
  },
  {
   "cell_type": "code",
   "execution_count": 2,
   "id": "56bcc31b-a333-42ed-952d-9235047c3445",
   "metadata": {
    "editable": true,
    "jupyter": {
     "source_hidden": true
    },
    "slideshow": {
     "slide_type": ""
    },
    "source_hidden": true,
    "tags": []
   },
   "outputs": [
    {
     "data": {
      "application/vnd.jupyter.widget-view+json": {
       "model_id": "dfbe8d621bf84b7081f14e8f6332b266",
       "version_major": 2,
       "version_minor": 0
      },
      "text/plain": [
       "Dropdown(description='Catchment:', options=('Medina River, TX, USA', 'Siletz River, OR, USA', 'Trout River, BC…"
      ]
     },
     "metadata": {},
     "output_type": "display_data"
    }
   ],
   "source": [
    "# DO NOT ALTER! code to select the catchment\n",
    "\n",
    "catchment_names = [\"Medina River, TX, USA\", \"Siletz River, OR, USA\", \"Trout River, BC, Canada\"]\n",
    "dropdown = Dropdown(\n",
    "    options=catchment_names,\n",
    "    value=catchment_names[0],\n",
    "    description='Catchment:',\n",
    "    disabled=False)\n",
    "\n",
    "display(dropdown)"
   ]
  },
  {
   "cell_type": "markdown",
   "id": "91e8612e-2671-4f8e-a230-59021a098483",
   "metadata": {
    "editable": true
   },
   "source": [
    "**Some notes on pandas dataframes**: \n",
    "\n",
    "DataFrames are 2-dimensional data structures with columns, like a spreadsheet or SQL table. They allow quick and easy operations on the columns. Lets say we have a dataframe called df_example with two columns: 'A' and 'B'. All rows in 'A' contain the integer 1, all rows in 'B' have the integer 2. Then you can easily sum them up, creating a column 'C': \n",
    "```python\n",
    "    df_example['C'] = df_example['A'] + df_example['B']\n",
    "```\n",
    "If there was an additional column 'D' containing the numbers of 1 to 10, you could kick out all rows of df_example where 'D' has 1s or 2s by:\n",
    "```python\n",
    "    df_example = df_example[df_example['D'] > 2]\n",
    "```\n",
    "Also, there are plenty of functionalities implemented in the pandas package, like: [mean](https://pandas.pydata.org/docs/reference/api/pandas.DataFrame.mean.html), [median](https://pandas.pydata.org/docs/reference/api/pandas.DataFrame.median.html), [max](https://pandas.pydata.org/docs/reference/api/pandas.DataFrame.max.html), [pow](https://pandas.pydata.org/docs/reference/api/pandas.DataFrame.pow.html). In the following example, you will [merge](https://pandas.pydata.org/docs/reference/api/pandas.DataFrame.merge.html) two dataframes."
   ]
  },
  {
   "cell_type": "markdown",
   "id": "2bafa139-d163-4d4e-ab20-f7bcb376d8de",
   "metadata": {
    "editable": true
   },
   "source": [
    "**Read catchment data, prepare input for model**"
   ]
  },
  {
   "cell_type": "code",
   "execution_count": 3,
   "id": "37758396-566b-4049-ae4b-be9bbafda806",
   "metadata": {},
   "outputs": [],
   "source": [
    "# Read catchment data\n",
    "catchment_name = dropdown.value\n",
    "# Read catchment data\n",
    "file_dic = {catchment_names[0]: \"camels_08178880\", catchment_names[1]: \"camels_14305500\", catchment_names[2]: \"hysets_10BE007\"}\n",
    "df = pd.read_csv(f\"data/{file_dic[catchment_name]}.csv\")\n",
    "# Make sure the date is interpreted as a datetime object -> makes temporal operations easier\n",
    "df.date = pd.to_datetime(df['date'], format='%Y-%m-%d')\n",
    "# Index frame by date\n",
    "df.set_index('date', inplace=True)\n",
    "# Select only the columns we need\n",
    "df = df[[\"total_precipitation_sum\",\"potential_evaporation_sum\",\"streamflow\", \"temperature_2m_mean\"]]\n",
    "# Rename variables\n",
    "df.columns = [\"P [mm/day]\", \"PET [mm/day]\", \"Q [mm/day]\", \"T [C]\"]\n",
    "# Select time frame\n",
    "start_date = '2002-10-01'\n",
    "end_date = '2003-09-30'\n",
    "df = df[start_date:end_date]\n",
    "# Reformat the date for plotting\n",
    "df[\"Date\"] = df.index.map(lambda s: s.strftime('%b-%d-%y'))\n",
    "df = df.reset_index(drop=True)\n",
    "\n",
    "# Prepare the data intput for both models\n",
    "P = df[\"P [mm/day]\"].to_numpy()\n",
    "evap = df[\"PET [mm/day]\"].to_numpy()\n",
    "temp = df[\"T [C]\"].to_numpy()"
   ]
  },
  {
   "cell_type": "markdown",
   "id": "aee02d8a-811c-425b-ac57-f507506761f8",
   "metadata": {
    "editable": true
   },
   "source": [
    "**Run HBV interactively**"
   ]
  },
  {
   "cell_type": "code",
   "execution_count": 4,
   "id": "98adc0b7-e37d-4e3f-a11d-cc840ad552e4",
   "metadata": {
    "editable": true,
    "jupyter": {
     "source_hidden": true
    },
    "slideshow": {
     "slide_type": ""
    },
    "tags": []
   },
   "outputs": [
    {
     "data": {
      "application/vnd.jupyter.widget-view+json": {
       "model_id": "c19ae5d773aa40a283b58f7a25ab22a0",
       "version_major": 2,
       "version_minor": 0
      },
      "text/plain": [
       "interactive(children=(FloatSlider(value=0.0, description='Ts', max=3.0, min=-3.0, step=0.6), FloatSlider(value…"
      ]
     },
     "metadata": {},
     "output_type": "display_data"
    }
   ],
   "source": [
    "# DO NOT ALTER! Code to interactively tune HBV model\n",
    "\n",
    "param_names = [\"Ts\", \"CFMAX\", \"CFR\", \"CWH\", \"BETA\", \"LP\", \"FC\", \"PERC\", \"K0\", \"K1\", \"K2\", \"UZL\", \"MAXBAS\"]\n",
    "lower = [-3, 0, 0, 0, 0, 0.3, 1, 0, 0.05, 0.01, 0.005, 0, 1] # lower bounds for the parameters\n",
    "upper = [3, 20, 1, 0.8, 7, 1, 2000, 100, 2, 1, 0.1, 100, 6]  # upper bounds for the parameters \n",
    "\n",
    "def run_and_plot_hbv(**params):\n",
    "    \n",
    "    # Run HBV snow routine\n",
    "    params = list(params.values())\n",
    "    p_s, _, _ = HBV.snow_routine(params[:4], temp, P)\n",
    "    # Run HBV runoff simulation\n",
    "    Case = 1 # for now we assume that the preferred path in the upper zone is runoff (Case = 1), it can be set to percolation (Case = 2)\n",
    "    ini = np.array([0,0,0]) # initial state\n",
    "    Q_sim, _, _ = HBV.hbv_sim(params[4:], p_s, evap, Case, ini)\n",
    "    \n",
    "    # Prepare plot of results\n",
    "    fig, ax = plt.subplots(figsize=(20, 4))  # set figure size\n",
    "\n",
    "    # Plot the simulated and observed runoff (Q)\n",
    "    ax.plot(df.index, Q_sim, label=\"HBV\")\n",
    "    sns.lineplot(data=df, x=\"Date\", y=\"Q [mm/day]\", color=\"black\", label=\"Observed\")\n",
    "\n",
    "    # Show only the main ticks\n",
    "    locator = mdate.MonthLocator()\n",
    "    plt.gca().xaxis.set_major_locator(locator)\n",
    "\n",
    "    ax.set_title(catchment_name)\n",
    "    \n",
    "    # Display the figure\n",
    "    plt.show()\n",
    "\n",
    "params = {param: FloatSlider(min=xmin, max=xmax, step=(xmax - xmin)/10, value=(xmax + xmin)/2, description=param) for param, xmin, xmax in zip(param_names, lower, upper)}\n",
    "interact(run_and_plot_hbv, **params);"
   ]
  },
  {
   "cell_type": "markdown",
   "id": "577f055b-6cac-4576-8ca9-4fdafb3be12e",
   "metadata": {
    "editable": true
   },
   "source": [
    "<div style=\"background:#e0f2fe; padding:1%; border:1mm solid SkyBlue\">\n",
    "    <h4><span>&#129300 </span>Your Turn II: Manually Fit the Model</h4>\n",
    "    <ol>\n",
    "        <li>Try to manually alter the parameters to get a good fit.\n",
    "            <ul>\n",
    "                <li>Which induce a strong change in the hydrograph?</li>\n",
    "                <li>Which are important for a good-quality fit?</li>\n",
    "            </ul>\n",
    "        </li>\n",
    "        <li>Discuss, how the model captures different features of the hydrograph (e.g., flow volume, low flows, peak amplitude, peak timing) and where it fails to do so.</li>\n",
    "    </ol>\n",
    "    <i>You may want to note down the parameter values for each catchment in the table below, as you will need them later.</i>\n",
    "</div>"
   ]
  },
  {
   "cell_type": "markdown",
   "id": "e8458ad8-c9aa-4e6c-96fe-13923149a0a5",
   "metadata": {
    "editable": true
   },
   "source": [
    "| Catchment             | TT  | CFMAX | FC  | LP  | BETA | K0   | K1   | K2   | PERC | UZL  | MAXBAS |\n",
    "|-----------------------|-----|-------|-----|-----|------|------|------|------|------|------|--------|\n",
    "| Medina River, TX, USA  | ?   | ?     | ?   | ?   | ?    | ?    | ?    | ?    | ?    | ?    | ? |\n",
    "| Siletz River, OR, USA  | ?   | ?     | ?   | ?   | ?    | ?    | ?    | ?    | ?    | ?    | ? |\n",
    "| Trout River, BC, Canada| ?   | ?     | ?   | ?   | ?    | ?    | ?    | ?    | ?    | ?    | ? |"
   ]
  },
  {
   "cell_type": "markdown",
   "id": "094b6dfa-ea8a-40b7-b5ec-c1658a664363",
   "metadata": {
    "editable": true
   },
   "source": [
    "<div style=\"background:#e0f2fe; padding:1%; border:1mm solid SkyBlue\">\n",
    "    <h4><span>&#129300 </span>Your Turn III: Look at the Model Residuals</h4>\n",
    "    <p>Once you are satisfied with your manual calibration results: use the python cell below to take a closer look at the residuals. \n",
    "        <ol>\n",
    "            <li>What insights about the model can you gain by looking at them?</li>\n",
    "        </ol>\n",
    "    </p>\n",
    "    <p>Use statistical metrics you know (mean, standard deviation, ...) to help you discuss the following questions:</p>\n",
    "    <ol start=2>\n",
    "        <li>How good is the flow volume reflected?</li>\n",
    "        <li>Are low flows captured well?</li>\n",
    "        <li>Compared to other calibrations (e.g. your neighbour's): which simulation result is closer to the observed values?</li>\n",
    "    </ol>\n",
    "    <i>Before you start: remove the \"'''\" at the top and bottom, and make sure you enter the parameter values from above.<i>\n",
    "</div>"
   ]
  },
  {
   "cell_type": "markdown",
   "id": "ab97d075-989c-4f5e-ab17-ad7d44598cb3",
   "metadata": {
    "editable": true
   },
   "source": [
    "**Computing and visualizing the residuals**"
   ]
  },
  {
   "cell_type": "code",
   "execution_count": 5,
   "id": "10603919-322e-4494-b761-1cf9b2743a0b",
   "metadata": {},
   "outputs": [],
   "source": [
    "\"\"\"\n",
    "########### Set parameters ##################\n",
    "# Replace these placeholders with the values you found earlier\n",
    "# Check that you loaded the correct catchment\n",
    "\n",
    "#TT =    # TODO  # Temperature threshold (°C)\n",
    "#CFMAX = # TODO  # Degree-day factor (mm/°C/day)\n",
    "#FC =    # TODO  # Field capacity (mm)\n",
    "#LP =    # TODO  # Wilting point (0 to 1)\n",
    "#BETA =  # TODO  # Shape parameter for runoff generation\n",
    "#K0 =    # TODO  # Recession coefficient for upper groundwater (1/day)\n",
    "#K1 =    # TODO  # Recession coefficient for lower groundwater (1/day)\n",
    "#K2 =    # TODO  # Recession coefficient for base flow (1/day)\n",
    "#PERC =  # TODO  # Percolation (mm/day)\n",
    "#UZL =   # TODO  # Threshold for upper groundwater outflow (mm)\n",
    "\n",
    "############################################\n",
    "\n",
    "# Run HBV snow routine\n",
    "#params = [TT, CFMAX, FC, LP, BETA, K0, K1, K2, PERC, UZL]  # Collecting all parameters\n",
    "p_s, _, _ = HBV.snow_routine(params[:4], temp, P)  # Use first 4 parameters for snow routine\n",
    "\n",
    "# Run HBV runoff simulation\n",
    "Case = 1  # Set to 1 for runoff, 2 for percolation\n",
    "ini = np.array([0, 0, 0])  # Initial state (upper zone, lower zone, groundwater)\n",
    "Q_sim, states, fluxes = HBV.hbv_sim(params[4:], p_s, evap, Case, ini)\n",
    "\n",
    "# combine results into dataframe\n",
    "df_model = pd.DataFrame({\"Q_obs [mm/day]\": df.iloc[:,2].to_numpy(), \"Q_sim [mm/day]\": Q_sim, \"ET [mm/day]\": fluxes.T[0]}, index=df.Date)\n",
    "\n",
    "########### code below this line ##################\n",
    "\n",
    "# analyse the residual. Be creative! Sum up / take mean or median / filter observed values (analyse only what you are interested in)\n",
    "\n",
    "df_model[\"residuals\"] = # TODO\n",
    "\n",
    "# plot the residuals\n",
    "\"\"\"\n",
    "pass"
   ]
  }
 ],
 "metadata": {
  "kernelspec": {
   "display_name": "Python 3 (ipykernel)",
   "language": "python",
   "name": "python3"
  },
  "language_info": {
   "codemirror_mode": {
    "name": "ipython",
    "version": 3
   },
   "file_extension": ".py",
   "mimetype": "text/x-python",
   "name": "python",
   "nbconvert_exporter": "python",
   "pygments_lexer": "ipython3",
   "version": "3.9.19"
  }
 },
 "nbformat": 4,
 "nbformat_minor": 5
}
