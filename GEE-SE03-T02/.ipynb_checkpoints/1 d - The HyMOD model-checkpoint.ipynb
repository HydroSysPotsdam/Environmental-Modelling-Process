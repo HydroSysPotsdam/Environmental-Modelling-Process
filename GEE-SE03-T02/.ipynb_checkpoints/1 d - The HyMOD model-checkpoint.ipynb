{
 "cells": [
  {
   "cell_type": "markdown",
   "id": "84125819-58ec-4ca4-a47a-3adaefdbd23e",
   "metadata": {},
   "source": [
    "![](./figures/Logo.PNG)"
   ]
  },
  {
   "cell_type": "markdown",
   "id": "d6db7066-4b12-49db-a013-5427ef5e7a51",
   "metadata": {},
   "source": [
    "## In this part of the tutorial, you will\n",
    "- study and discuss the HyMOD model and its input parameters\n",
    "- manually fit the model to the runoff in three different catchments\n",
    "- use the residual to compare calibrated model results"
   ]
  },
  {
   "cell_type": "markdown",
   "id": "38a9c176-f978-46c3-94ad-89cbf94492cf",
   "metadata": {},
   "source": [
    "---"
   ]
  },
  {
   "cell_type": "markdown",
   "id": "96cd0304-c260-49f6-9a4e-4fd7e184be09",
   "metadata": {},
   "source": [
    "# 1 d - The HyMOD model"
   ]
  },
  {
   "cell_type": "markdown",
   "id": "cf54c620-ff85-4f9c-97a5-ec9dc8794420",
   "metadata": {},
   "source": [
    "---"
   ]
  },
  {
   "cell_type": "markdown",
   "id": "ae0a2276-b5e7-4f3b-9ef9-438c5167c502",
   "metadata": {},
   "source": [
    "## 1 About HyMOD"
   ]
  },
  {
   "cell_type": "markdown",
   "id": "fc359d47-ad6d-4c25-ac67-8aafde4cb877",
   "metadata": {},
   "source": [
    "The HYdrological MODel (HYMOD) is a conceptual rainfall-runoff model that is used to simulate the hydrological cycle of a catchment area. It simulates a [spatially lumped](https://en.wikipedia.org/wiki/Lumped-element_model) hydrologic system at the [catchment](https://en.wikipedia.org/wiki/Drainage_basin) scale.\n",
    "\n",
    "It takes daily rainfall and potential evapotranspiration as input data, and uses a nonlinear water-storage-capacity-distribution-function to simulate river discharge. The model has four water storage tanks: three are quick water storage tanks, while one is a slow water storage tank.\n",
    "\n",
    "\n",
    "HyMOD was developed by Doug Boyle as part of his PhD Thesis ([Wagener et al., 2001](https://hess.copernicus.org/articles/5/13/2001/hess-5-13-2001.html)). The model consists of only five parameters. These represent some key basin characteristics that determine the transformation of rainfall into flow, such as the soil moisture accounting ($S_M$ and $beta$) and the flow routing ($R_S$, $R_F$ and $alfa$). \n",
    "\n",
    "<figure>\n",
    "    <img src=\"./figures/Hymod_fig_cropped.PNG\" style=\"width:70%\">\n",
    "    <figcaption>Conceptual diagram of HyMOD</figcaption>\n",
    "</figure>\n",
    "\n",
    "Table of HyMOD parameters with min and max values:\n",
    "\n",
    "|Parameter|Meaning|Units|Min|Max|\n",
    "|---|---|---|---|---|\n",
    "|Sm|maximum soil moisture|mm|0|2000|\n",
    "|beta|exponent in the soil moisture routine|-|0|7|\n",
    "|alfa|partition coefficient|-|0|1|\n",
    "|Rs|slow reservoir coefficient|d|8|200|\n",
    "|Rf|fast reservoir coefficient|d|1|7|\n",
    "\n",
    "The required data is\n",
    "* time series of **precipitation**\n",
    "* time series of **potential evapotranspiration** (representing the available energy)\n",
    "\n",
    "Output:\n",
    "* time series of **simulated flow**\n",
    "\n",
    "For more information, check out [Wagener et al. (2001)](https://hess.copernicus.org/articles/5/13/2001/hess-5-13-2001.html)"
   ]
  },
  {
   "cell_type": "markdown",
   "id": "0728d0d0-63f9-498f-8d08-d985421bf067",
   "metadata": {},
   "source": [
    "---"
   ]
  },
  {
   "cell_type": "markdown",
   "id": "2d48545c-6315-4f64-a563-c4c8cb8df2e5",
   "metadata": {},
   "source": [
    "### <div class=\"blue\"><span style=\"color:blue\">Exercise section</span></div>\n",
    "\n",
    "### Exercise 1\n",
    "\n",
    "(a) Name three assumptions of the model (e.g. how is reality simplified? what is important? what is not important?).\n",
    "\n",
    "* Type your answer here\n",
    "\n",
    "(b) Describe in your own words, what each parameter does! \n",
    "\n",
    "* Type your answer here"
   ]
  },
  {
   "cell_type": "markdown",
   "id": "3a1089d5-6e51-464c-b29b-d145c7832fa3",
   "metadata": {},
   "source": [
    "- - -"
   ]
  },
  {
   "cell_type": "markdown",
   "id": "de79ddcd-72ca-450a-b8be-b491632314c7",
   "metadata": {},
   "source": [
    "## 2 Using HyMOD"
   ]
  },
  {
   "cell_type": "markdown",
   "id": "1431d966-b50b-4007-9f44-f8e8ac4e2f94",
   "metadata": {},
   "source": [
    "**Import packages**"
   ]
  },
  {
   "cell_type": "code",
   "execution_count": 1,
   "id": "37c253bf-9326-4eb7-bf66-7c4a841de174",
   "metadata": {},
   "outputs": [],
   "source": [
    "import seaborn as sns\n",
    "import matplotlib.pyplot as plt\n",
    "import matplotlib.dates as mdate\n",
    "import numpy as np\n",
    "import pandas as pd\n",
    "\n",
    "import sys\n",
    "sys.path.append('src/')\n",
    "import HyMod\n",
    "\n",
    "from ipywidgets import interact, Dropdown"
   ]
  },
  {
   "cell_type": "markdown",
   "id": "f07baaee-78cf-466a-91b3-df7f7973f375",
   "metadata": {},
   "source": [
    "**Create and display dropdown menu for selecting catchment**"
   ]
  },
  {
   "cell_type": "code",
   "execution_count": 2,
   "id": "56bcc31b-a333-42ed-952d-9235047c3445",
   "metadata": {},
   "outputs": [
    {
     "data": {
      "application/vnd.jupyter.widget-view+json": {
       "model_id": "903e7873f636449cac66321910df0934",
       "version_major": 2,
       "version_minor": 0
      },
      "text/plain": [
       "Dropdown(description='Catchment:', options=('Medina River, TX, USA', 'Siletz River, OR, USA', 'Trout River, BC…"
      ]
     },
     "metadata": {},
     "output_type": "display_data"
    }
   ],
   "source": [
    "catchment_names = [\"Medina River, TX, USA\", \"Siletz River, OR, USA\", \"Trout River, BC, Canada\"]\n",
    "dropdown = Dropdown(\n",
    "    options=catchment_names,\n",
    "    value=catchment_names[0],\n",
    "    description='Catchment:',\n",
    "    disabled=False)\n",
    "\n",
    "display(dropdown)"
   ]
  },
  {
   "cell_type": "markdown",
   "id": "2bafa139-d163-4d4e-ab20-f7bcb376d8de",
   "metadata": {},
   "source": [
    "**Read catchment data, prepare input for model**"
   ]
  },
  {
   "cell_type": "code",
   "execution_count": 3,
   "id": "37758396-566b-4049-ae4b-be9bbafda806",
   "metadata": {},
   "outputs": [],
   "source": [
    "# Read catchment data\n",
    "catchment_name = dropdown.value\n",
    "# Read catchment data\n",
    "file_dic = {catchment_names[0]: \"camels_08178880\", catchment_names[1]: \"camels_14305500\", catchment_names[2]: \"hysets_10BE007\"}\n",
    "df = pd.read_csv(f\"data/{file_dic[catchment_name]}.csv\")\n",
    "# Make sure the date is interpreted as a datetime object -> makes temporal operations easier\n",
    "df.date = pd.to_datetime(df['date'], format='%Y-%m-%d')\n",
    "# Index frame by date\n",
    "df.set_index('date', inplace=True)\n",
    "# Select only the columns we need\n",
    "df = df[[\"total_precipitation_sum\",\"potential_evaporation_sum\",\"streamflow\", \"temperature_2m_mean\"]]\n",
    "# Rename variables\n",
    "df.columns = [\"P [mm/day]\", \"PET [mm/day]\", \"Q [mm/day]\", \"T [C]\"]\n",
    "# Select time frame\n",
    "start_date = '2002-10-01'\n",
    "end_date = '2003-09-30'\n",
    "df = df[start_date:end_date]\n",
    "# Reformat the date for plotting\n",
    "df[\"Date\"] = df.index.map(lambda s: s.strftime('%b-%d-%y'))\n",
    "df = df.reset_index(drop=True)\n",
    "\n",
    "# Prepare the data intput for both models\n",
    "P = df[\"P [mm/day]\"].to_numpy()\n",
    "evap = df[\"PET [mm/day]\"].to_numpy()\n",
    "temp = df[\"T [C]\"].to_numpy()"
   ]
  },
  {
   "cell_type": "markdown",
   "id": "aee02d8a-811c-425b-ac57-f507506761f8",
   "metadata": {},
   "source": [
    "**Run HyMOD interactively**"
   ]
  },
  {
   "cell_type": "code",
   "execution_count": 4,
   "id": "ed75c170-92b3-4a9b-9a29-2dc0b5a15d7a",
   "metadata": {},
   "outputs": [
    {
     "data": {
      "application/vnd.jupyter.widget-view+json": {
       "model_id": "0c234c3e870a41ac8e482994ac982e39",
       "version_major": 2,
       "version_minor": 0
      },
      "text/plain": [
       "interactive(children=(IntSlider(value=200, description='Sm', max=400), FloatSlider(value=1.0, description='bet…"
      ]
     },
     "metadata": {},
     "output_type": "display_data"
    }
   ],
   "source": [
    "@interact(Sm = (0, 400, 1), beta = (0, 2, 0.01), alfa = (0, 1, 0.01), Rs = (8.0, 200.0, 0.5), Rf = (1.0, 7.0, 0.5))    \n",
    "def oat_hymod_function(Sm = 200, beta = 1, alfa = 0.5, Rs = 50, Rf = 6):\n",
    "    # Run HyMOD simulation\n",
    "    param = np.array([Sm, beta, alfa, 1/Rs, 1/Rf])\n",
    "    q_sim, states, fluxes = HyMod.hymod_sim(param, P, evap)\n",
    "    # Make Dataframe from results\n",
    "    df_model = pd.DataFrame({'Q_sim [mm/day]': q_sim[-365:], 'ET [mm/day]': fluxes.T[0][-365:], 'Date': df[\"Date\"].to_numpy()})\n",
    "\n",
    "    # Prepare plot of results\n",
    "    fig, ax = plt.subplots(figsize=(20, 4))  # set figure size\n",
    "\n",
    "    # Plot the simulated and observed runoff (Q)\n",
    "    sns.lineplot(data=df_model, x=\"Date\", y=\"Q_sim [mm/day]\", label=\"HyMOD\")\n",
    "    sns.lineplot(data=df, x=\"Date\", y=\"Q [mm/day]\", color=\"black\", label=\"Observed\")\n",
    "\n",
    "    # Show only the main ticks\n",
    "    locator = mdate.MonthLocator()\n",
    "    plt.gca().xaxis.set_major_locator(locator)\n",
    "\n",
    "    ax.set_title(catchment_name)\n",
    "    \n",
    "    # Display the figure\n",
    "    plt.show()"
   ]
  },
  {
   "cell_type": "markdown",
   "id": "ed35dd3d-f57b-4d24-bfad-9f0f7e947df7",
   "metadata": {},
   "source": [
    "---"
   ]
  },
  {
   "cell_type": "markdown",
   "id": "91e8612e-2671-4f8e-a230-59021a098483",
   "metadata": {},
   "source": [
    "### <div class=\"blue\"><span style=\"color:blue\">Exercise section</span></div>\n",
    "### Exercise 2 - Manually fit the model\n",
    "\n",
    "(a) Manually fit the model output by changing the parameter values. Which parameters induce strong changes in the output? Which parameters are important to get a good fit?\n",
    "\n",
    "* Type your answer here\n",
    "\n",
    "You may want to note down the parameter values for each catchment:\n",
    "|Catchment|Sm|beta|alfa|Rs|Rf|\n",
    "|---|---|---|---|---|---|\n",
    "|Medina River, TX, USA|?|?|?|?|?|\n",
    "|Siletz River, OR, USA|?|?|?|?|?|\n",
    "|Trout River, BC, Canada|?|?|?|?|?|\n",
    "\n",
    "(b) Describe what features of the hydrograph (e.g., flow volume, low flows, peak amplitude, peak timing) the model captures and where it fails.\n",
    "\n",
    "* Type your answer here\n",
    "\n",
    "### Exercise 3 - Residuals\n",
    "\n",
    "Once you are satisfied with your manual calibration results: use the python cell below to take a closer look at the residuals. How do they give you the best insight into your model results? \n",
    "\n",
    "You may use statistical metrics you know to help you answer the following questions:\n",
    "\n",
    "- How good are the **flow volume** results?\n",
    "- Are **low flows** captured well?\n",
    "- Compared to other calibrations (e.g. your neighbour's): which simulation result is closer to the observed values?\n",
    "\n",
    "Before you start: remove the \"'''\" at the top and bottom, and make sure you enter the parameter values from above.\n",
    "\n",
    "**Some notes on pandas dataframes**: \n",
    "\n",
    "DataFrames are 2-dimensional data structures with columns, like a spreadsheet or SQL table. They allow quick and easy operations on the columns. Lets say we have a dataframe called df_example with two columns: 'A' and 'B'. All rows in 'A' contain the integer 1, all rows in 'B' have the integer 2. Then you can easily sum them up, creating a column 'C': \n",
    "```\n",
    "    df_example['C'] = df_example['A'] + df_example['B']\n",
    "```\n",
    "If there was an additional column 'D' containing the numbers of 1 to 10, you could kick out all rows of df_example where 'D' has 1s or 2s by:\n",
    "```\n",
    "    df_example = df_example[df_example['D'] > 2]\n",
    "```\n",
    "Also, there are plenty of functionalities implemented in the pandas package, like: [mean](https://pandas.pydata.org/docs/reference/api/pandas.DataFrame.mean.html), [median](https://pandas.pydata.org/docs/reference/api/pandas.DataFrame.median.html), [max](https://pandas.pydata.org/docs/reference/api/pandas.DataFrame.max.html), [pow](https://pandas.pydata.org/docs/reference/api/pandas.DataFrame.pow.html). In the following example, you will [merge](https://pandas.pydata.org/docs/reference/api/pandas.DataFrame.merge.html) two dataframes."
   ]
  },
  {
   "cell_type": "markdown",
   "id": "ab97d075-989c-4f5e-ab17-ad7d44598cb3",
   "metadata": {},
   "source": [
    "**Computing and visualizing the residuals**"
   ]
  },
  {
   "cell_type": "code",
   "execution_count": 5,
   "id": "a4536d55-f26e-46b1-a412-2a6289b11c0b",
   "metadata": {},
   "outputs": [
    {
     "data": {
      "text/plain": [
       "'\\n########### Set parameters ##################\\nSm = # TODO\\nbeta = # TODO\\nalfa = # TODO\\nRs = # TODO\\nRf = # TODO\\n############################################\\n\\n# Run HyMOD simulation\\nparam = np.array([Sm, beta, alfa, Rs, Rf]) # Sm (mm), beta (-), alfa (-), Rs (1/d), Rf (1/d)\\nq_sim, states, fluxes = HyMod.hymod_sim(param, P, evap)\\n\\n# Make Dataframe from results\\ndf_model = pd.DataFrame({\\'Q_sim [mm/day]\\': q_sim[-365:], \\'ET [mm/day]\\': fluxes.T[0][-365:], \\'Date\\': df[\"Date\"].to_numpy()})d\\n\\n# Merge observed data with model results \\n########### code below this line ##################\\n\\ndf_combined =   # TODO: merge the dataframe df_model onto df: https://pandas.pydata.org/docs/reference/api/pandas.DataFrame.merge.html\\n# Question: what column is used to merge the two dataframes? In other words: what column to df and df_model have in common?\\n#print(df_combined)\\n\\ndf_combined[\\'Residual [mm/day]\\'] =  # TODO: compute residual: https://en.wikipedia.org/wiki/Errors_and_residuals\\n#print(df_combined)\\n\\n# TODO: analyse the residual. Be creative! Sum up / take mean or median / filter observed values (analyse only what you are interested in)\\n\\n########### code above this line ##################\\n\\n# Plot plain residual (you may copy this part to quickly setup a figure you want to produce)\\nfig, ax = plt.subplots(figsize=(20, 4))  # set figure size\\nsns.lineplot(data=df_combined, x=\"Date\", y=\"Residual [mm/day]\")\\n# Show only the main ticks\\nlocator = mdate.MonthLocator()\\nplt.gca().xaxis.set_major_locator(locator)\\nplt.show()\\n'"
      ]
     },
     "execution_count": 5,
     "metadata": {},
     "output_type": "execute_result"
    }
   ],
   "source": [
    "'''\n",
    "########### Set parameters ##################\n",
    "Sm = # TODO\n",
    "beta = # TODO\n",
    "alfa = # TODO\n",
    "Rs = # TODO\n",
    "Rf = # TODO\n",
    "############################################\n",
    "\n",
    "# Run HyMOD simulation\n",
    "param = np.array([Sm, beta, alfa, Rs, Rf]) # Sm (mm), beta (-), alfa (-), Rs (1/d), Rf (1/d)\n",
    "q_sim, states, fluxes = HyMod.hymod_sim(param, P, evap)\n",
    "\n",
    "# Make Dataframe from results\n",
    "df_model = pd.DataFrame({'Q_sim [mm/day]': q_sim[-365:], 'ET [mm/day]': fluxes.T[0][-365:], 'Date': df[\"Date\"].to_numpy()})d\n",
    "\n",
    "# Merge observed data with model results \n",
    "########### code below this line ##################\n",
    "\n",
    "df_combined =   # TODO: merge the dataframe df_model onto df: https://pandas.pydata.org/docs/reference/api/pandas.DataFrame.merge.html\n",
    "# Question: what column is used to merge the two dataframes? In other words: what column to df and df_model have in common?\n",
    "#print(df_combined)\n",
    "\n",
    "df_combined['Residual [mm/day]'] =  # TODO: compute residual: https://en.wikipedia.org/wiki/Errors_and_residuals\n",
    "#print(df_combined)\n",
    "\n",
    "# TODO: analyse the residual. Be creative! Sum up / take mean or median / filter observed values (analyse only what you are interested in)\n",
    "\n",
    "########### code above this line ##################\n",
    "\n",
    "# Plot plain residual (you may copy this part to quickly setup a figure you want to produce)\n",
    "fig, ax = plt.subplots(figsize=(20, 4))  # set figure size\n",
    "sns.lineplot(data=df_combined, x=\"Date\", y=\"Residual [mm/day]\")\n",
    "# Show only the main ticks\n",
    "locator = mdate.MonthLocator()\n",
    "plt.gca().xaxis.set_major_locator(locator)\n",
    "plt.show()\n",
    "'''"
   ]
  },
  {
   "cell_type": "markdown",
   "id": "4480360a-fa78-4f0e-bcae-acc85b532041",
   "metadata": {},
   "source": [
    "---"
   ]
  },
  {
   "cell_type": "markdown",
   "id": "1156c43b-3ebf-4bb3-b8cf-7e461da5fe85",
   "metadata": {},
   "source": [
    "## Jupyter format settings"
   ]
  },
  {
   "cell_type": "code",
   "execution_count": 6,
   "id": "7264a342-a2b7-47ca-aa07-68f416213d2f",
   "metadata": {},
   "outputs": [
    {
     "data": {
      "text/html": [
       "<style>.blue {background-color: #8dc9fc;}</style>\n"
      ],
      "text/plain": [
       "<IPython.core.display.HTML object>"
      ]
     },
     "metadata": {},
     "output_type": "display_data"
    }
   ],
   "source": [
    "%%html \n",
    "<style>.blue {background-color: #8dc9fc;}</style>"
   ]
  }
 ],
 "metadata": {
  "kernelspec": {
   "display_name": "Python 3 (ipykernel)",
   "language": "python",
   "name": "python3"
  },
  "language_info": {
   "codemirror_mode": {
    "name": "ipython",
    "version": 3
   },
   "file_extension": ".py",
   "mimetype": "text/x-python",
   "name": "python",
   "nbconvert_exporter": "python",
   "pygments_lexer": "ipython3",
   "version": "3.9.18"
  }
 },
 "nbformat": 4,
 "nbformat_minor": 5
}
