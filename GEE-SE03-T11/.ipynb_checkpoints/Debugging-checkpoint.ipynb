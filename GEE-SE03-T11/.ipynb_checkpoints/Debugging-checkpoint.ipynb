{
 "cells": [
  {
   "cell_type": "markdown",
   "id": "e072d529-ffdb-4c79-a227-1207df919189",
   "metadata": {},
   "source": [
    "![](./figures/Logo.PNG)"
   ]
  },
  {
   "cell_type": "markdown",
   "id": "49ae7cf3-5f1c-4c4b-ac38-adaeb9ade587",
   "metadata": {},
   "source": [
    "## In this part of the tutorial, you will\n",
    "* debug python code\n",
    "* plot model results to check their plausibility"
   ]
  },
  {
   "cell_type": "markdown",
   "id": "c73ead95-331e-4e80-a3b0-ad63463c6fed",
   "metadata": {},
   "source": [
    "---"
   ]
  },
  {
   "cell_type": "markdown",
   "id": "1e4a063a-fe29-47bf-9d61-074dbb703840",
   "metadata": {},
   "source": [
    "# Debugging"
   ]
  },
  {
   "cell_type": "markdown",
   "id": "ac289249-cc1c-4a4a-972b-a2a5c694ac3a",
   "metadata": {},
   "source": [
    "---"
   ]
  },
  {
   "cell_type": "markdown",
   "id": "b95a93d0-0606-4fd7-b549-40db232a9dd3",
   "metadata": {},
   "source": [
    "Whenever one programs a model or its evaluation, it is crucial to debug the code (i.e., identify and fix errors). If Python runs into errors, your run will crash and Python will often indicate the type of error it ran into, together with the line in which it occurred. \n",
    "\n",
    "Besides fixing errors that cause program crashes, debugging may improve code quality by:\n",
    "* checking if the desired outcome is achieved\n",
    "* adding documentation and comments  \n",
    "\n",
    "In this notebook, you will debug a script intended to run HyMod."
   ]
  },
  {
   "cell_type": "markdown",
   "id": "0bf2a848-8964-4a20-83ea-c0cc478a4bd9",
   "metadata": {},
   "source": [
    "### <div class=\"blue\"><span style=\"color:blue\">Exercise section</span></div>\n",
    "### Exercise 1\n",
    "\n",
    "(a) The three main error types in Python are Syntax errors, Runtime errors and Logical errors. [This blog entry on errors in Python](https://rollbar.com/blog/python-errors-and-how-to-handle-them/#) shows examples of how to understand and fix them. Read through it. \n",
    "\n",
    "(b) Execute the code below, which contains errors. Debug it! \n",
    "\n",
    "(c) Print and plot the results to check whether you achieved plausible results. "
   ]
  },
  {
   "cell_type": "code",
   "execution_count": 1,
   "id": "82bfd5f8-4284-48b7-88f1-56a8c6e83b5d",
   "metadata": {},
   "outputs": [],
   "source": [
    "import numpy as np\n",
    "import pandas as pd\n",
    "import matplotlib.dates as mdate\n",
    "import sys\n",
    "sys.path.append('src/')\n",
    "import HyMod"
   ]
  },
  {
   "cell_type": "code",
   "execution_count": 2,
   "id": "7f640600-635a-47a8-936d-ecebc1a5c1c3",
   "metadata": {},
   "outputs": [
    {
     "ename": "SyntaxError",
     "evalue": "invalid syntax (226778411.py, line 5)",
     "output_type": "error",
     "traceback": [
      "\u001b[1;36m  Cell \u001b[1;32mIn[2], line 5\u001b[1;36m\u001b[0m\n\u001b[1;33m    file_dic = {catchment_names[0]: \"camels_04122500\", catchment_names[1]: \"hysets_10BE007\",\u001b[0m\n\u001b[1;37m    ^\u001b[0m\n\u001b[1;31mSyntaxError\u001b[0m\u001b[1;31m:\u001b[0m invalid syntax\n"
     ]
    }
   ],
   "source": [
    "# Read catchment data\n",
    "catchment_names = [\"Pere Marquette River, MI, USA\", \"Trout River, BC, Canada\", \n",
    "                   \"Siletz River, OR, USA\", \"Medina River, TX, USA\",\n",
    "                   \"South Branch Potomac River, USA\", \"Bad River, Wisconsin, USA\"\n",
    "file_dic = {catchment_names[0]: \"camels_04122500\", catchment_names[1]: \"hysets_10BE007\", \n",
    "            catchment_names[2]: \"camels_14305500\", catchment_names[3]: \"camels_08178880\",\n",
    "            catchment_names[4]: \"camels_01605500\", catchment_names[5]: \"camels_04027000\"}"
   ]
  },
  {
   "cell_type": "code",
   "execution_count": null,
   "id": "0c92fc9f-0c18-4a05-9f66-ba58df589e57",
   "metadata": {},
   "outputs": [],
   "source": [
    "df_obs = pd.read_csv(f\"data/{file_dics[catchment_name]}.csv\")\n",
    "# Make sure the date is interpreted as a datetime object -> makes temporal operations easier\n",
    "df_obs.date = pd.to_datetime(df_obs['date'], format='%Y-%m-%d')\n",
    "# Index frame by date\n",
    "df_obs.set_index('date', inplace=True)"
   ]
  },
  {
   "cell_type": "code",
   "execution_count": null,
   "id": "d994c3c0-3189-4347-8d0c-8a0260cb0db3",
   "metadata": {},
   "outputs": [],
   "source": [
    "# Select time frame\n",
    "start_date = '2002-01-01'\n",
    "end_date = '2000-12-31'\n",
    "df_obs = df_obs[start_date:end_date]\n",
    "n_days = 365  # days for the model to spin-up (fill with water)\n",
    "# Reformat the date for plotting\n",
    "df_obs[\"date\"] = df_obs.index.map(lambda s: s.strftime('%b-%d-%y'))\n",
    "# Reindex\n",
    "df_obs = df_obs.reset_index(drop=true)"
   ]
  },
  {
   "cell_type": "code",
   "execution_count": null,
   "id": "2687ad11-508b-48c3-9476-ae62420b2e1f",
   "metadata": {},
   "outputs": [],
   "source": [
    "# Select snow, precip, PET, streamflow and T\n",
    "df_obs = df_obs[[\"snow_depth_water_equivalent_means\", \"total_precipitation_sum\",\"potential_evaporation_sum\",\"streamflow\", \"temperature_2m_mean\", \"date\"]]\n",
    "# Rename variables\n",
    "df_obs.columns = [\"Snow [mm/day]\", \"P [mm/day]\", \"PET [mm/day]\", \"Q [mm/day]\", \"T [C]\", \"Date\"]"
   ]
  },
  {
   "cell_type": "code",
   "execution_count": null,
   "id": "cbd0339e-9154-4cf1-baa1-807ea78fc52f",
   "metadata": {},
   "outputs": [],
   "source": [
    "# Extract time series\n",
    "P = df_obs[\"P [mm/day]\"].to_numpy\n",
    "pet = df_obs[\"PET [mm/day]\"].to_numpy\n",
    "#temp = df_obs[\"T [C]\"].to_numpy\n",
    "Q_obs = df_obs[\"Q [mm/day]\"].to_numpy"
   ]
  },
  {
   "cell_type": "code",
   "execution_count": null,
   "id": "57f4bf6c-6756-4f52-b21c-395e5c018ce2",
   "metadata": {},
   "outputs": [],
   "source": [
    "param = [200, 0.5, 0.5, 3.5, 100]\n",
    "param = np.array([param[1], param[2], param[3], 1/param[4], 1/param[5]])\n",
    "Q_sim = HyMod.hymod_sim(param, P, pet)"
   ]
  },
  {
   "cell_type": "code",
   "execution_count": null,
   "id": "c29a6399-6e5f-498a-a1b6-0a4cf14d9bf8",
   "metadata": {},
   "outputs": [],
   "source": [
    "# todo make a dataframe from simulated and observed runoff (Q_sim and Q_obs)\n",
    "# todo print and plot the results using sns.lineplot() during the evaluation period (starts at n_days)"
   ]
  },
  {
   "cell_type": "markdown",
   "id": "8404b6d9-e464-471e-95ab-abea6a932769",
   "metadata": {},
   "source": [
    "---"
   ]
  },
  {
   "cell_type": "markdown",
   "id": "e88d5fbc-d328-48fd-9fc0-56dca1e1437c",
   "metadata": {},
   "source": [
    "## Jupyter format settings"
   ]
  },
  {
   "cell_type": "code",
   "execution_count": null,
   "id": "3d2ddc1b-5e24-48aa-a851-f8b9baffe309",
   "metadata": {},
   "outputs": [],
   "source": [
    "%%html \n",
    "<style>.blue {background-color: #8dc9fc;}</style>"
   ]
  }
 ],
 "metadata": {
  "kernelspec": {
   "display_name": "Python 3 (ipykernel)",
   "language": "python",
   "name": "python3"
  },
  "language_info": {
   "codemirror_mode": {
    "name": "ipython",
    "version": 3
   },
   "file_extension": ".py",
   "mimetype": "text/x-python",
   "name": "python",
   "nbconvert_exporter": "python",
   "pygments_lexer": "ipython3",
   "version": "3.9.18"
  }
 },
 "nbformat": 4,
 "nbformat_minor": 5
}
