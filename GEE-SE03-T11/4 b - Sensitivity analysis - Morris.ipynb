{
 "cells": [
  {
   "cell_type": "markdown",
   "id": "58baaf00-a910-45da-90ab-73ba980d7024",
   "metadata": {
    "editable": true
   },
   "source": [
    "![](./figures/Logo.PNG)"
   ]
  },
  {
   "cell_type": "markdown",
   "id": "49ae7cf3-5f1c-4c4b-ac38-adaeb9ade587",
   "metadata": {
    "editable": true
   },
   "source": [
    "## In this part of the tutorial, you will\n",
    "* use the Morris sensitivity analysis method\n",
    "* analyse the convergence of sensitivities"
   ]
  },
  {
   "cell_type": "markdown",
   "id": "9a5d3773-15c0-4c85-aad3-9c9d711efbc0",
   "metadata": {
    "editable": true
   },
   "source": [
    "---"
   ]
  },
  {
   "cell_type": "markdown",
   "id": "1e4a063a-fe29-47bf-9d61-074dbb703840",
   "metadata": {
    "editable": true
   },
   "source": [
    "# 4 b - Sensitivity analysis using the Morris method"
   ]
  },
  {
   "cell_type": "markdown",
   "id": "9ef46d68-95a8-438b-809d-5f91bf796ae1",
   "metadata": {
    "editable": true
   },
   "source": [
    "---"
   ]
  },
  {
   "cell_type": "markdown",
   "id": "391a666a-9e3c-4186-ad4d-4c92b0663bc0",
   "metadata": {
    "editable": true
   },
   "source": [
    "## 1. About the Morris method"
   ]
  },
  {
   "cell_type": "markdown",
   "id": "b95a93d0-0606-4fd7-b549-40db232a9dd3",
   "metadata": {
    "editable": true
   },
   "source": [
    "The Morris method is a **computationally efficient** and well-established global sensitivity analysis (GSA). \n",
    "It starts with generating a set of random points in a defined parameter space, made up by the lower and upper bounds of each parameter. \n",
    "For these baseline points, the elementary effects (EEs) of each parameter $p_1 \\dots p_n$ are received by **perturbing each parameter by a defined distance $\\Delta$** and **calculating the finite difference in the output**.\n",
    "\n",
    "This output is usually the result of some objective function (e.g., NSE).\n",
    "- The **total effect of a parameter** is calculated as the **mean of the objective function over all EEs** ($\\mu$) over the baseline points. \n",
    "A higher total effect means higher sensitivity towards the respective parameter. \n",
    "\n",
    "- A high **standard deviation of the total effect** ($\\sigma$) indicates **high interaction between that parameter and other parameters**.\n",
    "\n",
    "<center>\n",
    "    <img src=\"https://uqpyproject.readthedocs.io/en/latest/_images/morris_indices.png\"\n",
    "        style=\"width:75%\">\n",
    "</center>\n",
    "\n",
    "Owing to the low number of samples, the results can differ between individual runs of the Morris method. Multiple runs of the Morris method with new EEs, i.e. [bootstrapping](https://en.wikipedia.org/wiki/Bootstrapping_(statistics)), can be used to create confidence limits for parameter sensitivity.\n",
    "\n",
    "For further information on the Morris method, check out [this publication](https://doi.org/10.5281/zenodo.6110623 )"
   ]
  },
  {
   "cell_type": "markdown",
   "id": "ce5176e1-0425-4706-a979-0d41cafbd46a",
   "metadata": {
    "editable": true
   },
   "source": [
    "## 2. Using the Morris method"
   ]
  },
  {
   "cell_type": "markdown",
   "id": "57f30ef2-f15b-4b4c-937d-ae9019ece355",
   "metadata": {
    "editable": true
   },
   "source": [
    "In this notebook, you will apply the Morris method to screen and potentially rank HBV parameter sensitivity. \n",
    "In other words, you will assess, which parameters are important for the model output and which we might want to omit for following investigations of the studied catchment.\n",
    "\n",
    "You will see that some parameters stand out while others are clustered, having similar standard deviation and mean of the EEs. We will use bootstrapping to get confidence limits for each parameter."
   ]
  },
  {
   "cell_type": "markdown",
   "id": "bfcbdfa1-b8a1-47e4-afa8-1b8ccad2ee72",
   "metadata": {
    "editable": true
   },
   "source": [
    "### 2.1 Preparations "
   ]
  },
  {
   "cell_type": "markdown",
   "id": "9947dc5e-c974-4e2a-9a6e-8bfd9b9f004e",
   "metadata": {
    "editable": true
   },
   "source": [
    "**Import python modules, define functions**"
   ]
  },
  {
   "cell_type": "code",
   "execution_count": 1,
   "id": "82bfd5f8-4284-48b7-88f1-56a8c6e83b5d",
   "metadata": {},
   "outputs": [],
   "source": [
    "import numpy as np\n",
    "import pandas as pd\n",
    "import matplotlib.pyplot as plt\n",
    "import scipy.stats as st\n",
    "import sys\n",
    "sys.path.append('src/')\n",
    "import EET # module to perform the EET\n",
    "import plot_functions as pf # module to visualize the results\n",
    "from sampling import OAT_sampling # functions to perform the input sampling\n",
    "from util import aggregate_boot # function to aggregate the bootstrap results\n",
    "import HBV\n",
    "# Supress warnings from numba\n",
    "import logging\n",
    "logger = logging.getLogger(\"numba\")\n",
    "logger.setLevel(logging.ERROR)\n",
    "from ipywidgets import interact\n",
    "\n",
    "def calc_nse(obs, sim):\n",
    "    \"\"\"\n",
    "    Calculate the Nash-Sutcliffe Efficiency (NSE) coefficient for model performance.\n",
    "    The NSE ranges from zero to one, with one being the optimal value.\n",
    "    \"\"\"\n",
    "    r_nse = np.corrcoef(obs, sim)[0][1] \n",
    "    alpha_nse = np.divide(np.std(sim), np.std(obs))\n",
    "    beta_nse = np.divide(np.subtract(np.mean(sim), np.mean(obs)), np.std(obs))\n",
    "    nse = 2 * alpha_nse * r_nse - np.square(alpha_nse) - np.square(beta_nse)\n",
    "    return nse\n",
    "\n",
    "def hbv(par, precip, temp, evap):\n",
    "    \"\"\"\n",
    "    Run the HBV model to simulate runoff using snow routine and runoff simulation.\n",
    "    \"\"\"\n",
    "    p_s, _, _ = HBV.snow_routine(par[:4], temp, precip)\n",
    "    Case = 1 # for now we assume that the preferred path in the upper zone is runoff (Case = 1), it can be set to percolation (Case = 2)\n",
    "    ini = np.array([0,0,0]) # initial state\n",
    "    runoff_sim, _, _ = HBV.hbv_sim(par[4:], p_s, evap, Case, ini)\n",
    "    return runoff_sim\n",
    "\n",
    "def hbv_and_one_obj_fun(par, precip, temp, evap, runoff_obs, n_days, obj_fun):\n",
    "    \"\"\"\n",
    "    Run HBV model and evaluate it using a single objective function.\n",
    "    \"\"\"\n",
    "    runoff_sim = hbv(par, precip, temp, evap)\n",
    "    errors = obj_fun(runoff_obs[n_days:], runoff_sim[n_days:])\n",
    "    return errors, runoff_sim[n_days:]\n",
    "\n",
    "def read_catchment_data(file_name, start_date, end_date):\n",
    "    \"\"\"\n",
    "    Read and process catchment data for a specified date range from a CSV file.\n",
    "    \"\"\"\n",
    "    df_obs = pd.read_csv(f\"data/{file_name}.csv\")\n",
    "    # Make sure the date is interpreted as a datetime object -> makes temporal operations easier\n",
    "    df_obs.date = pd.to_datetime(df_obs['date'], format='%Y-%m-%d')\n",
    "    # Index frame by date\n",
    "    df_obs.set_index('date', inplace=True)\n",
    "    # Select only the columns we need\n",
    "    df_obs = df_obs[[\"total_precipitation_sum\",\"potential_evaporation_sum\",\"streamflow\", \"temperature_2m_mean\"]]\n",
    "    # Rename variables\n",
    "    df_obs.columns = [\"P [mm/day]\", \"PET [mm/day]\", \"Q [mm/day]\", \"T [C]\"]\n",
    "    # Select time frame\n",
    "    df_obs = df_obs[start_date:end_date]\n",
    "    # Reformat the date for plotting\n",
    "    df_obs[\"Date\"] = df_obs.index.map(lambda s: s.strftime('%b-%d-%y'))\n",
    "    \n",
    "    # Prepare the time series intput\n",
    "    p = df_obs[\"P [mm/day]\"].to_numpy()\n",
    "    pet = df_obs[\"PET [mm/day]\"].to_numpy()\n",
    "    t = df_obs[\"T [C]\"].to_numpy()\n",
    "    q_obs = df_obs[\"Q [mm/day]\"].to_numpy()\n",
    "\n",
    "    return p, pet, t, q_obs "
   ]
  },
  {
   "cell_type": "markdown",
   "id": "ce8c057d-9102-47aa-8766-1cd8744d3f6e",
   "metadata": {
    "editable": true
   },
   "source": [
    "**Read catchment data, define parameter bounds**"
   ]
  },
  {
   "cell_type": "code",
   "execution_count": 2,
   "id": "df0a0990-ca5c-4492-9262-dc5d1ff1659c",
   "metadata": {},
   "outputs": [],
   "source": [
    "dic_catchment = {\"Siletz River, OR, USA\": \"camels_14305500\"}\n",
    "P, PET, T, Q_obs = read_catchment_data(dic_catchment[\"Siletz River, OR, USA\"], '2002-10-01', '2006-09-30')\n",
    "\n",
    "n_spinup_days = 365\n",
    "\n",
    "# define parameter names\n",
    "parameter_names = [\"Ts\", \"CFMAX\", \"CFR\", \"CWH\", \"BETA\", \"LP\", \"FC\", \"PERC\", \"K0\", \"K1\", \"K2\", \"UZL\", \"MAXBAS\"]  \n",
    "n_parameters = len(parameter_names)\n",
    "# define marameter bounds\n",
    "xmin = [-3, 0, 0, 0, 0, 0.3, 1, 0, 0.05, 0.01, 0.005, 0, 1]\n",
    "xmax = [3, 20, 1, 0.8, 7, 1, 2000, 100, 2, 1, 0.1, 100, 6]"
   ]
  },
  {
   "cell_type": "markdown",
   "id": "48731ac5-1394-4254-9ceb-16b5ad2ee765",
   "metadata": {
    "editable": true
   },
   "source": [
    "### 2.2 Applying the Morris method"
   ]
  },
  {
   "cell_type": "code",
   "execution_count": 3,
   "id": "e686f0e4-d69d-4ba1-80f4-34dde864ce65",
   "metadata": {},
   "outputs": [
    {
     "name": "stdout",
     "output_type": "stream",
     "text": [
      "Number of model runs = 10 * (13 + 1) = 140. This may take a while.\n",
      "\n",
      "Results:\n",
      "   Parameters  Mean of EEs (x-axis)  Standard deviation of EEs (y-axis)\n",
      "0          Ts                0.0067                              0.0122\n",
      "1       CFMAX                0.0022                              0.0037\n",
      "2         CFR                0.0005                              0.0011\n",
      "3         CWH                0.0005                              0.0009\n",
      "4        BETA                0.6773                              0.9890\n",
      "5          LP                0.0941                              0.0550\n",
      "6          FC                0.5788                              0.3769\n",
      "7        PERC                0.0009                              0.0027\n",
      "8          K0                0.0084                              0.0222\n",
      "9          K1                0.1483                              0.0899\n",
      "10         K2                0.0552                              0.0537\n",
      "11        UZL                0.0854                              0.2015\n",
      "12     MAXBAS                0.1426                              0.3347\n"
     ]
    },
    {
     "data": {
      "image/png": "[encoded data removed]",
      "text/plain": [
       "<Figure size 640x480 with 1 Axes>"
      ]
     },
     "metadata": {},
     "output_type": "display_data"
    }
   ],
   "source": [
    "# define distribution\n",
    "distr_fun = st.uniform # uniform distribution\n",
    "distr_par = [np.nan] * n_parameters\n",
    "for i in range(n_parameters):\n",
    "    distr_par[i] = [xmin[i], xmax[i] - xmin[i]]\n",
    "\n",
    "# define the sampling design type\n",
    "design_type = \"radial\"\n",
    "\n",
    "# define the sampling strategy\n",
    "sampling_strategy = \"lhs\"\n",
    "\n",
    "n_EEs = 10 # number of model runs = n_EEs * (n_parameters + 1); due to One-At-the-Time sampling\n",
    "parameter_sets = OAT_sampling(n_EEs, n_parameters, distr_fun, distr_par, sampling_strategy, design_type) \n",
    "# note: parameter_sets.shape = (r * (n_parameters + 1), n_parameters)\n",
    "\n",
    "print(f\"Number of model runs = {n_EEs} * ({n_parameters} + 1) = {parameter_sets.shape[0]}. This may take a while.\\n\") \n",
    "errors = np.nan * np.ones(parameter_sets.shape[0]) \n",
    "for i, parameter_set in enumerate(parameter_sets):\n",
    "    errors[i], _ = hbv_and_one_obj_fun(parameter_set, P, T, PET, Q_obs, n_spinup_days, calc_nse) \n",
    "\n",
    "# Computation of the elementary effects (EEs)\n",
    "mi, sigma, _ = EET.EET_indices(n_EEs, xmin, xmax, parameter_sets, errors, design_type)\n",
    "# mi (mean of the elementary effects) and \n",
    "# sigma (standard deviation of the elementary effects) have shape (n_boot, n_parameters)\n",
    "\n",
    "# Plot results in the plane (mean(EE), std(EE)):\n",
    "EET.EET_plot(mi, sigma, parameter_names)\n",
    "\n",
    "# Print result as a table\n",
    "df_res = pd.DataFrame(np.array([parameter_names, mi, sigma]).T, \n",
    "                  columns=[\"Parameters\", \"Mean of EEs (x-axis)\", \"Standard deviation of EEs (y-axis)\"])\n",
    "df_res[\"Mean of EEs (x-axis)\"] = df_res[\"Mean of EEs (x-axis)\"].astype(float).round(4)\n",
    "df_res[\"Standard deviation of EEs (y-axis)\"] = df_res[\"Standard deviation of EEs (y-axis)\"].astype(float).round(4)\n",
    "print(\"Results:\")\n",
    "print(df_res)"
   ]
  },
  {
   "cell_type": "markdown",
   "id": "66e93673-ec1c-448e-8b16-24785b6e5699",
   "metadata": {
    "editable": true
   },
   "source": [
    "<div style=\"background:#e0f2fe;border:1mm solid SkyBlue; padding:1%\">\n",
    "    <h4><span>&#129300 </span>Your Turn I: Understanding Morris' Method</h4>\n",
    "    <ol>\n",
    "        <li>Which parameters can you ignore? What can you say about the remaining parameters?</li>\n",
    "        <li>Increase the value of n_EEs using the slider above. Why do the plotted results change?</li>\n",
    "    </ol>\n",
    "</div>"
   ]
  },
  {
   "cell_type": "markdown",
   "id": "f6d198d3-c0e2-4afc-aa1c-177591648449",
   "metadata": {
    "editable": true
   },
   "source": [
    "**Use bootstrapping to derive confidence bounds**"
   ]
  },
  {
   "cell_type": "code",
   "execution_count": 4,
   "id": "88b5394d-ae3f-4b2c-803d-85a6bd8527d5",
   "metadata": {},
   "outputs": [
    {
     "data": {
      "application/vnd.jupyter.widget-view+json": {
       "model_id": "6a4554d442904861adc231ffaf175759",
       "version_major": 2,
       "version_minor": 0
      },
      "text/plain": [
       "interactive(children=(IntSlider(value=10, description='n_bootstrap', min=10, step=10), IntSlider(value=10, des…"
      ]
     },
     "metadata": {},
     "output_type": "display_data"
    }
   ],
   "source": [
    "@interact(n_bootstrap = (10, 100, 10), n_EEs = (10, 100, 10))    \n",
    "def conf_bounds_function(n_bootstrap = 10, n_EEs = 10):\n",
    "    parameter_sets = OAT_sampling(n_EEs, n_parameters, distr_fun, distr_par, sampling_strategy, design_type) \n",
    "    print(f\"Number of model runs = {n_EEs} * ({n_parameters} + 1) = {parameter_sets.shape[0]}. This may take a while.\\n\") \n",
    "    errors = np.nan * np.ones(parameter_sets.shape[0]) # note: parameter_sets.shape = (r * (n_parameters + 1), n_parameters)\n",
    "    for i, parameter_set in enumerate(parameter_sets):\n",
    "        errors[i], _ = hbv_and_one_obj_fun(parameter_set, P, T, PET, Q_obs, n_spinup_days, calc_nse) \n",
    "        \n",
    "    # Compute sensitivity indices for Nboot bootstrap resamples:\n",
    "    mi, sigma, EE = EET.EET_indices(n_EEs, xmin, xmax, parameter_sets, errors, design_type, Nboot=n_bootstrap)\n",
    "    # mi (mean of the elementary effects) and \n",
    "    # sigma (standard deviation of the elementary effects) have shape (n_bootstrap, n_parameters)\n",
    "    \n",
    "    # Compute mean and confidence intervals of the sensitivity indices across the bootstrap resamples:\n",
    "    mi_m, mi_lb, mi_ub = aggregate_boot(mi) # shape (M,)\n",
    "    sigma_m, sigma_lb, sigma_ub = aggregate_boot(sigma) # shape (M,)\n",
    "    \n",
    "    df_res = pd.DataFrame(np.array([parameter_names, mi_m, sigma_m]).T, \n",
    "                      columns=[\"Parameters\", \"Mean of EEs (x-axis)\", \"Standard deviation of EEs (y-axis)\"])\n",
    "    df_res[\"Mean of EEs (x-axis)\"] = df_res[\"Mean of EEs (x-axis)\"].astype(float).round(4)\n",
    "    df_res[\"Standard deviation of EEs (y-axis)\"] = df_res[\"Standard deviation of EEs (y-axis)\"].astype(float).round(4)\n",
    "    print(\"Dots in the plot below:\")\n",
    "    print(df_res)\n",
    "\n",
    "    # Plot bootstrapping results in the plane (mean(EE),std(EE)):\n",
    "    EET.EET_plot(mi_m, sigma_m, parameter_names, mi_lb, mi_ub, sigma_lb, sigma_ub)\n",
    "    plt.show()\n",
    "\n",
    "    # Repeat computations using a decreasing number of samples so as to assess\n",
    "    # if convergence was reached within the available dataset:\n",
    "    rr = np.linspace(n_EEs/5, n_EEs, 5).astype(int) # Sample numbers at which the indices will be estimated\n",
    "    # Compute sensitivity indices for Nboot bootstrap resamples:\n",
    "    mic, sigmac = EET.EET_convergence(EE, rr, n_bootstrap) # mic and sigmac are lists in\n",
    "    # which the i-th element correspond to the sensitivity indices at the i-th sample size\n",
    "    \n",
    "    # Compute mean and confidence intervals of the sensitivity indices across the bootstrap resamples:\n",
    "    mic_m, mic_lb, mic_ub = aggregate_boot(mic)\n",
    "    sigmac_m, sigmac_lb, sigmac_ub = aggregate_boot(sigmac)\n",
    "    \n",
    "    # Plot the sensitivity measure (mean of elementary effects) as a function of the number of model evaluations:\n",
    "    plt.figure()\n",
    "    pf.plot_convergence(mic_m, rr*(n_parameters+1), mic_lb, mic_ub,\n",
    "                        X_Label='no of model evaluations', Y_Label='mean of EEs',\n",
    "                        labelinput=parameter_names)\n",
    "    plt.show()"
   ]
  },
  {
   "cell_type": "markdown",
   "id": "c9c9af0b-62e4-4d4b-a8d9-80aaddb01c93",
   "metadata": {
    "editable": true
   },
   "source": [
    "<div style=\"background:#e0f2fe;border:1mm solid SkyBlue; padding:1%\">\n",
    "    <h4><span>&#129300 </span>Your Turn II: Bootstrapping</h4>\n",
    "    <ol>\n",
    "        <li>Why are the rectangular confidence intervals overlapping and how does that influence your interpretation about which parameter is most sensitive?</li>\n",
    "        <li>What parameter is most sensitive? What parameter shows the largest interactions?</li>\n",
    "        <li>At what point have you reached a convergence in sensitivity? Why is extending the original samples useful?</li>\n",
    "    </ol>\n",
    "</div>"
   ]
  }
 ],
 "metadata": {
  "kernelspec": {
   "display_name": "Python 3 (ipykernel)",
   "language": "python",
   "name": "python3"
  },
  "language_info": {
   "codemirror_mode": {
    "name": "ipython",
    "version": 3
   },
   "file_extension": ".py",
   "mimetype": "text/x-python",
   "name": "python",
   "nbconvert_exporter": "python",
   "pygments_lexer": "ipython3",
   "version": "3.9.19"
  }
 },
 "nbformat": 4,
 "nbformat_minor": 5
}
