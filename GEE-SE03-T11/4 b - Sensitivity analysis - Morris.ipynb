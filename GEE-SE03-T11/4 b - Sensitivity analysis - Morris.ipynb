{
 "cells": [
  {
   "cell_type": "markdown",
   "id": "58baaf00-a910-45da-90ab-73ba980d7024",
   "metadata": {
    "editable": true
   },
   "source": [
    "![](./figures/Logo.PNG)"
   ]
  },
  {
   "cell_type": "markdown",
   "id": "49ae7cf3-5f1c-4c4b-ac38-adaeb9ade587",
   "metadata": {
    "editable": true
   },
   "source": [
    "## In this part of the tutorial, you will\n",
    "* use the Morris sensitivity analysis method\n",
    "* analyse the convergence of sensitivities"
   ]
  },
  {
   "cell_type": "markdown",
   "id": "9a5d3773-15c0-4c85-aad3-9c9d711efbc0",
   "metadata": {
    "editable": true
   },
   "source": [
    "---"
   ]
  },
  {
   "cell_type": "markdown",
   "id": "1e4a063a-fe29-47bf-9d61-074dbb703840",
   "metadata": {
    "editable": true
   },
   "source": [
    "# 4 b - Sensitivity analysis using the Morris method"
   ]
  },
  {
   "cell_type": "markdown",
   "id": "9ef46d68-95a8-438b-809d-5f91bf796ae1",
   "metadata": {
    "editable": true
   },
   "source": [
    "---"
   ]
  },
  {
   "cell_type": "markdown",
   "id": "391a666a-9e3c-4186-ad4d-4c92b0663bc0",
   "metadata": {
    "editable": true
   },
   "source": [
    "## 1. About the Morris method"
   ]
  },
  {
   "cell_type": "markdown",
   "id": "b95a93d0-0606-4fd7-b549-40db232a9dd3",
   "metadata": {
    "editable": true
   },
   "source": [
    "The Morris method is a **computationally efficient** and well-established global sensitivity analysis (GSA). \n",
    "It starts with generating a set of random points in a defined parameter space, made up by the lower and upper bounds of each parameter. \n",
    "For these baseline points, the elementary effects (EEs) of each parameter $p_1 \\dots p_n$ are received by **perturbing each parameter by a defined distance $\\Delta$** and **calculating the finite difference in the output**.\n",
    "\n",
    "This output is usually the result of some objective function (e.g., NSE).\n",
    "- The **total effect of a parameter** is calculated as the **mean of the objective function over all EEs** ($\\mu$) over the baseline points. \n",
    "A higher total effect means higher sensitivity towards the respective parameter. \n",
    "\n",
    "- A high **standard deviation of the total effect** ($\\sigma$) indicates **high interaction between that parameter and other parameters**.\n",
    "\n",
    "<center>\n",
    "    <img src=\"https://uqpyproject.readthedocs.io/en/latest/_images/morris_indices.png\"\n",
    "        style=\"width:75%\">\n",
    "</center>\n",
    "\n",
    "Owing to the low number of samples, the results can differ between individual runs of the Morris method. Multiple runs of the Morris method with new EEs, i.e. [bootstrapping](https://en.wikipedia.org/wiki/Bootstrapping_(statistics)), can be used to create confidence limits for parameter sensitivity.\n",
    "\n",
    "For further information on the Morris method, check out [this publication](https://doi.org/10.5281/zenodo.6110623 )"
   ]
  },
  {
   "cell_type": "markdown",
   "id": "ce5176e1-0425-4706-a979-0d41cafbd46a",
   "metadata": {
    "editable": true
   },
   "source": [
    "## 2. Using the Morris method"
   ]
  },
  {
   "cell_type": "markdown",
   "id": "57f30ef2-f15b-4b4c-937d-ae9019ece355",
   "metadata": {
    "editable": true
   },
   "source": [
    "In this notebook, you will apply the Morris method to screen and potentially rank HBV parameter sensitivity. \n",
    "In other words, you will assess, which parameters are important for the model output and which we might want to omit for following investigations of the studied catchment.\n",
    "\n",
    "You will see that some parameters stand out while others are clustered, having similar standard deviation and mean of the EEs. We will use bootstrapping to get confidence limits for each parameter."
   ]
  },
  {
   "cell_type": "markdown",
   "id": "bfcbdfa1-b8a1-47e4-afa8-1b8ccad2ee72",
   "metadata": {
    "editable": true
   },
   "source": [
    "### 2.1 Preparations "
   ]
  },
  {
   "cell_type": "markdown",
   "id": "9947dc5e-c974-4e2a-9a6e-8bfd9b9f004e",
   "metadata": {
    "editable": true
   },
   "source": [
    "**Import python modules, define functions**"
   ]
  },
  {
   "cell_type": "code",
   "execution_count": 1,
   "id": "82bfd5f8-4284-48b7-88f1-56a8c6e83b5d",
   "metadata": {
    "ExecuteTime": {
     "end_time": "2025-01-08T09:53:44.051252Z",
     "start_time": "2025-01-08T09:53:44.029485Z"
    }
   },
   "outputs": [],
   "source": [
    "import sys\n",
    "import logging\n",
    "import numpy as np\n",
    "import pandas as pd\n",
    "import matplotlib.pyplot as plt\n",
    "import scipy as sp\n",
    "from ipywidgets import interact_manual, Dropdown\n",
    "\n",
    "sys.path.append(\"src\")\n",
    "import HBV, EET, plot_functions, sampling, util\n",
    "\n",
    "# overwrite colors\n",
    "plt.style.use('default')\n",
    "plt.matplotlib.cm.jet = lambda _: [\"#e6194B\", \"#3cb44b\", \"#4363d8\", \"#f58231\", \"#aaffc3\", \"#42d4f4\", \"#a9a9a9\", \"#ffe119\", \"#f032e6\", \"#fabed4\", \"#469990\", \"#9A6324\", \"#dcbeff\"]\n",
    "\n",
    "# supress numba warnings\n",
    "logger = logging.getLogger(\"numba\")\n",
    "logger.setLevel(logging.ERROR)\n",
    "\n",
    "def calc_nse(obs, sim):\n",
    "    \"\"\"\n",
    "    Calculate the Nash-Sutcliffe Efficiency (NSE) coefficient for model performance.\n",
    "    The NSE ranges from zero to one, with one being the optimal value.\n",
    "    \"\"\"\n",
    "    r_nse = np.corrcoef(obs, sim)[0][1] \n",
    "    alpha_nse = np.divide(np.std(sim), np.std(obs))\n",
    "    beta_nse = np.divide(np.subtract(np.mean(sim), np.mean(obs)), np.std(obs))\n",
    "    nse = 2 * alpha_nse * r_nse - np.square(alpha_nse) - np.square(beta_nse)\n",
    "    return nse\n",
    "\n",
    "def hbv(par, precip, temp, evap):\n",
    "    \"\"\"\n",
    "    Run the HBV model to simulate runoff using snow routine and runoff simulation.\n",
    "    \"\"\"\n",
    "    p_s, _, _ = HBV.snow_routine(par[:4], temp, precip)\n",
    "    Case = 1 # for now we assume that the preferred path in the upper zone is runoff (Case = 1), it can be set to percolation (Case = 2)\n",
    "    ini = np.array([0,0,0]) # initial state\n",
    "    runoff_sim, _, _ = HBV.hbv_sim(par[4:], p_s, evap, Case, ini)\n",
    "    return runoff_sim\n",
    "\n",
    "def hbv_and_one_obj_fun(par, precip, temp, evap, runoff_obs, n_days, obj_fun):\n",
    "    \"\"\"\n",
    "    Run HBV model and evaluate it using a single objective function.\n",
    "    \"\"\"\n",
    "    runoff_sim = hbv(par, precip, temp, evap)\n",
    "    errors = obj_fun(runoff_obs[n_days:], runoff_sim[n_days:])\n",
    "    return errors, runoff_sim[n_days:]\n",
    "\n",
    "def load_catchment_data(file, startDate=\"2000\", endDate=\"2005\"):\n",
    "    data = pd.read_csv(file, sep=r\"\\s+\")\n",
    "    # combine columns to create a datetime column\n",
    "    data['DATE'] = pd.to_datetime(data[['YR', 'MNTH', 'DY']].astype(str).agg('-'.join, axis=1), format='%Y-%m-%d')\n",
    "    # set the new column as the index\n",
    "    data = data.set_index('DATE')\n",
    "    # keep only relevant variables\n",
    "    data = data[[\"PRCP\", \"TAIR\", \"PET\", \"SWE\", \"OBS_RUN\"]]\n",
    "    # rename the columns\n",
    "    data.columns = [\"P\", \"T\", \"PET\", \"Snow\", \"Q_obs\"]\n",
    "\n",
    "    # subset range\n",
    "    data = data.loc[(data.index >= startDate) & (data.index <= endDate)]\n",
    "    return data\n",
    "\n",
    "def sort_legend_by(order, **kwargs):\n",
    "\n",
    "    # grab the legend handles and labels\n",
    "    handles = plt.gca().legend_.legend_handles\n",
    "    labels  = [label._text for label in plt.gca().legend_.texts]\n",
    "\n",
    "    # sort both handles and labels\n",
    "    handles = np.array(handles)[order]\n",
    "    labels  = np.array(labels)[order]\n",
    "\n",
    "    # set the handles of the legend\n",
    "    plt.gca().legend(handles, labels, **kwargs)\n",
    "\n",
    "plt.sort_legend_by = sort_legend_by"
   ]
  },
  {
   "cell_type": "markdown",
   "id": "ce8c057d-9102-47aa-8766-1cd8744d3f6e",
   "metadata": {
    "editable": true
   },
   "source": [
    "**Read catchment data, define parameter bounds**"
   ]
  },
  {
   "cell_type": "code",
   "execution_count": 2,
   "id": "d496c1158becdf32",
   "metadata": {
    "ExecuteTime": {
     "end_time": "2025-01-08T09:28:55.737021Z",
     "start_time": "2025-01-08T09:28:55.730715Z"
    }
   },
   "outputs": [
    {
     "data": {
      "application/vnd.jupyter.widget-view+json": {
       "model_id": "328189e896d9405db30f1c32e902e6d2",
       "version_major": 2,
       "version_minor": 0
      },
      "text/plain": [
       "Dropdown(options=(('Medina River, TX, USA', './data/08178880_medina_TX.txt'), ('Siltez River, OR, USA', './dat…"
      ]
     },
     "metadata": {},
     "output_type": "display_data"
    }
   ],
   "source": [
    "dict_catchments = {\n",
    "    \"Medina River, TX, USA\": \"./data/08178880_medina_TX.txt\",\n",
    "    \"Siltez River, OR, USA\": \"./data/14305500_siletz_OR.txt\",\n",
    "    \"Dix River, KY, USA\": \"./data/03285000_dix_KY.txt\",\n",
    "    \"Knife River, MN, USA\": \"./data/04015330_knife_MN.txt\"\n",
    "}\n",
    "catchment_dropdown = Dropdown(options=dict_catchments.items())\n",
    "display(catchment_dropdown)"
   ]
  },
  {
   "cell_type": "code",
   "execution_count": 6,
   "id": "df0a0990-ca5c-4492-9262-dc5d1ff1659c",
   "metadata": {
    "ExecuteTime": {
     "end_time": "2025-01-08T09:28:56.559599Z",
     "start_time": "2025-01-08T09:28:55.790637Z"
    }
   },
   "outputs": [
    {
     "data": {
      "image/png": "[encoded data removed]",
      "text/plain": [
       "<Figure size 1400x400 with 2 Axes>"
      ]
     },
     "metadata": {},
     "output_type": "display_data"
    }
   ],
   "source": [
    "# load the catchment data\n",
    "df = load_catchment_data(catchment_dropdown.value, '2002', '2006')\n",
    "P, PET, T, Q_obs = df[['P', 'PET', 'T', 'Q_obs']].values.T\n",
    "\n",
    "# number of spinup days before the evaluation period\n",
    "n_spinup_days = 365\n",
    "\n",
    "# define parameter names and bounds\n",
    "param_names = np.array([\"Ts\"  , \"CFMAX\", \"CFR\", \"CWH\", \"BETA\", \"LP\", \"FC\", \"PERC\", \"K0\", \"K1\", \"K2\" , \"UZL\", \"MAXBAS\"])\n",
    "lower       = np.array([-2.5  , 0.5    , 0    , 0    , 0     , 0.3 , 50  , 0     , 0.05, 0.01, 0.001, 0    , 1])\n",
    "upper       = np.array([2.5   , 5      , 0.1  , 0.2  , 6     , 5   , 700 , 60    , 0.99, 0.8 , 0.15 , 250  , 3])\n",
    "ranges      = np.stack([lower, upper], axis=1)\n",
    "n_params    = len(param_names)\n",
    "\n",
    "plt.figure(figsize=(14, 4))\n",
    "plt.plot(df.index, Q_obs, color=\"black\", label=\"Observed\")\n",
    "plt.plot(df.index, df.Snow, color=\"red\", label=\"Snow Pack Volume\")\n",
    "plt.xlabel(\"Date\")\n",
    "plt.ylabel(\"Discharge [mm/day]\")\n",
    "plt.legend()\n",
    "plt.twinx()\n",
    "plt.bar(df.index, P, label=\"Precipitation\", color=\"C0\", linestyle=\"--\")\n",
    "plt.gca().invert_yaxis()\n",
    "plt.ylabel(\"Precipitation [mm/day]\")\n",
    "plt.legend()\n",
    "plt.title(\"Hydrograph\\n\" + list(dict_catchments.keys())[catchment_dropdown.index])\n",
    "plt.show()"
   ]
  },
  {
   "cell_type": "markdown",
   "id": "48731ac5-1394-4254-9ceb-16b5ad2ee765",
   "metadata": {
    "editable": true
   },
   "source": [
    "### 2.2 Applying the Morris method"
   ]
  },
  {
   "cell_type": "code",
   "execution_count": 4,
   "id": "e686f0e4-d69d-4ba1-80f4-34dde864ce65",
   "metadata": {
    "ExecuteTime": {
     "end_time": "2025-01-08T09:55:37.594852Z",
     "start_time": "2025-01-08T09:55:37.584540Z"
    }
   },
   "outputs": [
    {
     "data": {
      "application/vnd.jupyter.widget-view+json": {
       "model_id": "888cded0fc5c41888b459f184409ca7b",
       "version_major": 2,
       "version_minor": 0
      },
      "text/plain": [
       "interactive(children=(IntSlider(value=50, description='n_EEs', max=200, min=10, step=10), Button(description='…"
      ]
     },
     "metadata": {},
     "output_type": "display_data"
    }
   ],
   "source": [
    "@interact_manual.options(manual_name=\"Run Morris Analysis\")(n_EEs = (10, 200, 10))\n",
    "def plot_simple_morris(n_EEs=50):\n",
    "\n",
    "    # create samples for Morris method\n",
    "    # \"LHS\" is the sampling stategy, e.g. latin hypercube sampling\n",
    "    # \"radial\" is the design type of the trajectories TODO: why use a radial design type and not the trajectory?\n",
    "    np.random.seed(42)\n",
    "    samples = sampling.OAT_sampling(n_EEs, n_params, sp.stats.uniform, np.transpose([lower, upper - lower]).tolist(), \"lhs\", \"radial\")\n",
    "\n",
    "    # run hbv for each parameter set and calculate the nse\n",
    "    print(f\"Number of model runs = {n_EEs} * ({n_params} + 1) = {samples.shape[0]}. This may take a while.\\n\")\n",
    "    errors = np.zeros((samples.shape[0]))\n",
    "    for i, parameter_set in enumerate(samples):\n",
    "        errors[i], _ = hbv_and_one_obj_fun(parameter_set, P, T, PET, Q_obs, n_spinup_days, calc_nse)\n",
    "\n",
    "    # compute the elementary effects\n",
    "    mi, sg, _ = EET.EET_indices(n_EEs, lower.tolist(), upper.tolist(), samples, errors, \"radial\")\n",
    "\n",
    "    # plot results in the plane (mean(EE), std(EE))\n",
    "    EET.EET_plot(mi, sg, param_names.tolist())\n",
    "    plt.title(\"Morris Parameter Importance\\n\" + list(dict_catchments.keys())[catchment_dropdown.index])\n",
    "    plt.sort_legend_by(np.argsort(-mi), loc=\"center left\", bbox_to_anchor=(1, 0.5))\n",
    "    plt.show()\n",
    "\n",
    "    # print overview of results\n",
    "    df_res = pd.DataFrame(np.array([param_names, mi, sg]).T, columns=[\"Parameters\", \"Mean of EEs (x-axis)\", \"Standard deviation of EEs (y-axis)\"])\n",
    "    df_res[\"Mean of EEs (x-axis)\"] = df_res[\"Mean of EEs (x-axis)\"].astype(float).round(4)\n",
    "    df_res[\"Standard deviation of EEs (y-axis)\"] = df_res[\"Standard deviation of EEs (y-axis)\"].astype(float).round(4)\n",
    "    display(df_res.sort_values(\"Mean of EEs (x-axis)\", ascending=False))"
   ]
  },
  {
   "cell_type": "markdown",
   "id": "66e93673-ec1c-448e-8b16-24785b6e5699",
   "metadata": {
    "editable": true
   },
   "source": [
    "<div style=\"background:#e0f2fe; padding: 1%; border:1mm solid SkyBlue; color:black\">\n",
    "    <h4><span>&#129300 </span>Task I: Understanding Morris' Method</h4>\n",
    "    <ol>\n",
    "        <li>Based on the Morris analysis: Which paramters are important? Which show strong interactions? Which are noninfluencial?</li>\n",
    "        <li>Increase the number of elementary effects. Why do mean and standard deviation of the elementary effects change? What is the consequence of this variability?</li>\n",
    "    </ol>\n",
    "</div>"
   ]
  },
  {
   "cell_type": "markdown",
   "id": "81ed90ae80fac212",
   "metadata": {},
   "source": [
    "_DOUBLE CLICK TO ANSWER HERE_"
   ]
  },
  {
   "cell_type": "markdown",
   "id": "db890906fe43855c",
   "metadata": {},
   "source": [
    "<div style=\"background:#e0f2fe; padding: 1%; border:1mm solid SkyBlue; color:black\"></div>"
   ]
  },
  {
   "cell_type": "markdown",
   "id": "f6d198d3-c0e2-4afc-aa1c-177591648449",
   "metadata": {
    "editable": true
   },
   "source": [
    "**Use bootstrapping to derive confidence bounds**"
   ]
  },
  {
   "cell_type": "code",
   "execution_count": 5,
   "id": "88b5394d-ae3f-4b2c-803d-85a6bd8527d5",
   "metadata": {
    "ExecuteTime": {
     "end_time": "2025-01-08T09:55:29.801322Z",
     "start_time": "2025-01-08T09:55:29.766674Z"
    }
   },
   "outputs": [
    {
     "data": {
      "application/vnd.jupyter.widget-view+json": {
       "model_id": "f332eba49f94472d83e7791aba1d4ece",
       "version_major": 2,
       "version_minor": 0
      },
      "text/plain": [
       "interactive(children=(IntSlider(value=100, description='n_bootstraps', max=500, min=100, step=10), IntSlider(v…"
      ]
     },
     "metadata": {},
     "output_type": "display_data"
    }
   ],
   "source": [
    "@interact_manual.options(manual_name=\"Run Convergence Analysis\")(n_bootstraps = (100, 500, 10), n_EEs = (10, 200, 10))\n",
    "def plot_morris_convergence(n_bootstraps = 100, n_EEs = 50):\n",
    "\n",
    "    # create samples for Morris method\n",
    "    # \"LHS\" is the sampling stategy, e.g. latin hypercube sampling\n",
    "    # \"radial\" is the design type of the trajectories TODO: why use a radial design type and not the trajectory?\n",
    "    np.random.seed(42)\n",
    "    samples = sampling.OAT_sampling(n_EEs, n_params, sp.stats.uniform, np.transpose([lower, upper - lower]).tolist(), \"lhs\", \"radial\")\n",
    "\n",
    "    # run hbv for each parameter set and calculate the nse\n",
    "    print(f\"Number of model runs = {n_EEs} * ({n_params} + 1) = {samples.shape[0]}. This may take a while.\\n\")\n",
    "    errors = np.zeros((samples.shape[0]))\n",
    "    for i, parameter_set in enumerate(samples):\n",
    "        errors[i], _ = hbv_and_one_obj_fun(parameter_set, P, T, PET, Q_obs, n_spinup_days, calc_nse)\n",
    "\n",
    "    # compute the elementary effects\n",
    "    mi, sg, EE = EET.EET_indices(n_EEs, lower.tolist(), upper.tolist(), samples, errors, \"radial\", n_bootstraps)\n",
    "    # compute mean and confidence intervals of the sensitivity indices across the bootstrap resamples\n",
    "    mi_mean, mi_lower, mi_upper = util.aggregate_boot(mi)\n",
    "    sg_mean, sg_lower, sg_upper = util.aggregate_boot(sg)\n",
    "\n",
    "    # order of the mean of the elementary effects\n",
    "    order = np.argsort(-mi_mean)\n",
    "    \n",
    "    # plot results in the plane (mean(EE), std(EE))\n",
    "    EET.EET_plot(mi_mean, sg_mean, param_names.tolist(), mi_lower, mi_upper, sg_lower, sg_upper)\n",
    "    plt.title(\"Morris Parameter Importance\\n\" + list(dict_catchments.keys())[catchment_dropdown.index])\n",
    "    plt.sort_legend_by(order, loc=\"center left\", bbox_to_anchor=(1, 0.5))\n",
    "    plt.show()\n",
    "\n",
    "    # repeat computations using a decreasing number of samples so as to assess\n",
    "    # if convergence was reached within the available dataset\n",
    "    n_EEs_convergence = np.linspace(n_EEs/10, n_EEs, 10).astype(int)\n",
    "    # compute the sensitivit indices again, now for different numbers of elementary effects\n",
    "    mi, sg = EET.EET_convergence(EE, n_EEs_convergence, n_bootstraps)\n",
    "    # compute mean and confidence intervals of the sensitivity indices across the bootstrap resamples\n",
    "    mi_mean, mi_lower, mi_upper = util.aggregate_boot(mi)\n",
    "    sg_mean, sg_lower, sg_upper = util.aggregate_boot(sg)\n",
    "\n",
    "    # plot the sensitivity measure (mean of elementary effects) as a function of the number of model evaluations:\n",
    "    plot_functions.plot_convergence(mi_mean, n_EEs_convergence * (n_params + 1), X_Label='no of model evaluations', Y_Label='mean of EEs', labelinput=param_names.tolist())\n",
    "    plt.title(\"Convergence of Mean\\n\" + list(dict_catchments.keys())[catchment_dropdown.index])\n",
    "    plt.sort_legend_by(order, loc=\"center left\", bbox_to_anchor=(1, 0.5))\n",
    "    plt.show()\n",
    "\n",
    "    # plot the sensitivity measure (standard deviation of elementary effects) as a function of the number of model evaluations:\n",
    "    plot_functions.plot_convergence(sg_mean, n_EEs_convergence * (n_params + 1), X_Label='no of model evaluations', Y_Label='std of EEs', labelinput=param_names.tolist())\n",
    "    plt.title(\"Convergence of Standard Deviation\\n\" + list(dict_catchments.keys())[catchment_dropdown.index])\n",
    "    plt.sort_legend_by(order, loc=\"center left\", bbox_to_anchor=(1, 0.5))\n",
    "    plt.show()\n",
    "\n",
    "    # print overview of results\n",
    "    df_res = pd.DataFrame(np.vstack([param_names, mi_mean[-1], sg_mean[-1]]).T, columns=[\"Parameters\", \"Mean of EEs (x-axis)\", \"Standard deviation of EEs (y-axis)\"])\n",
    "    df_res[\"Mean of EEs (x-axis)\"] = df_res[\"Mean of EEs (x-axis)\"].astype(float).round(4)\n",
    "    df_res[\"Standard deviation of EEs (y-axis)\"] = df_res[\"Standard deviation of EEs (y-axis)\"].astype(float).round(4)\n",
    "    display(df_res.sort_values(\"Mean of EEs (x-axis)\", ascending=False))"
   ]
  },
  {
   "cell_type": "markdown",
   "id": "c9c9af0b-62e4-4d4b-a8d9-80aaddb01c93",
   "metadata": {
    "editable": true
   },
   "source": [
    "<div style=\"background:#e0f2fe; padding: 1%; border:1mm solid SkyBlue; color:black\">\n",
    "    <h4><span>&#129300 </span>Your Turn II: Bootstrapping</h4>\n",
    "    <ol>\n",
    "        <li>What do the colored rectangles in the first plot represent? How does this influence your ranking of paramter importance?</li>\n",
    "        <li>What parameter is most important? What parameter shows the largest interactions?</li>\n",
    "        <li>At what point have you reached a convergence in sensitivity?</li>\n",
    "    </ol>\n",
    "</div>"
   ]
  },
  {
   "cell_type": "markdown",
   "id": "ac3e34c38c328a51",
   "metadata": {},
   "source": [
    "_DOUBLE CLICK TO ANSWER HERE_"
   ]
  },
  {
   "cell_type": "markdown",
   "id": "f588ece5757b68b6",
   "metadata": {},
   "source": [
    "<div style=\"background:#e0f2fe; padding: 1%; border:1mm solid SkyBlue; color:black\"></div>"
   ]
  }
 ],
 "metadata": {
  "kernelspec": {
   "display_name": "Python 3 (ipykernel)",
   "language": "python",
   "name": "python3"
  },
  "language_info": {
   "codemirror_mode": {
    "name": "ipython",
    "version": 3
   },
   "file_extension": ".py",
   "mimetype": "text/x-python",
   "name": "python",
   "nbconvert_exporter": "python",
   "pygments_lexer": "ipython3",
   "version": "3.9.19"
  }
 },
 "nbformat": 4,
 "nbformat_minor": 5
}
